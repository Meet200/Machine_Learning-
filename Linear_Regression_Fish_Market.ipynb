{
  "nbformat": 4,
  "nbformat_minor": 0,
  "metadata": {
    "colab": {
      "name": "Linear_Regression_Fish_Market.ipynb",
      "provenance": [],
      "collapsed_sections": [],
      "authorship_tag": "ABX9TyM+4qjJLhO1C3YRq6Iz4Pzo",
      "include_colab_link": true
    },
    "kernelspec": {
      "name": "python3",
      "display_name": "Python 3"
    }
  },
  "cells": [
    {
      "cell_type": "markdown",
      "metadata": {
        "id": "view-in-github",
        "colab_type": "text"
      },
      "source": [
        "<a href=\"https://colab.research.google.com/github/Meet200/Machine_Learning-/blob/main/Linear_Regression_Fish_Market.ipynb\" target=\"_parent\"><img src=\"https://colab.research.google.com/assets/colab-badge.svg\" alt=\"Open In Colab\"/></a>"
      ]
    },
    {
      "cell_type": "markdown",
      "metadata": {
        "id": "fV5ErHyCPEx1"
      },
      "source": [
        "# Dataset Used :- Fish market by Kaggle\r\n",
        "# Basic understanding of dataset \r\n",
        "*   Length1:                  Vertical length in cm\r\n",
        "*   Length2:                  Diagonal length in cm\r\n",
        "*   Length3:                  Cross length in cm\r\n",
        "*   Height:                   Height in cm\r\n",
        "*   Width:                    Diagonal width in cm\r\n",
        "*   Species:                  Species name of fish\r\n",
        "*   Weight:                   Weight of fish in gram\r\n",
        "\r\n",
        "i am using Lenght1 and Lenght2 as input feature and output in single varient Linear regression\r\n"
      ]
    },
    {
      "cell_type": "code",
      "metadata": {
        "id": "FPAr0TbHNlBj"
      },
      "source": [
        "# Linear regression on Fish data set \r\n",
        "import numpy as np\r\n",
        "import matplotlib.pyplot as plt\r\n",
        "import pandas as pd\r\n"
      ],
      "execution_count": 1,
      "outputs": []
    },
    {
      "cell_type": "code",
      "metadata": {
        "id": "M3094ttWPDHS"
      },
      "source": [
        "from google.colab import drive"
      ],
      "execution_count": 2,
      "outputs": []
    },
    {
      "cell_type": "code",
      "metadata": {
        "colab": {
          "base_uri": "https://localhost:8080/"
        },
        "id": "-f5zBO3JZ2_3",
        "outputId": "56ab1b3c-8206-4e26-8bab-c1bac55d1997"
      },
      "source": [
        "drive.mount('/content/drive')"
      ],
      "execution_count": 3,
      "outputs": [
        {
          "output_type": "stream",
          "text": [
            "Mounted at /content/drive\n"
          ],
          "name": "stdout"
        }
      ]
    },
    {
      "cell_type": "code",
      "metadata": {
        "colab": {
          "base_uri": "https://localhost:8080/"
        },
        "id": "dvpOShT6Z_n6",
        "outputId": "ff4dad2b-fcab-41d0-b29d-f72bc08c9f9d"
      },
      "source": [
        "cd /content/drive/\"My Drive/Colab Notebooks/Linear regression\""
      ],
      "execution_count": 4,
      "outputs": [
        {
          "output_type": "stream",
          "text": [
            "/content/drive/My Drive/Colab Notebooks/Linear regression\n"
          ],
          "name": "stdout"
        }
      ]
    },
    {
      "cell_type": "code",
      "metadata": {
        "colab": {
          "base_uri": "https://localhost:8080/"
        },
        "id": "z4RLnLxUaD8R",
        "outputId": "2792edf1-b985-4ed6-ec33-bdb0c8cf13b0"
      },
      "source": [
        "dataset = pd.read_csv(\"Fish.csv\")\r\n",
        "print(dataset)\r\n",
        "dataset.shape"
      ],
      "execution_count": 5,
      "outputs": [
        {
          "output_type": "stream",
          "text": [
            "    Species  Weight  Length1  Length2  Length3   Height   Width\n",
            "0     Bream   242.0     23.2     25.4     30.0  11.5200  4.0200\n",
            "1     Bream   290.0     24.0     26.3     31.2  12.4800  4.3056\n",
            "2     Bream   340.0     23.9     26.5     31.1  12.3778  4.6961\n",
            "3     Bream   363.0     26.3     29.0     33.5  12.7300  4.4555\n",
            "4     Bream   430.0     26.5     29.0     34.0  12.4440  5.1340\n",
            "..      ...     ...      ...      ...      ...      ...     ...\n",
            "154   Smelt    12.2     11.5     12.2     13.4   2.0904  1.3936\n",
            "155   Smelt    13.4     11.7     12.4     13.5   2.4300  1.2690\n",
            "156   Smelt    12.2     12.1     13.0     13.8   2.2770  1.2558\n",
            "157   Smelt    19.7     13.2     14.3     15.2   2.8728  2.0672\n",
            "158   Smelt    19.9     13.8     15.0     16.2   2.9322  1.8792\n",
            "\n",
            "[159 rows x 7 columns]\n"
          ],
          "name": "stdout"
        },
        {
          "output_type": "execute_result",
          "data": {
            "text/plain": [
              "(159, 7)"
            ]
          },
          "metadata": {
            "tags": []
          },
          "execution_count": 5
        }
      ]
    },
    {
      "cell_type": "code",
      "metadata": {
        "colab": {
          "base_uri": "https://localhost:8080/",
          "height": 300
        },
        "id": "551VIWNqaOia",
        "outputId": "0cf098c5-d61a-4c4b-b882-43328dd384d8"
      },
      "source": [
        "dataf = pd.DataFrame(dataset)\r\n",
        "dataf.describe()"
      ],
      "execution_count": 6,
      "outputs": [
        {
          "output_type": "execute_result",
          "data": {
            "text/html": [
              "<div>\n",
              "<style scoped>\n",
              "    .dataframe tbody tr th:only-of-type {\n",
              "        vertical-align: middle;\n",
              "    }\n",
              "\n",
              "    .dataframe tbody tr th {\n",
              "        vertical-align: top;\n",
              "    }\n",
              "\n",
              "    .dataframe thead th {\n",
              "        text-align: right;\n",
              "    }\n",
              "</style>\n",
              "<table border=\"1\" class=\"dataframe\">\n",
              "  <thead>\n",
              "    <tr style=\"text-align: right;\">\n",
              "      <th></th>\n",
              "      <th>Weight</th>\n",
              "      <th>Length1</th>\n",
              "      <th>Length2</th>\n",
              "      <th>Length3</th>\n",
              "      <th>Height</th>\n",
              "      <th>Width</th>\n",
              "    </tr>\n",
              "  </thead>\n",
              "  <tbody>\n",
              "    <tr>\n",
              "      <th>count</th>\n",
              "      <td>159.000000</td>\n",
              "      <td>159.000000</td>\n",
              "      <td>159.000000</td>\n",
              "      <td>159.000000</td>\n",
              "      <td>159.000000</td>\n",
              "      <td>159.000000</td>\n",
              "    </tr>\n",
              "    <tr>\n",
              "      <th>mean</th>\n",
              "      <td>398.326415</td>\n",
              "      <td>26.247170</td>\n",
              "      <td>28.415723</td>\n",
              "      <td>31.227044</td>\n",
              "      <td>8.970994</td>\n",
              "      <td>4.417486</td>\n",
              "    </tr>\n",
              "    <tr>\n",
              "      <th>std</th>\n",
              "      <td>357.978317</td>\n",
              "      <td>9.996441</td>\n",
              "      <td>10.716328</td>\n",
              "      <td>11.610246</td>\n",
              "      <td>4.286208</td>\n",
              "      <td>1.685804</td>\n",
              "    </tr>\n",
              "    <tr>\n",
              "      <th>min</th>\n",
              "      <td>0.000000</td>\n",
              "      <td>7.500000</td>\n",
              "      <td>8.400000</td>\n",
              "      <td>8.800000</td>\n",
              "      <td>1.728400</td>\n",
              "      <td>1.047600</td>\n",
              "    </tr>\n",
              "    <tr>\n",
              "      <th>25%</th>\n",
              "      <td>120.000000</td>\n",
              "      <td>19.050000</td>\n",
              "      <td>21.000000</td>\n",
              "      <td>23.150000</td>\n",
              "      <td>5.944800</td>\n",
              "      <td>3.385650</td>\n",
              "    </tr>\n",
              "    <tr>\n",
              "      <th>50%</th>\n",
              "      <td>273.000000</td>\n",
              "      <td>25.200000</td>\n",
              "      <td>27.300000</td>\n",
              "      <td>29.400000</td>\n",
              "      <td>7.786000</td>\n",
              "      <td>4.248500</td>\n",
              "    </tr>\n",
              "    <tr>\n",
              "      <th>75%</th>\n",
              "      <td>650.000000</td>\n",
              "      <td>32.700000</td>\n",
              "      <td>35.500000</td>\n",
              "      <td>39.650000</td>\n",
              "      <td>12.365900</td>\n",
              "      <td>5.584500</td>\n",
              "    </tr>\n",
              "    <tr>\n",
              "      <th>max</th>\n",
              "      <td>1650.000000</td>\n",
              "      <td>59.000000</td>\n",
              "      <td>63.400000</td>\n",
              "      <td>68.000000</td>\n",
              "      <td>18.957000</td>\n",
              "      <td>8.142000</td>\n",
              "    </tr>\n",
              "  </tbody>\n",
              "</table>\n",
              "</div>"
            ],
            "text/plain": [
              "            Weight     Length1     Length2     Length3      Height       Width\n",
              "count   159.000000  159.000000  159.000000  159.000000  159.000000  159.000000\n",
              "mean    398.326415   26.247170   28.415723   31.227044    8.970994    4.417486\n",
              "std     357.978317    9.996441   10.716328   11.610246    4.286208    1.685804\n",
              "min       0.000000    7.500000    8.400000    8.800000    1.728400    1.047600\n",
              "25%     120.000000   19.050000   21.000000   23.150000    5.944800    3.385650\n",
              "50%     273.000000   25.200000   27.300000   29.400000    7.786000    4.248500\n",
              "75%     650.000000   32.700000   35.500000   39.650000   12.365900    5.584500\n",
              "max    1650.000000   59.000000   63.400000   68.000000   18.957000    8.142000"
            ]
          },
          "metadata": {
            "tags": []
          },
          "execution_count": 6
        }
      ]
    },
    {
      "cell_type": "code",
      "metadata": {
        "id": "YdVRx7Z2aVmf"
      },
      "source": [
        "x_value = dataf.iloc[0:159,2:3]\r\n",
        "y_value = dataf.iloc[0:159,3:4]"
      ],
      "execution_count": 7,
      "outputs": []
    },
    {
      "cell_type": "code",
      "metadata": {
        "colab": {
          "base_uri": "https://localhost:8080/",
          "height": 424
        },
        "id": "gvm4hMKhaiI2",
        "outputId": "efe87033-ae98-48ba-eca5-803bcd993055"
      },
      "source": [
        "x_value"
      ],
      "execution_count": 8,
      "outputs": [
        {
          "output_type": "execute_result",
          "data": {
            "text/html": [
              "<div>\n",
              "<style scoped>\n",
              "    .dataframe tbody tr th:only-of-type {\n",
              "        vertical-align: middle;\n",
              "    }\n",
              "\n",
              "    .dataframe tbody tr th {\n",
              "        vertical-align: top;\n",
              "    }\n",
              "\n",
              "    .dataframe thead th {\n",
              "        text-align: right;\n",
              "    }\n",
              "</style>\n",
              "<table border=\"1\" class=\"dataframe\">\n",
              "  <thead>\n",
              "    <tr style=\"text-align: right;\">\n",
              "      <th></th>\n",
              "      <th>Length1</th>\n",
              "    </tr>\n",
              "  </thead>\n",
              "  <tbody>\n",
              "    <tr>\n",
              "      <th>0</th>\n",
              "      <td>23.2</td>\n",
              "    </tr>\n",
              "    <tr>\n",
              "      <th>1</th>\n",
              "      <td>24.0</td>\n",
              "    </tr>\n",
              "    <tr>\n",
              "      <th>2</th>\n",
              "      <td>23.9</td>\n",
              "    </tr>\n",
              "    <tr>\n",
              "      <th>3</th>\n",
              "      <td>26.3</td>\n",
              "    </tr>\n",
              "    <tr>\n",
              "      <th>4</th>\n",
              "      <td>26.5</td>\n",
              "    </tr>\n",
              "    <tr>\n",
              "      <th>...</th>\n",
              "      <td>...</td>\n",
              "    </tr>\n",
              "    <tr>\n",
              "      <th>154</th>\n",
              "      <td>11.5</td>\n",
              "    </tr>\n",
              "    <tr>\n",
              "      <th>155</th>\n",
              "      <td>11.7</td>\n",
              "    </tr>\n",
              "    <tr>\n",
              "      <th>156</th>\n",
              "      <td>12.1</td>\n",
              "    </tr>\n",
              "    <tr>\n",
              "      <th>157</th>\n",
              "      <td>13.2</td>\n",
              "    </tr>\n",
              "    <tr>\n",
              "      <th>158</th>\n",
              "      <td>13.8</td>\n",
              "    </tr>\n",
              "  </tbody>\n",
              "</table>\n",
              "<p>159 rows × 1 columns</p>\n",
              "</div>"
            ],
            "text/plain": [
              "     Length1\n",
              "0       23.2\n",
              "1       24.0\n",
              "2       23.9\n",
              "3       26.3\n",
              "4       26.5\n",
              "..       ...\n",
              "154     11.5\n",
              "155     11.7\n",
              "156     12.1\n",
              "157     13.2\n",
              "158     13.8\n",
              "\n",
              "[159 rows x 1 columns]"
            ]
          },
          "metadata": {
            "tags": []
          },
          "execution_count": 8
        }
      ]
    },
    {
      "cell_type": "code",
      "metadata": {
        "colab": {
          "base_uri": "https://localhost:8080/",
          "height": 424
        },
        "id": "BO9EMO5patc7",
        "outputId": "38b4995e-0412-4a71-a45d-102d35fdb524"
      },
      "source": [
        "y_value"
      ],
      "execution_count": 9,
      "outputs": [
        {
          "output_type": "execute_result",
          "data": {
            "text/html": [
              "<div>\n",
              "<style scoped>\n",
              "    .dataframe tbody tr th:only-of-type {\n",
              "        vertical-align: middle;\n",
              "    }\n",
              "\n",
              "    .dataframe tbody tr th {\n",
              "        vertical-align: top;\n",
              "    }\n",
              "\n",
              "    .dataframe thead th {\n",
              "        text-align: right;\n",
              "    }\n",
              "</style>\n",
              "<table border=\"1\" class=\"dataframe\">\n",
              "  <thead>\n",
              "    <tr style=\"text-align: right;\">\n",
              "      <th></th>\n",
              "      <th>Length2</th>\n",
              "    </tr>\n",
              "  </thead>\n",
              "  <tbody>\n",
              "    <tr>\n",
              "      <th>0</th>\n",
              "      <td>25.4</td>\n",
              "    </tr>\n",
              "    <tr>\n",
              "      <th>1</th>\n",
              "      <td>26.3</td>\n",
              "    </tr>\n",
              "    <tr>\n",
              "      <th>2</th>\n",
              "      <td>26.5</td>\n",
              "    </tr>\n",
              "    <tr>\n",
              "      <th>3</th>\n",
              "      <td>29.0</td>\n",
              "    </tr>\n",
              "    <tr>\n",
              "      <th>4</th>\n",
              "      <td>29.0</td>\n",
              "    </tr>\n",
              "    <tr>\n",
              "      <th>...</th>\n",
              "      <td>...</td>\n",
              "    </tr>\n",
              "    <tr>\n",
              "      <th>154</th>\n",
              "      <td>12.2</td>\n",
              "    </tr>\n",
              "    <tr>\n",
              "      <th>155</th>\n",
              "      <td>12.4</td>\n",
              "    </tr>\n",
              "    <tr>\n",
              "      <th>156</th>\n",
              "      <td>13.0</td>\n",
              "    </tr>\n",
              "    <tr>\n",
              "      <th>157</th>\n",
              "      <td>14.3</td>\n",
              "    </tr>\n",
              "    <tr>\n",
              "      <th>158</th>\n",
              "      <td>15.0</td>\n",
              "    </tr>\n",
              "  </tbody>\n",
              "</table>\n",
              "<p>159 rows × 1 columns</p>\n",
              "</div>"
            ],
            "text/plain": [
              "     Length2\n",
              "0       25.4\n",
              "1       26.3\n",
              "2       26.5\n",
              "3       29.0\n",
              "4       29.0\n",
              "..       ...\n",
              "154     12.2\n",
              "155     12.4\n",
              "156     13.0\n",
              "157     14.3\n",
              "158     15.0\n",
              "\n",
              "[159 rows x 1 columns]"
            ]
          },
          "metadata": {
            "tags": []
          },
          "execution_count": 9
        }
      ]
    },
    {
      "cell_type": "code",
      "metadata": {
        "colab": {
          "base_uri": "https://localhost:8080/",
          "height": 265
        },
        "id": "wXrT6nVuaxgk",
        "outputId": "68a32f56-d81b-4047-9b0b-bab0fb6051dc"
      },
      "source": [
        "x_box=x_value.boxplot(column=['Length1'])"
      ],
      "execution_count": 10,
      "outputs": [
        {
          "output_type": "display_data",
          "data": {
            "image/png": "[encoded data removed]",
            "text/plain": [
              "<Figure size 432x288 with 1 Axes>"
            ]
          },
          "metadata": {
            "tags": [],
            "needs_background": "light"
          }
        }
      ]
    },
    {
      "cell_type": "code",
      "metadata": {
        "colab": {
          "base_uri": "https://localhost:8080/",
          "height": 265
        },
        "id": "iUjLRhaHa9c8",
        "outputId": "2b39b67c-1633-431b-de57-8e7c5dcccb55"
      },
      "source": [
        "y_box=y_value.boxplot(column=['Length2'])"
      ],
      "execution_count": 11,
      "outputs": [
        {
          "output_type": "display_data",
          "data": {
            "image/png": "[encoded data removed]",
            "text/plain": [
              "<Figure size 432x288 with 1 Axes>"
            ]
          },
          "metadata": {
            "tags": [],
            "needs_background": "light"
          }
        }
      ]
    },
    {
      "cell_type": "code",
      "metadata": {
        "colab": {
          "base_uri": "https://localhost:8080/",
          "height": 313
        },
        "id": "nLpGqUSJbA8_",
        "outputId": "4267bfa4-cbf4-4bb6-b34e-b59993c5ceb8"
      },
      "source": [
        "import matplotlib.pyplot as plt\r\n",
        "plt.scatter(x_value,y_value)\r\n",
        "plt.xticks(np.arange(7,65,step=5))\r\n",
        "plt.yticks(np.arange(8,65,step=5))\r\n",
        "plt.xlabel(\"x-value\")\r\n",
        "plt.ylabel(\"y-value\")\r\n",
        "plt.title(\"1st LR Scatter plot \")"
      ],
      "execution_count": 12,
      "outputs": [
        {
          "output_type": "execute_result",
          "data": {
            "text/plain": [
              "Text(0.5, 1.0, '1st LR Scatter plot ')"
            ]
          },
          "metadata": {
            "tags": []
          },
          "execution_count": 12
        },
        {
          "output_type": "display_data",
          "data": {
            "image/png": "[encoded data removed]",
            "text/plain": [
              "<Figure size 432x288 with 1 Axes>"
            ]
          },
          "metadata": {
            "tags": [],
            "needs_background": "light"
          }
        }
      ]
    },
    {
      "cell_type": "code",
      "metadata": {
        "id": "78JV23M4bGdo"
      },
      "source": [
        "#define hypothesis  H(x) = theta_array[0]+theta_array[1]*x\r\n",
        "def hypothesis(theta_array,x):  #theta_array =[theta_array[0],theta_araay[1]]\r\n",
        "  return theta_array[0] + theta_array[1]*x\r\n"
      ],
      "execution_count": 13,
      "outputs": []
    },
    {
      "cell_type": "code",
      "metadata": {
        "id": "Bpj7sn4gbZL3"
      },
      "source": [
        "def cost_function(theta_array, x_value, y_value, m):\r\n",
        "    # This function returns our cost function value at particular theta values\r\n",
        "    total_error = 0\r\n",
        "    for i in range(m):\r\n",
        "        total_error += (theta_array[0] + theta_array[1]*x_value[i] - y_value[i])**2\r\n",
        "    return total_error/(2*m)"
      ],
      "execution_count": 14,
      "outputs": []
    },
    {
      "cell_type": "code",
      "metadata": {
        "id": "0YiP_BbdbcaR"
      },
      "source": [
        "def gradient_descent(theta_array,x,y,alpha,m):\r\n",
        "    summation_theta0 = 0\r\n",
        "    summation_theta1 = 0\r\n",
        "\r\n",
        "    for i in range(m):\r\n",
        "        summation_theta0+=((theta_array[0]+theta_array[1]*x[i]) - y[i])\r\n",
        "        summation_theta1+=(((theta_array[0]+theta_array[1]*x[i]) - y[i])*x[i])\r\n",
        "\r\n",
        "    new_theta0 = theta_array[0]-alpha*(summation_theta0/m)\r\n",
        "    new_theta1 = theta_array[1]-alpha*(summation_theta1/m)\r\n",
        "\r\n",
        "    updated_theta_array = [new_theta0,new_theta1]\r\n",
        "    print(updated_theta_array)\r\n",
        "    return updated_theta_array"
      ],
      "execution_count": 15,
      "outputs": []
    },
    {
      "cell_type": "code",
      "metadata": {
        "id": "9F2mtdyCbhde"
      },
      "source": [
        "def training(x,y,alpha,iters):\r\n",
        "    theta_0 = 0\r\n",
        "    theta_1 = 0\r\n",
        "    theta_array = [theta_0,theta_1]\r\n",
        "\r\n",
        "    m=x.size                #size of the data set or the number of observation\r\n",
        "    cost_function_values = []\r\n",
        "    for i in range(iters):\r\n",
        "        theta_array = gradient_descent(theta_array,x,y,alpha,m)     #taking the new theta's\r\n",
        "        cost_function_values.append(cost_function(theta_array,x,y,m))   #taking all the cost function values and storing\r\n",
        "        if(i%6==0):\r\n",
        "            y_new=x*theta_array[1]+theta_array[0]       #linear regression line\r\n",
        "            plt.plot(x,y_new,'r')\r\n",
        "            plt.scatter(x,y)\r\n",
        "            plt.show()\r\n",
        "\r\n",
        "    x=np.arange(0,len(cost_function_values),step=1)\r\n",
        "    plt.plot(x,cost_function_values,\"-b\")\r\n",
        "    plt.xlabel(\"number of iteration\")\r\n",
        "    plt.ylabel(\"Cost/loss values\")\r\n",
        "    plt.title(\"cost Function curve\")\r\n",
        "    plt.show()\r\n",
        "    return theta_array"
      ],
      "execution_count": 16,
      "outputs": []
    },
    {
      "cell_type": "code",
      "metadata": {
        "colab": {
          "base_uri": "https://localhost:8080/",
          "height": 424
        },
        "id": "LRGuPAJibkcl",
        "outputId": "71f66925-217e-4354-cb5d-f6b1f47cc125"
      },
      "source": [
        "training_data=pd.read_csv(\"Fish.csv\")\r\n",
        "cleaning_data = training_data.dropna()   # drops the observation for not a number\r\n",
        "cleaning_data"
      ],
      "execution_count": 17,
      "outputs": [
        {
          "output_type": "execute_result",
          "data": {
            "text/html": [
              "<div>\n",
              "<style scoped>\n",
              "    .dataframe tbody tr th:only-of-type {\n",
              "        vertical-align: middle;\n",
              "    }\n",
              "\n",
              "    .dataframe tbody tr th {\n",
              "        vertical-align: top;\n",
              "    }\n",
              "\n",
              "    .dataframe thead th {\n",
              "        text-align: right;\n",
              "    }\n",
              "</style>\n",
              "<table border=\"1\" class=\"dataframe\">\n",
              "  <thead>\n",
              "    <tr style=\"text-align: right;\">\n",
              "      <th></th>\n",
              "      <th>Species</th>\n",
              "      <th>Weight</th>\n",
              "      <th>Length1</th>\n",
              "      <th>Length2</th>\n",
              "      <th>Length3</th>\n",
              "      <th>Height</th>\n",
              "      <th>Width</th>\n",
              "    </tr>\n",
              "  </thead>\n",
              "  <tbody>\n",
              "    <tr>\n",
              "      <th>0</th>\n",
              "      <td>Bream</td>\n",
              "      <td>242.0</td>\n",
              "      <td>23.2</td>\n",
              "      <td>25.4</td>\n",
              "      <td>30.0</td>\n",
              "      <td>11.5200</td>\n",
              "      <td>4.0200</td>\n",
              "    </tr>\n",
              "    <tr>\n",
              "      <th>1</th>\n",
              "      <td>Bream</td>\n",
              "      <td>290.0</td>\n",
              "      <td>24.0</td>\n",
              "      <td>26.3</td>\n",
              "      <td>31.2</td>\n",
              "      <td>12.4800</td>\n",
              "      <td>4.3056</td>\n",
              "    </tr>\n",
              "    <tr>\n",
              "      <th>2</th>\n",
              "      <td>Bream</td>\n",
              "      <td>340.0</td>\n",
              "      <td>23.9</td>\n",
              "      <td>26.5</td>\n",
              "      <td>31.1</td>\n",
              "      <td>12.3778</td>\n",
              "      <td>4.6961</td>\n",
              "    </tr>\n",
              "    <tr>\n",
              "      <th>3</th>\n",
              "      <td>Bream</td>\n",
              "      <td>363.0</td>\n",
              "      <td>26.3</td>\n",
              "      <td>29.0</td>\n",
              "      <td>33.5</td>\n",
              "      <td>12.7300</td>\n",
              "      <td>4.4555</td>\n",
              "    </tr>\n",
              "    <tr>\n",
              "      <th>4</th>\n",
              "      <td>Bream</td>\n",
              "      <td>430.0</td>\n",
              "      <td>26.5</td>\n",
              "      <td>29.0</td>\n",
              "      <td>34.0</td>\n",
              "      <td>12.4440</td>\n",
              "      <td>5.1340</td>\n",
              "    </tr>\n",
              "    <tr>\n",
              "      <th>...</th>\n",
              "      <td>...</td>\n",
              "      <td>...</td>\n",
              "      <td>...</td>\n",
              "      <td>...</td>\n",
              "      <td>...</td>\n",
              "      <td>...</td>\n",
              "      <td>...</td>\n",
              "    </tr>\n",
              "    <tr>\n",
              "      <th>154</th>\n",
              "      <td>Smelt</td>\n",
              "      <td>12.2</td>\n",
              "      <td>11.5</td>\n",
              "      <td>12.2</td>\n",
              "      <td>13.4</td>\n",
              "      <td>2.0904</td>\n",
              "      <td>1.3936</td>\n",
              "    </tr>\n",
              "    <tr>\n",
              "      <th>155</th>\n",
              "      <td>Smelt</td>\n",
              "      <td>13.4</td>\n",
              "      <td>11.7</td>\n",
              "      <td>12.4</td>\n",
              "      <td>13.5</td>\n",
              "      <td>2.4300</td>\n",
              "      <td>1.2690</td>\n",
              "    </tr>\n",
              "    <tr>\n",
              "      <th>156</th>\n",
              "      <td>Smelt</td>\n",
              "      <td>12.2</td>\n",
              "      <td>12.1</td>\n",
              "      <td>13.0</td>\n",
              "      <td>13.8</td>\n",
              "      <td>2.2770</td>\n",
              "      <td>1.2558</td>\n",
              "    </tr>\n",
              "    <tr>\n",
              "      <th>157</th>\n",
              "      <td>Smelt</td>\n",
              "      <td>19.7</td>\n",
              "      <td>13.2</td>\n",
              "      <td>14.3</td>\n",
              "      <td>15.2</td>\n",
              "      <td>2.8728</td>\n",
              "      <td>2.0672</td>\n",
              "    </tr>\n",
              "    <tr>\n",
              "      <th>158</th>\n",
              "      <td>Smelt</td>\n",
              "      <td>19.9</td>\n",
              "      <td>13.8</td>\n",
              "      <td>15.0</td>\n",
              "      <td>16.2</td>\n",
              "      <td>2.9322</td>\n",
              "      <td>1.8792</td>\n",
              "    </tr>\n",
              "  </tbody>\n",
              "</table>\n",
              "<p>159 rows × 7 columns</p>\n",
              "</div>"
            ],
            "text/plain": [
              "    Species  Weight  Length1  Length2  Length3   Height   Width\n",
              "0     Bream   242.0     23.2     25.4     30.0  11.5200  4.0200\n",
              "1     Bream   290.0     24.0     26.3     31.2  12.4800  4.3056\n",
              "2     Bream   340.0     23.9     26.5     31.1  12.3778  4.6961\n",
              "3     Bream   363.0     26.3     29.0     33.5  12.7300  4.4555\n",
              "4     Bream   430.0     26.5     29.0     34.0  12.4440  5.1340\n",
              "..      ...     ...      ...      ...      ...      ...     ...\n",
              "154   Smelt    12.2     11.5     12.2     13.4   2.0904  1.3936\n",
              "155   Smelt    13.4     11.7     12.4     13.5   2.4300  1.2690\n",
              "156   Smelt    12.2     12.1     13.0     13.8   2.2770  1.2558\n",
              "157   Smelt    19.7     13.2     14.3     15.2   2.8728  2.0672\n",
              "158   Smelt    19.9     13.8     15.0     16.2   2.9322  1.8792\n",
              "\n",
              "[159 rows x 7 columns]"
            ]
          },
          "metadata": {
            "tags": []
          },
          "execution_count": 17
        }
      ]
    },
    {
      "cell_type": "code",
      "metadata": {
        "colab": {
          "base_uri": "https://localhost:8080/"
        },
        "id": "nQMnmxIDboMl",
        "outputId": "61938b78-f4d8-4db7-f43b-173b068e7af0"
      },
      "source": [
        "x_train=cleaning_data['Length1']\r\n",
        "y_train=cleaning_data['Length2']\r\n",
        "x_value = x_train.values.reshape(x_train.size)\r\n",
        "x_value.shape"
      ],
      "execution_count": 18,
      "outputs": [
        {
          "output_type": "execute_result",
          "data": {
            "text/plain": [
              "(159,)"
            ]
          },
          "metadata": {
            "tags": []
          },
          "execution_count": 18
        }
      ]
    },
    {
      "cell_type": "code",
      "metadata": {
        "colab": {
          "base_uri": "https://localhost:8080/"
        },
        "id": "A11DEJiWbyl_",
        "outputId": "759a4dc6-fcda-4049-a447-fae840570077"
      },
      "source": [
        "y_value = y_train.values.reshape(y_train.size)\r\n",
        "y_value.shape"
      ],
      "execution_count": 19,
      "outputs": [
        {
          "output_type": "execute_result",
          "data": {
            "text/plain": [
              "(159,)"
            ]
          },
          "metadata": {
            "tags": []
          },
          "execution_count": 19
        }
      ]
    },
    {
      "cell_type": "code",
      "metadata": {
        "colab": {
          "base_uri": "https://localhost:8080/",
          "height": 1000
        },
        "id": "WL-eB7yGb1DL",
        "outputId": "11099bf6-3d8f-4ba0-d663-ac9b161d6a53"
      },
      "source": [
        "alpha=0.001\r\n",
        "iter=100\r\n",
        "#training(x_value,y_value,alpha,iter)\r\n",
        "theta_array=training(x_value,y_value,alpha,iter)"
      ],
      "execution_count": 20,
      "outputs": [
        {
          "output_type": "stream",
          "text": [
            "[0.028415723270440254, 0.8522323270440249]\n"
          ],
          "name": "stdout"
        },
        {
          "output_type": "display_data",
          "data": {
            "image/png": "[encoded data removed]",
            "text/plain": [
              "<Figure size 432x288 with 1 Axes>"
            ]
          },
          "metadata": {
            "tags": [],
            "needs_background": "light"
          }
        },
        {
          "output_type": "stream",
          "text": [
            "[0.034434344210988496, 1.0319771345075035]\n",
            "[0.03572915404639911, 1.0698865467944059]\n",
            "[0.03602765429023262, 1.0778812340007213]\n",
            "[0.036116018121129745, 1.0795665598264432]\n",
            "[0.036160058555060846, 1.0799211684749155]\n",
            "[0.036194747475145, 1.079995113587262]\n"
          ],
          "name": "stdout"
        },
        {
          "output_type": "display_data",
          "data": {
            "image/png": "[encoded data removed]",
            "text/plain": [
              "<Figure size 432x288 with 1 Axes>"
            ]
          },
          "metadata": {
            "tags": [],
            "needs_background": "light"
          }
        },
        {
          "output_type": "stream",
          "text": [
            "[0.03622746085638859, 1.0800098636203868]\n",
            "[0.03625975437762679, 1.0800121288331477]\n",
            "[0.03629195614991976, 1.080011760959335]\n",
            "[0.036324135376086863, 1.0800108378435278]\n",
            "[0.03635630665220515, 1.0800097977271652]\n",
            "[0.03638847305715811, 1.0800087330404218]\n"
          ],
          "name": "stdout"
        },
        {
          "output_type": "display_data",
          "data": {
            "image/png": "[encoded data removed]",
            "text/plain": [
              "<Figure size 432x288 with 1 Axes>"
            ]
          },
          "metadata": {
            "tags": [],
            "needs_background": "light"
          }
        },
        {
          "output_type": "stream",
          "text": [
            "[0.03642063524071987, 1.0800076632778768]\n",
            "[0.03645279334033724, 1.080006592551149]\n",
            "[0.03648494738540124, 1.0800055217274132]\n",
            "[0.03651709738251261, 1.0800044509895528]\n",
            "[0.03654924333346531, 1.080003380376127]\n",
            "[0.03658138523903945, 1.080002309895255]\n"
          ],
          "name": "stdout"
        },
        {
          "output_type": "display_data",
          "data": {
            "image/png": "[encoded data removed]",
            "text/plain": [
              "<Figure size 432x288 with 1 Axes>"
            ]
          },
          "metadata": {
            "tags": [],
            "needs_background": "light"
          }
        },
        {
          "output_type": "stream",
          "text": [
            "[0.036613523099801246, 1.0800012395486354]\n",
            "[0.03664565691627176, 1.0800001693366137]\n",
            "[0.03667778668896247, 1.079999099259249]\n",
            "[0.03670991241838279, 1.0799980293165405]\n",
            "[0.03674203410504165, 1.0799969595084749]\n",
            "[0.036774151749447814, 1.0799958898350355]\n"
          ],
          "name": "stdout"
        },
        {
          "output_type": "display_data",
          "data": {
            "image/png": "[encoded data removed]",
            "text/plain": [
              "<Figure size 432x288 with 1 Axes>"
            ]
          },
          "metadata": {
            "tags": [],
            "needs_background": "light"
          }
        },
        {
          "output_type": "stream",
          "text": [
            "[0.03680626535210998, 1.0799948202962057]\n",
            "[0.03683837491353677, 1.0799937508919688]\n",
            "[0.036870480434236734, 1.0799926816223078]\n",
            "[0.03690258191471837, 1.0799916124872055]\n",
            "[0.0369346793554901, 1.0799905434866452]\n",
            "[0.03696677275706029, 1.07998947462061]\n"
          ],
          "name": "stdout"
        },
        {
          "output_type": "display_data",
          "data": {
            "image/png": "[encoded data removed]",
            "text/plain": [
              "<Figure size 432x288 with 1 Axes>"
            ]
          },
          "metadata": {
            "tags": [],
            "needs_background": "light"
          }
        },
        {
          "output_type": "stream",
          "text": [
            "[0.03699886211993724, 1.0799884058890827]\n",
            "[0.037030947444629196, 1.0799873372920468]\n",
            "[0.037063028731644326, 1.079986268829485]\n",
            "[0.03709510598149073, 1.0799852005013804]\n",
            "[0.03712717919467647, 1.0799841323077164]\n",
            "[0.037159248371709516, 1.0799830642484758]\n"
          ],
          "name": "stdout"
        },
        {
          "output_type": "display_data",
          "data": {
            "image/png": "[encoded data removed]",
            "text/plain": [
              "<Figure size 432x288 with 1 Axes>"
            ]
          },
          "metadata": {
            "tags": [],
            "needs_background": "light"
          }
        },
        {
          "output_type": "stream",
          "text": [
            "[0.03719131351309778, 1.0799819963236417]\n",
            "[0.037223374619349124, 1.0799809285331972]\n",
            "[0.037255431690971334, 1.0799798608771254]\n",
            "[0.03728748472847214, 1.0799787933554095]\n",
            "[0.037319533732359196, 1.0799777259680325]\n",
            "[0.037351578703140105, 1.0799766587149777]\n"
          ],
          "name": "stdout"
        },
        {
          "output_type": "display_data",
          "data": {
            "image/png": "[encoded data removed]",
            "text/plain": [
              "<Figure size 432x288 with 1 Axes>"
            ]
          },
          "metadata": {
            "tags": [],
            "needs_background": "light"
          }
        },
        {
          "output_type": "stream",
          "text": [
            "[0.0373836196413224, 1.079975591596228]\n",
            "[0.037415656547413544, 1.0799745246117662]\n",
            "[0.03744768942192095, 1.0799734577615758]\n",
            "[0.03747971826535196, 1.07997239104564]\n",
            "[0.03751174307821384, 1.0799713244639415]\n",
            "[0.03754376386101382, 1.0799702580164638]\n"
          ],
          "name": "stdout"
        },
        {
          "output_type": "display_data",
          "data": {
            "image/png": "[encoded data removed]",
            "text/plain": [
              "<Figure size 432x288 with 1 Axes>"
            ]
          },
          "metadata": {
            "tags": [],
            "needs_background": "light"
          }
        },
        {
          "output_type": "stream",
          "text": [
            "[0.037575780614259036, 1.0799691917031897]\n",
            "[0.03760779333845659, 1.0799681255241025]\n",
            "[0.0376398020341135, 1.0799670594791853]\n",
            "[0.03767180670173672, 1.0799659935684212]\n",
            "[0.037703807341833144, 1.079964927791793]\n",
            "[0.03773580395490961, 1.0799638621492844]\n"
          ],
          "name": "stdout"
        },
        {
          "output_type": "display_data",
          "data": {
            "image/png": "[encoded data removed]",
            "text/plain": [
              "<Figure size 432x288 with 1 Axes>"
            ]
          },
          "metadata": {
            "tags": [],
            "needs_background": "light"
          }
        },
        {
          "output_type": "stream",
          "text": [
            "[0.03776779654147288, 1.0799627966408782]\n",
            "[0.037799785102029665, 1.0799617312665575]\n",
            "[0.0378317696370866, 1.0799606660263055]\n",
            "[0.037863750147150266, 1.0799596009201053]\n",
            "[0.03789572663272717, 1.07995853594794]\n",
            "[0.03792769909432376, 1.0799574711097928]\n"
          ],
          "name": "stdout"
        },
        {
          "output_type": "display_data",
          "data": {
            "image/png": "[encoded data removed]",
            "text/plain": [
              "<Figure size 432x288 with 1 Axes>"
            ]
          },
          "metadata": {
            "tags": [],
            "needs_background": "light"
          }
        },
        {
          "output_type": "stream",
          "text": [
            "[0.03795966753244643, 1.0799564064056468]\n",
            "[0.037991631947601495, 1.0799553418354852]\n",
            "[0.03802359234029521, 1.0799542773992912]\n",
            "[0.038055548711033775, 1.0799532130970475]\n",
            "[0.03808750106032332, 1.0799521489287378]\n",
            "[0.0381194493886699, 1.079951084894345]\n"
          ],
          "name": "stdout"
        },
        {
          "output_type": "display_data",
          "data": {
            "image/png": "[encoded data removed]",
            "text/plain": [
              "<Figure size 432x288 with 1 Axes>"
            ]
          },
          "metadata": {
            "tags": [],
            "needs_background": "light"
          }
        },
        {
          "output_type": "stream",
          "text": [
            "[0.038151393696579536, 1.0799500209938522]\n",
            "[0.03818333398455816, 1.0799489572272425]\n",
            "[0.038215270253111645, 1.0799478935944995]\n",
            "[0.0382472025027458, 1.0799468300956057]\n",
            "[0.038279130733966375, 1.0799457667305448]\n",
            "[0.03831105494727906, 1.0799447034992995]\n"
          ],
          "name": "stdout"
        },
        {
          "output_type": "display_data",
          "data": {
            "image/png": "[encoded data removed]",
            "text/plain": [
              "<Figure size 432x288 with 1 Axes>"
            ]
          },
          "metadata": {
            "tags": [],
            "needs_background": "light"
          }
        },
        {
          "output_type": "stream",
          "text": [
            "[0.038342975143189476, 1.0799436404018534]\n",
            "[0.038374891322203175, 1.0799425774381894]\n",
            "[0.03840680348482565, 1.0799415146082907]\n",
            "[0.03843871163156234, 1.0799404519121405]\n",
            "[0.038470615762918596, 1.079939389349722]\n",
            "[0.038502515879399735, 1.0799383269210183]\n"
          ],
          "name": "stdout"
        },
        {
          "output_type": "display_data",
          "data": {
            "image/png": "[encoded data removed]",
            "text/plain": [
              "<Figure size 432x288 with 1 Axes>"
            ]
          },
          "metadata": {
            "tags": [],
            "needs_background": "light"
          }
        },
        {
          "output_type": "stream",
          "text": [
            "[0.03853441198151099, 1.0799372646260126]\n",
            "[0.038566304069757536, 1.079936202464688]\n",
            "[0.038598192144644494, 1.0799351404370277]\n",
            "[0.03863007620667691, 1.079934078543015]\n",
            "[0.038661956256359764, 1.079933016782633]\n",
            "[0.038693832294197976, 1.079931955155865]\n"
          ],
          "name": "stdout"
        },
        {
          "output_type": "display_data",
          "data": {
            "image/png": "[encoded data removed]",
            "text/plain": [
              "<Figure size 432x288 with 1 Axes>"
            ]
          },
          "metadata": {
            "tags": [],
            "needs_background": "light"
          }
        },
        {
          "output_type": "stream",
          "text": [
            "[0.03872570432069641, 1.0799308936626941]\n",
            "[0.038757572336359854, 1.0799298323031035]\n",
            "[0.038789436341693045, 1.0799287710770762]\n",
            "[0.03882129633720065, 1.0799277099845956]\n",
            "[0.03885315232338726, 1.0799266490256447]\n",
            "[0.03888500430075744, 1.0799255882002072]\n"
          ],
          "name": "stdout"
        },
        {
          "output_type": "display_data",
          "data": {
            "image/png": "[encoded data removed]",
            "text/plain": [
              "<Figure size 432x288 with 1 Axes>"
            ]
          },
          "metadata": {
            "tags": [],
            "needs_background": "light"
          }
        },
        {
          "output_type": "stream",
          "text": [
            "[0.038916852269815644, 1.0799245275082658]\n",
            "[0.038948696231066296, 1.0799234669498037]\n",
            "[0.038980536185013744, 1.0799224065248043]\n",
            "[0.03901237213216228, 1.0799213462332509]\n",
            "[0.03904420407301611, 1.0799202860751265]\n",
            "[0.039076032008079416, 1.0799192260504142]\n"
          ],
          "name": "stdout"
        },
        {
          "output_type": "display_data",
          "data": {
            "image/png": "[encoded data removed]",
            "text/plain": [
              "<Figure size 432x288 with 1 Axes>"
            ]
          },
          "metadata": {
            "tags": [],
            "needs_background": "light"
          }
        },
        {
          "output_type": "stream",
          "text": [
            "[0.03910785593785628, 1.0799181661590975]\n",
            "[0.03913967586285074, 1.0799171064011595]\n",
            "[0.03917149178356676, 1.0799160467765834]\n"
          ],
          "name": "stdout"
        },
        {
          "output_type": "display_data",
          "data": {
            "image/png": "[encoded data removed]",
            "text/plain": [
              "<Figure size 432x288 with 1 Axes>"
            ]
          },
          "metadata": {
            "tags": [],
            "needs_background": "light"
          }
        }
      ]
    },
    {
      "cell_type": "code",
      "metadata": {
        "colab": {
          "base_uri": "https://localhost:8080/"
        },
        "id": "TUkB50fjb3H-",
        "outputId": "25b85c02-6179-44bf-948c-39d875e8f753"
      },
      "source": [
        "theta_array"
      ],
      "execution_count": 21,
      "outputs": [
        {
          "output_type": "execute_result",
          "data": {
            "text/plain": [
              "[0.03917149178356676, 1.0799160467765834]"
            ]
          },
          "metadata": {
            "tags": []
          },
          "execution_count": 21
        }
      ]
    },
    {
      "cell_type": "code",
      "metadata": {
        "colab": {
          "base_uri": "https://localhost:8080/"
        },
        "id": "9sdy8-TLb5oA",
        "outputId": "0f7c813d-8cfe-4c50-aead-7c2ed3724c99"
      },
      "source": [
        "hypothesis(theta_array,46.0)\r\n",
        "cost_function(theta_array,x_value,y_value,len(x_value))\r\n",
        "#0.05915144488848537 For iters=50 alpha = 0.01\r\n",
        "#0.059192692828032925 For iters = 10 alpha = 0.01\r\n",
        "#0.05910046555781748  For iters = 100 alpha = 0.01"
      ],
      "execution_count": 22,
      "outputs": [
        {
          "output_type": "execute_result",
          "data": {
            "text/plain": [
              "0.05910046555781748"
            ]
          },
          "metadata": {
            "tags": []
          },
          "execution_count": 22
        }
      ]
    },
    {
      "cell_type": "code",
      "metadata": {
        "id": "y_99NZWRHYko"
      },
      "source": [
        "SSTO = []   # total sum of squares\r\n",
        "SSR = []    # regression sum of squares\r\n",
        "SSE = []    # error sum of squares\r\n",
        "y_mean = np.mean(y_train)"
      ],
      "execution_count": 23,
      "outputs": []
    },
    {
      "cell_type": "code",
      "metadata": {
        "id": "MUyt7BAmHf0F"
      },
      "source": [
        "\r\n",
        "\r\n",
        "m=x_train.size\r\n",
        "for i in range(m):\r\n",
        "  prediction = hypothesis(theta_array, x_train[i])  # value of prediction (value of hypothesis at point i)\r\n",
        "  y_i = y_train[i]                             # value of 'y' at point i\r\n",
        "  SSE.append((prediction - y_i)**2)           # sum of values in the array is SSE (error sum of squares)\r\n",
        "  SSR.append((prediction - y_mean)**2)        # sum of values in the array is SSR (regression sum of squares)\r\n",
        "  SSTO.append((y_i - y_mean)**2)              # sum of values in the array is SSTO (total sum of squares)\r\n",
        "\r\n"
      ],
      "execution_count": 24,
      "outputs": []
    },
    {
      "cell_type": "code",
      "metadata": {
        "colab": {
          "base_uri": "https://localhost:8080/"
        },
        "id": "PmWnsyfwHzYU",
        "outputId": "3e414a6e-6de3-48d5-c6f4-39e4bfeb266e"
      },
      "source": [
        "print('\\naverage error is : ', sum(SSE)/len(SSE))\r\n",
        "print('\\nsum of squares of error (SSE) : ', sum(SSE))\r\n",
        "print('\\nregression sum of squares (SSR) : ', sum(SSR))\r\n",
        "print('\\ntotal sum of squares (SSTO) : ', sum(SSTO))\r\n",
        "print('\\nThe Coefficient Of Determination R-squared is : ', (sum(SSR)/sum(SSTO))*100,'%') "
      ],
      "execution_count": 25,
      "outputs": [
        {
          "output_type": "stream",
          "text": [
            "\n",
            "average error is :  0.11820093111563496\n",
            "\n",
            "sum of squares of error (SSE) :  18.793948047385957\n",
            "\n",
            "regression sum of squares (SSR) :  18413.303164788922\n",
            "\n",
            "total sum of squares (SSTO) :  18144.6706918239\n",
            "\n",
            "The Coefficient Of Determination R-squared is :  101.48050343556838 %\n"
          ],
          "name": "stdout"
        }
      ]
    },
    {
      "cell_type": "markdown",
      "metadata": {
        "id": "EguZ6xNadOuY"
      },
      "source": [
        "Here Length1 and Length2 of fish is quite smilliar thats why we are getting too much perferct result. it is diagonal and cross length of fish thats why it is quite similiar to each other."
      ]
    }
  ]
}