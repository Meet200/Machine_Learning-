{
  "nbformat": 4,
  "nbformat_minor": 0,
  "metadata": {
    "colab": {
      "name": "KNN as regression.ipynb",
      "provenance": [],
      "authorship_tag": "ABX9TyPUV9e+vd52gRWir+1v8Yfy",
      "include_colab_link": true
    },
    "kernelspec": {
      "name": "python3",
      "display_name": "Python 3"
    }
  },
  "cells": [
    {
      "cell_type": "markdown",
      "metadata": {
        "id": "view-in-github",
        "colab_type": "text"
      },
      "source": [
        "<a href=\"https://colab.research.google.com/github/Meet200/Machine_Learning-/blob/main/KNN_as_regression.ipynb\" target=\"_parent\"><img src=\"https://colab.research.google.com/assets/colab-badge.svg\" alt=\"Open In Colab\"/></a>"
      ]
    },
    {
      "cell_type": "markdown",
      "metadata": {
        "id": "HNz4Xj7aE-Sq"
      },
      "source": [
        "#Use of KNN Regression"
      ]
    },
    {
      "cell_type": "markdown",
      "metadata": {
        "id": "pGLeY2-ZFEcN"
      },
      "source": [
        "for value of K = 1"
      ]
    },
    {
      "cell_type": "code",
      "metadata": {
        "colab": {
          "base_uri": "https://localhost:8080/"
        },
        "id": "xDZaKrEnCkrd",
        "outputId": "5dfacdbe-e462-4016-ee03-45bf0a9302a0"
      },
      "source": [
        "y = [20,23,25,22,24,30]\r\n",
        "x = [[50],[49],[52],[51],[54],[60]]\r\n",
        "from sklearn.neighbors import KNeighborsRegressor\r\n",
        "neigh = KNeighborsRegressor(n_neighbors=1)\r\n",
        "neigh.fit(x,y)\r\n",
        "print(neigh.predict([[55]]))"
      ],
      "execution_count": 20,
      "outputs": [
        {
          "output_type": "stream",
          "text": [
            "[24.]\n"
          ],
          "name": "stdout"
        }
      ]
    },
    {
      "cell_type": "markdown",
      "metadata": {
        "id": "9yIMEF47E9dt"
      },
      "source": [
        "for value of k = 2 "
      ]
    },
    {
      "cell_type": "code",
      "metadata": {
        "colab": {
          "base_uri": "https://localhost:8080/"
        },
        "id": "6Osm_zvpFK6I",
        "outputId": "a254fd10-0fd1-48e2-9578-0a444a9008f5"
      },
      "source": [
        "neigh = KNeighborsRegressor(n_neighbors=2)\r\n",
        "neigh.fit(x,y)\r\n",
        "print(neigh.predict([[55]]))"
      ],
      "execution_count": 21,
      "outputs": [
        {
          "output_type": "stream",
          "text": [
            "[24.5]\n"
          ],
          "name": "stdout"
        }
      ]
    },
    {
      "cell_type": "markdown",
      "metadata": {
        "id": "oD_zPGNsFUgP"
      },
      "source": [
        "For value of k = 3 "
      ]
    },
    {
      "cell_type": "code",
      "metadata": {
        "colab": {
          "base_uri": "https://localhost:8080/"
        },
        "id": "GTK3WTELFXj-",
        "outputId": "d007fe00-bf9d-4dd8-b945-cb3b2e4670af"
      },
      "source": [
        "neigh = KNeighborsRegressor(n_neighbors=3)\r\n",
        "neigh.fit(x,y)\r\n",
        "print(neigh.predict([[55]]))"
      ],
      "execution_count": 22,
      "outputs": [
        {
          "output_type": "stream",
          "text": [
            "[23.66666667]\n"
          ],
          "name": "stdout"
        }
      ]
    },
    {
      "cell_type": "markdown",
      "metadata": {
        "id": "LNtsCgIuFds0"
      },
      "source": [
        "#here we can see that depend on value of K will get diffrent age as prediction."
      ]
    }
  ]
}