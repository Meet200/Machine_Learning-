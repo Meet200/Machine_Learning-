{
  "nbformat": 4,
  "nbformat_minor": 0,
  "metadata": {
    "colab": {
      "name": "Elastic net Regression .ipynb",
      "provenance": [],
      "authorship_tag": "ABX9TyO1CYoMxlw8ehsZuj7GfVoV",
      "include_colab_link": true
    },
    "kernelspec": {
      "name": "python3",
      "display_name": "Python 3"
    }
  },
  "cells": [
    {
      "cell_type": "markdown",
      "metadata": {
        "id": "view-in-github",
        "colab_type": "text"
      },
      "source": [
        "<a href=\"https://colab.research.google.com/github/Meet200/Machine_Learning-/blob/main/Elastic_net_Regression_.ipynb\" target=\"_parent\"><img src=\"https://colab.research.google.com/assets/colab-badge.svg\" alt=\"Open In Colab\"/></a>"
      ]
    },
    {
      "cell_type": "markdown",
      "metadata": {
        "id": "GtJCJH4tVSra"
      },
      "source": [
        "# Elastic net regression using sklearn\r\n",
        "i have used House dataset to evaluate this model and predict output."
      ]
    },
    {
      "cell_type": "code",
      "metadata": {
        "id": "UoOHsMrOUwDe"
      },
      "source": [
        "# make a prediction with an elastic net model on the dataset\r\n",
        "from pandas import read_csv\r\n",
        "from sklearn.linear_model import ElasticNet\r\n",
        "\r\n",
        "\r\n",
        "\r\n"
      ],
      "execution_count": 16,
      "outputs": []
    },
    {
      "cell_type": "code",
      "metadata": {
        "id": "-Lx9FLCdU2CD"
      },
      "source": [
        "# load the dataset\r\n",
        "url = 'https://raw.githubusercontent.com/jbrownlee/Datasets/master/housing.csv'\r\n",
        "dataframe = read_csv(url, header=None)\r\n",
        "data = dataframe.values\r\n",
        "X, y = data[:, :-1], data[:, -1]"
      ],
      "execution_count": 17,
      "outputs": []
    },
    {
      "cell_type": "code",
      "metadata": {
        "colab": {
          "base_uri": "https://localhost:8080/"
        },
        "id": "i1xD5V-CU2zJ",
        "outputId": "672dc97e-6c37-4313-d911-f53f96ab1da6"
      },
      "source": [
        "# define model\r\n",
        "model = ElasticNet(alpha=1.0, l1_ratio=0.5)\r\n",
        "# fit model\r\n",
        "model.fit(X, y)"
      ],
      "execution_count": 18,
      "outputs": [
        {
          "output_type": "execute_result",
          "data": {
            "text/plain": [
              "ElasticNet(alpha=1.0, copy_X=True, fit_intercept=True, l1_ratio=0.5,\n",
              "           max_iter=1000, normalize=False, positive=False, precompute=False,\n",
              "           random_state=None, selection='cyclic', tol=0.0001, warm_start=False)"
            ]
          },
          "metadata": {
            "tags": []
          },
          "execution_count": 18
        }
      ]
    },
    {
      "cell_type": "code",
      "metadata": {
        "id": "ExsstNrlU5YG"
      },
      "source": [
        "# define new data\r\n",
        "row = [0.00632,18.00,2.310,0,0.5380,6.5750,65.20,4.0900,1,296.0,15.30,396.90,4.98]\r\n",
        "# make a prediction\r\n",
        "yhat = model.predict([row])"
      ],
      "execution_count": 19,
      "outputs": []
    },
    {
      "cell_type": "code",
      "metadata": {
        "colab": {
          "base_uri": "https://localhost:8080/"
        },
        "id": "6ubn99s9U7WK",
        "outputId": "a43c155e-822c-4ab2-ac52-01e6028446ef"
      },
      "source": [
        "# summarize prediction\r\n",
        "print('Predicted: %.3f' % yhat)"
      ],
      "execution_count": 20,
      "outputs": [
        {
          "output_type": "stream",
          "text": [
            "Predicted: 31.047\n"
          ],
          "name": "stdout"
        }
      ]
    },
    {
      "cell_type": "markdown",
      "metadata": {
        "id": "qOa7HuhQqfH_"
      },
      "source": [
        "here we can see that current prediction is 31% which will be chage depen on value of learning rate."
      ]
    }
  ]
}