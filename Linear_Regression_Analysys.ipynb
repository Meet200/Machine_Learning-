{
  "nbformat": 4,
  "nbformat_minor": 0,
  "metadata": {
    "colab": {
      "name": "Linear_Regression_Analysys.ipynb",
      "provenance": [],
      "collapsed_sections": [],
      "authorship_tag": "ABX9TyN12vihELHC9ZaUBlIlK7ah",
      "include_colab_link": true
    },
    "kernelspec": {
      "name": "python3",
      "display_name": "Python 3"
    }
  },
  "cells": [
    {
      "cell_type": "markdown",
      "metadata": {
        "id": "view-in-github",
        "colab_type": "text"
      },
      "source": [
        "<a href=\"https://colab.research.google.com/github/Meet200/Machine_Learning-/blob/main/Linear_Regression_Analysys.ipynb\" target=\"_parent\"><img src=\"https://colab.research.google.com/assets/colab-badge.svg\" alt=\"Open In Colab\"/></a>"
      ]
    },
    {
      "cell_type": "markdown",
      "metadata": {
        "id": "_KQAlzSo1VC7"
      },
      "source": [
        "Example of Absolute error "
      ]
    },
    {
      "cell_type": "code",
      "metadata": {
        "colab": {
          "base_uri": "https://localhost:8080/"
        },
        "id": "1NIJuFcx1Vph",
        "outputId": "9f65ffd6-3084-457a-8f31-ed7f281a1973"
      },
      "source": [
        "from sklearn.metrics import mean_absolute_error\r\n",
        "true_value = [4,5,6,7]\r\n",
        "pred_value = [3.2,0,6,6.5]\r\n",
        "case1=mean_absolute_error(true_value,pred_value)  # case 1 where predicted value is <=  true value \r\n",
        "\r\n",
        "pred_value2 = [4.2,5.4,6.3,7]  \r\n",
        "case2=mean_absolute_error(true_value,pred_value2)  #case2 where predicted value is >= true value \r\n",
        "\r\n",
        "pred_value3 = [4,5,6,7]  \r\n",
        "case3=mean_absolute_error(true_value,pred_value3) #case3 where predicted value is = true value \r\n",
        "\r\n",
        "print(case1)\r\n",
        "print(case2)\r\n",
        "print(case3)\r\n",
        "\r\n"
      ],
      "execution_count": 2,
      "outputs": [
        {
          "output_type": "stream",
          "text": [
            "1.575\n",
            "0.2250000000000001\n",
            "0.0\n"
          ],
          "name": "stdout"
        }
      ]
    },
    {
      "cell_type": "markdown",
      "metadata": {
        "id": "wYT2cHWp8HNO"
      },
      "source": [
        "here it is clearly observed in output that if predicted value is smaller than actual value then will get value of mean_absolute_error big otherwise it is close to zero "
      ]
    },
    {
      "cell_type": "markdown",
      "metadata": {
        "id": "wCfFOy1m1QkJ"
      },
      "source": [
        "# Example of mean squared error "
      ]
    },
    {
      "cell_type": "code",
      "metadata": {
        "colab": {
          "base_uri": "https://localhost:8080/"
        },
        "id": "IbKxWYC9xob6",
        "outputId": "c14c30bc-a0b7-458d-fba4-1c176e8f85ea"
      },
      "source": [
        "from sklearn.metrics import mean_squared_error\r\n",
        "true_value = [4,5,6,7]\r\n",
        "pred_value = [3.2,0,6,6.5]\r\n",
        "case1=mean_squared_error(true_value,pred_value)  # case 1 where predicted value is <=  true value \r\n",
        "\r\n",
        "pred_value2 = [4.2,5.4,6.3,7]  \r\n",
        "case2=mean_squared_error(true_value,pred_value2)  #case2 where predicted value is >= true value \r\n",
        "\r\n",
        "pred_value3 = [4,5,6,7]  \r\n",
        "case3=mean_squared_error(true_value,pred_value3) #case3 where predicted value is = true value \r\n",
        "\r\n",
        "print(case1)\r\n",
        "print(case2)\r\n",
        "print(case3)\r\n",
        "\r\n"
      ],
      "execution_count": 3,
      "outputs": [
        {
          "output_type": "stream",
          "text": [
            "6.4725\n",
            "0.07250000000000006\n",
            "0.0\n"
          ],
          "name": "stdout"
        }
      ]
    },
    {
      "cell_type": "markdown",
      "metadata": {
        "id": "rLijYjZl783M"
      },
      "source": [
        "here it is clearly observed in output that if predicted value is smaller than actual value then will get value of mean_squared_error big otherwise it is close to zero "
      ]
    },
    {
      "cell_type": "markdown",
      "metadata": {
        "id": "ki7mIxUZ5ip8"
      },
      "source": [
        "# Example of root mean squared error "
      ]
    },
    {
      "cell_type": "code",
      "metadata": {
        "colab": {
          "base_uri": "https://localhost:8080/"
        },
        "id": "4zg9Pxcj5m5P",
        "outputId": "b9b7347c-de1c-4690-aadb-3d5830b76b85"
      },
      "source": [
        "from sklearn.metrics import mean_squared_error\r\n",
        "from math import sqrt\r\n",
        "true_value = [4,5,6,7]\r\n",
        "pred_value = [3.2,0,6,6.5]\r\n",
        "case1=mean_squared_error(true_value,pred_value)  # case 1 where predicted value is <=  true value \r\n",
        "\r\n",
        "pred_value2 = [4.2,5.4,6.3,7]  \r\n",
        "case2=mean_squared_error(true_value,pred_value2)  #case2 where predicted value is >= true value \r\n",
        "\r\n",
        "pred_value3 = [4,5,6,7]  \r\n",
        "case3=mean_squared_error(true_value,pred_value3) #case3 where predicted value is = true value \r\n",
        "\r\n",
        "print(sqrt(case1))\r\n",
        "print(sqrt(case2))\r\n",
        "print(sqrt(case3))\r\n",
        "\r\n"
      ],
      "execution_count": 4,
      "outputs": [
        {
          "output_type": "stream",
          "text": [
            "2.5441108466417104\n",
            "0.2692582403567253\n",
            "0.0\n"
          ],
          "name": "stdout"
        }
      ]
    },
    {
      "cell_type": "markdown",
      "metadata": {
        "id": "nr853J5b7vxf"
      },
      "source": [
        "here it is clearly observed in output that if predicted value is smaller than actual value then will get value of root_mean_squared_error big otherwise it is close to zero "
      ]
    },
    {
      "cell_type": "markdown",
      "metadata": {
        "id": "yk0QrJQp7HpO"
      },
      "source": [
        "# Example of R-squared Error"
      ]
    },
    {
      "cell_type": "code",
      "metadata": {
        "colab": {
          "base_uri": "https://localhost:8080/"
        },
        "id": "AmO-B3oZ7GtD",
        "outputId": "8b57d73b-c611-4b02-a513-a3d6a4ffb2f3"
      },
      "source": [
        "from sklearn.metrics import r2_score\r\n",
        "true_value = [4,5,6,7]\r\n",
        "pred_value = [3.2,0,6,6.5]\r\n",
        "case1=r2_score(true_value,pred_value)  # case 1 where predicted value is <=  true value \r\n",
        "\r\n",
        "pred_value2 = [4.2,5.4,6.3,7]  \r\n",
        "case2=r2_score(true_value,pred_value2)  #case2 where predicted value is >= true value \r\n",
        "\r\n",
        "pred_value3 = [4,5,6,7]  \r\n",
        "case3=r2_score(true_value,pred_value3) #case3 where predicted value is = true value \r\n",
        "\r\n",
        "print(case1)\r\n",
        "print(case2)\r\n",
        "print(case3)\r\n",
        "\r\n"
      ],
      "execution_count": 5,
      "outputs": [
        {
          "output_type": "stream",
          "text": [
            "-4.178\n",
            "0.942\n",
            "1.0\n"
          ],
          "name": "stdout"
        }
      ]
    },
    {
      "cell_type": "markdown",
      "metadata": {
        "id": "K6g4VmlW7rQW"
      },
      "source": [
        "here it is clearly observed in output that if predicted value is smaller than actual value then will get value of r-squared in minus and of value is bigger than it than it is near to zero and for equal case it is 1"
      ]
    }
  ]
}