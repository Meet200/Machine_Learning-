{
  "nbformat": 4,
  "nbformat_minor": 0,
  "metadata": {
    "colab": {
      "name": "Linear_Regression_Analysys.ipynb",
      "provenance": [],
      "collapsed_sections": [],
      "authorship_tag": "ABX9TyP3ATbB18CKuKktg8Z/p88w",
      "include_colab_link": true
    },
    "kernelspec": {
      "name": "python3",
      "display_name": "Python 3"
    }
  },
  "cells": [
    {
      "cell_type": "markdown",
      "metadata": {
        "id": "view-in-github",
        "colab_type": "text"
      },
      "source": [
        "<a href=\"https://colab.research.google.com/github/Meet200/Machine_Learning-/blob/main/Linear_Regression_Analysys.ipynb\" target=\"_parent\"><img src=\"https://colab.research.google.com/assets/colab-badge.svg\" alt=\"Open In Colab\"/></a>"
      ]
    },
    {
      "cell_type": "markdown",
      "metadata": {
        "id": "_KQAlzSo1VC7"
      },
      "source": [
        "Example of Absolute error "
      ]
    },
    {
      "cell_type": "code",
      "metadata": {
        "colab": {
          "base_uri": "https://localhost:8080/"
        },
        "id": "1NIJuFcx1Vph",
        "outputId": "c3a686ab-4e8e-423d-bf99-765eb86898df"
      },
      "source": [
        "from sklearn.metrics import mean_absolute_error\r\n",
        "true_value = [4,5,6,7,12,13,21,24,21,23,12,15,11,10,16,12,17,12,10,20]\r\n",
        "pred_value = [3,5,6,7,11,14,21,24,20,23,12,14,12,9,18,13,18,11,10,21]\r\n",
        "case1=mean_absolute_error(true_value,pred_value)  # case 1 where predicted value is <=  true value \r\n",
        "\r\n",
        "\r\n",
        "print(case1)\r\n",
        "\r\n"
      ],
      "execution_count": 28,
      "outputs": [
        {
          "output_type": "stream",
          "text": [
            "0.65\n"
          ],
          "name": "stdout"
        }
      ]
    },
    {
      "cell_type": "code",
      "metadata": {
        "colab": {
          "base_uri": "https://localhost:8080/"
        },
        "id": "rtbWzjm8Vd6p",
        "outputId": "0abcef17-1685-4500-e472-9ce9237c5922"
      },
      "source": [
        "from sklearn.metrics import mean_absolute_error\r\n",
        "true_value = [4,5,6,7,12,13,21,24,21,23,12,15,51,10,16,42,17,12,10,60]\r\n",
        "pred_value = [3,5,6,7,11,14,21,24,20,23,12,14,22,9,18,10,18,11,10,23]\r\n",
        "case1=mean_absolute_error(true_value,pred_value)  # case 1 where predicted value is <=  true value \r\n",
        "\r\n",
        "\r\n",
        "print(case1)"
      ],
      "execution_count": 29,
      "outputs": [
        {
          "output_type": "stream",
          "text": [
            "5.4\n"
          ],
          "name": "stdout"
        }
      ]
    },
    {
      "cell_type": "markdown",
      "metadata": {
        "id": "wYT2cHWp8HNO"
      },
      "source": [
        "Here we can see that if we add some outliers then value of MAE will change drastically and it is good to use MAE for no or very less outliers. "
      ]
    },
    {
      "cell_type": "markdown",
      "metadata": {
        "id": "wCfFOy1m1QkJ"
      },
      "source": [
        "# Example of mean squared error "
      ]
    },
    {
      "cell_type": "code",
      "metadata": {
        "colab": {
          "base_uri": "https://localhost:8080/"
        },
        "id": "K0JUIYu1mzD8",
        "outputId": "05034cdb-fd67-4668-9ad2-21fd7a98fac8"
      },
      "source": [
        "from sklearn.metrics import mean_squared_error\r\n",
        "true_value = [4,5,6,7,12,13,21,24,21,23,12,15,11,10,16,12,17,12,10,20]\r\n",
        "pred_value = [3,5,6,7,11,14,21,24,20,23,12,14,12,9,18,13,18,11,10,21]\r\n",
        "case1=mean_squared_error(true_value,pred_value)  # case 1 where predicted value is <=  true value \r\n",
        "\r\n",
        "print(case1)"
      ],
      "execution_count": 30,
      "outputs": [
        {
          "output_type": "stream",
          "text": [
            "0.75\n"
          ],
          "name": "stdout"
        }
      ]
    },
    {
      "cell_type": "code",
      "metadata": {
        "colab": {
          "base_uri": "https://localhost:8080/"
        },
        "id": "IbKxWYC9xob6",
        "outputId": "18871e74-d116-4d9c-9604-b6f45b746e6e"
      },
      "source": [
        "from sklearn.metrics import mean_squared_error\r\n",
        "true_value = [4,5,6,7,12,13,21,24,21,23,12,15,11,10,16,12,17,12,10,60]\r\n",
        "pred_value = [3,5,6,7,11,14,21,24,20,23,12,14,12,9,18,13,18,11,10,23]\r\n",
        "case1=mean_squared_error(true_value,pred_value)  # case 1 where predicted value is <=  true value \r\n",
        "\r\n",
        "print(case1)\r\n",
        "\r\n",
        "\r\n"
      ],
      "execution_count": 31,
      "outputs": [
        {
          "output_type": "stream",
          "text": [
            "69.15\n"
          ],
          "name": "stdout"
        }
      ]
    },
    {
      "cell_type": "markdown",
      "metadata": {
        "id": "rLijYjZl783M"
      },
      "source": [
        "Here we can see that adding one outlier will incrase value of MSE because of square present in our expression."
      ]
    },
    {
      "cell_type": "markdown",
      "metadata": {
        "id": "ki7mIxUZ5ip8"
      },
      "source": [
        "# Example of root mean squared error "
      ]
    },
    {
      "cell_type": "code",
      "metadata": {
        "colab": {
          "base_uri": "https://localhost:8080/"
        },
        "id": "92j1BHg2p14A",
        "outputId": "d839cce1-eaa1-4862-8e6d-f64c81d06fc2"
      },
      "source": [
        "from sklearn.metrics import mean_squared_error\r\n",
        "from math import sqrt\r\n",
        "true_value = [4,5,6,7,12,13,21,24,21,23,12,15,11,10,16,12,17,12,10,20]\r\n",
        "pred_value = [3,5,6,7,11,14,21,24,20,23,12,14,12,9,18,13,18,11,10,21]\r\n",
        "case1=mean_squared_error(true_value,pred_value)  # case 1 where predicted value is <=  true value \r\n",
        "\r\n",
        "print(sqrt(case1))"
      ],
      "execution_count": 32,
      "outputs": [
        {
          "output_type": "stream",
          "text": [
            "0.8660254037844386\n"
          ],
          "name": "stdout"
        }
      ]
    },
    {
      "cell_type": "code",
      "metadata": {
        "colab": {
          "base_uri": "https://localhost:8080/"
        },
        "id": "4zg9Pxcj5m5P",
        "outputId": "d96e4bbc-46e5-4648-8e7b-034603ad25c0"
      },
      "source": [
        "from sklearn.metrics import mean_squared_error\r\n",
        "from math import sqrt\r\n",
        "true_value = [4,5,6,7,12,13,21,24,21,23,12,15,11,10,16,12,17,12,10,60]\r\n",
        "pred_value = [3,5,6,7,11,14,21,24,20,23,12,14,12,9,18,13,18,11,10,23]\r\n",
        "case1=mean_squared_error(true_value,pred_value)  # case 1 where predicted value is <=  true value \r\n",
        "\r\n",
        "print(sqrt(case1))\r\n",
        "\r\n",
        "\r\n"
      ],
      "execution_count": 33,
      "outputs": [
        {
          "output_type": "stream",
          "text": [
            "8.315647900193948\n"
          ],
          "name": "stdout"
        }
      ]
    },
    {
      "cell_type": "markdown",
      "metadata": {
        "id": "nr853J5b7vxf"
      },
      "source": [
        "We can see that here value of RMSE is very less compare to MSE means it is less bias towards high values compare to MSE."
      ]
    },
    {
      "cell_type": "markdown",
      "metadata": {
        "id": "yk0QrJQp7HpO"
      },
      "source": [
        "# Example of R-squared Error"
      ]
    },
    {
      "cell_type": "code",
      "metadata": {
        "colab": {
          "base_uri": "https://localhost:8080/"
        },
        "id": "AmO-B3oZ7GtD",
        "outputId": "282bfdbd-527c-4efb-bf50-20c6b56b7068"
      },
      "source": [
        "from sklearn.metrics import r2_score\r\n",
        "true_value = [4,5,6,7,12,13,21,24,21,23,12,15,11,10,16,12,17,12,10,20]\r\n",
        "pred_value = [3,5,6,7,11,14,21,24,20,23,12,14,12,9,18,13,18,11,10,21]\r\n",
        "case1=r2_score(true_value,pred_value)  # case 1 where predicted value is <=  true value \r\n",
        " \r\n",
        "\r\n",
        "print(case1)\r\n",
        "\r\n",
        "\r\n"
      ],
      "execution_count": 34,
      "outputs": [
        {
          "output_type": "stream",
          "text": [
            "0.9778417903833371\n"
          ],
          "name": "stdout"
        }
      ]
    },
    {
      "cell_type": "code",
      "metadata": {
        "colab": {
          "base_uri": "https://localhost:8080/"
        },
        "id": "5hObnCDpCCzU",
        "outputId": "e0d1f747-e8d3-4fab-85e6-36b357e35c48"
      },
      "source": [
        "from sklearn.metrics import r2_score\r\n",
        "true_value = [4,5,6,7,12,13,21,24,21,23,12,15,51,10,16,42,17,12,10,60]\r\n",
        "pred_value = [3,5,6,7,11,14,21,24,20,23,12,14,22,9,18,10,18,11,10,23]\r\n",
        "case1=r2_score(true_value,pred_value)  # case 1 where predicted value is <=  true value \r\n",
        " \r\n",
        "\r\n",
        "print(case1)\r\n"
      ],
      "execution_count": 35,
      "outputs": [
        {
          "output_type": "stream",
          "text": [
            "0.26075222901649997\n"
          ],
          "name": "stdout"
        }
      ]
    },
    {
      "cell_type": "markdown",
      "metadata": {
        "id": "K6g4VmlW7rQW"
      },
      "source": [
        "Here for 1st model we can see that it is almost 97% means it is good fit and R^2 is very basic and easy parameter to check goodness of fit for any data."
      ]
    }
  ]
}