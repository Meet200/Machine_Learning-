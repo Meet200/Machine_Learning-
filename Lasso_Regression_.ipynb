{
  "nbformat": 4,
  "nbformat_minor": 0,
  "metadata": {
    "colab": {
      "name": "Lasso-Regression .ipynb",
      "provenance": [],
      "collapsed_sections": [],
      "authorship_tag": "ABX9TyOhnSy4HKfKbYffhoX6kmv1",
      "include_colab_link": true
    },
    "kernelspec": {
      "name": "python3",
      "display_name": "Python 3"
    }
  },
  "cells": [
    {
      "cell_type": "markdown",
      "metadata": {
        "id": "view-in-github",
        "colab_type": "text"
      },
      "source": [
        "<a href=\"https://colab.research.google.com/github/Meet200/Machine_Learning-/blob/main/Lasso_Regression_.ipynb\" target=\"_parent\"><img src=\"https://colab.research.google.com/assets/colab-badge.svg\" alt=\"Open In Colab\"/></a>"
      ]
    },
    {
      "cell_type": "markdown",
      "metadata": {
        "id": "htA8Ra4OKlFD"
      },
      "source": [
        "This is Lasso regression which is implemented on car data set i have used sklearn , numpy ,pandas to develope this model.\r\n",
        "\r\n"
      ]
    },
    {
      "cell_type": "code",
      "metadata": {
        "id": "ox86fdiG240R"
      },
      "source": [
        "import numpy as np\r\n",
        "import pandas as pd\r\n",
        "import matplotlib.pyplot as plt\r\n",
        "#%matplotlib inline \r\n",
        "plt.style.use('ggplot') \r\n",
        "import warnings; warnings.simplefilter('ignore')"
      ],
      "execution_count": 76,
      "outputs": []
    },
    {
      "cell_type": "code",
      "metadata": {
        "id": "72vNEkWU3ldX"
      },
      "source": [
        "# Read CSV File \r\n",
        "# This Model is performed in Auto Data Set \r\n",
        "df = pd.read_csv(\"https://raw.githubusercontent.com/kirenz/datasets/master/Auto.csv\")\r\n",
        "\r\n"
      ],
      "execution_count": 77,
      "outputs": []
    },
    {
      "cell_type": "code",
      "metadata": {
        "colab": {
          "base_uri": "https://localhost:8080/"
        },
        "id": "_9UIrrpS4Y2f",
        "outputId": "8a0a0769-3657-47d2-9b60-5601d8c847cc"
      },
      "source": [
        "df = df.iloc[0:200]\r\n",
        "df = df.drop(['name'], axis=1)\r\n",
        "df.info()"
      ],
      "execution_count": 78,
      "outputs": [
        {
          "output_type": "stream",
          "text": [
            "<class 'pandas.core.frame.DataFrame'>\n",
            "RangeIndex: 200 entries, 0 to 199\n",
            "Data columns (total 8 columns):\n",
            " #   Column        Non-Null Count  Dtype  \n",
            "---  ------        --------------  -----  \n",
            " 0   mpg           200 non-null    float64\n",
            " 1   cylinders     200 non-null    int64  \n",
            " 2   displacement  200 non-null    float64\n",
            " 3   horsepower    200 non-null    object \n",
            " 4   weight        200 non-null    int64  \n",
            " 5   acceleration  200 non-null    float64\n",
            " 6   year          200 non-null    int64  \n",
            " 7   origin        200 non-null    int64  \n",
            "dtypes: float64(3), int64(4), object(1)\n",
            "memory usage: 12.6+ KB\n"
          ],
          "name": "stdout"
        }
      ]
    },
    {
      "cell_type": "code",
      "metadata": {
        "colab": {
          "base_uri": "https://localhost:8080/"
        },
        "id": "kH65KM3h4cde",
        "outputId": "458aed01-8b88-45f2-9dca-fe8ddd7aec86"
      },
      "source": [
        "df['origin'] = pd.Categorical(df['origin'])\r\n",
        "df['horsepower'] = pd.to_numeric(df['horsepower'], errors='coerce')\r\n",
        "print(df.isnull().sum())"
      ],
      "execution_count": 79,
      "outputs": [
        {
          "output_type": "stream",
          "text": [
            "mpg             0\n",
            "cylinders       0\n",
            "displacement    0\n",
            "horsepower      2\n",
            "weight          0\n",
            "acceleration    0\n",
            "year            0\n",
            "origin          0\n",
            "dtype: int64\n"
          ],
          "name": "stdout"
        }
      ]
    },
    {
      "cell_type": "code",
      "metadata": {
        "id": "Ag9dSdtA4fYb"
      },
      "source": [
        "# drop missing cases\r\n",
        "df = df.dropna()\r\n"
      ],
      "execution_count": 80,
      "outputs": []
    },
    {
      "cell_type": "code",
      "metadata": {
        "colab": {
          "base_uri": "https://localhost:8080/"
        },
        "id": "Y9oH9Fl849li",
        "outputId": "6c025241-5d06-466e-d9f2-f576846fda5f"
      },
      "source": [
        "#Data  Standardization\r\n",
        "dfs = df.astype('int')\r\n",
        "dfs.info()\r\n"
      ],
      "execution_count": 81,
      "outputs": [
        {
          "output_type": "stream",
          "text": [
            "<class 'pandas.core.frame.DataFrame'>\n",
            "Int64Index: 198 entries, 0 to 199\n",
            "Data columns (total 8 columns):\n",
            " #   Column        Non-Null Count  Dtype\n",
            "---  ------        --------------  -----\n",
            " 0   mpg           198 non-null    int64\n",
            " 1   cylinders     198 non-null    int64\n",
            " 2   displacement  198 non-null    int64\n",
            " 3   horsepower    198 non-null    int64\n",
            " 4   weight        198 non-null    int64\n",
            " 5   acceleration  198 non-null    int64\n",
            " 6   year          198 non-null    int64\n",
            " 7   origin        198 non-null    int64\n",
            "dtypes: int64(8)\n",
            "memory usage: 13.9 KB\n"
          ],
          "name": "stdout"
        }
      ]
    },
    {
      "cell_type": "code",
      "metadata": {
        "colab": {
          "base_uri": "https://localhost:8080/"
        },
        "id": "n2Jy2zUj5GTQ",
        "outputId": "0b61ebfa-7a95-41e7-e155-3c3d982ad7fc"
      },
      "source": [
        "dfs.columns"
      ],
      "execution_count": 82,
      "outputs": [
        {
          "output_type": "execute_result",
          "data": {
            "text/plain": [
              "Index(['mpg', 'cylinders', 'displacement', 'horsepower', 'weight',\n",
              "       'acceleration', 'year', 'origin'],\n",
              "      dtype='object')"
            ]
          },
          "metadata": {
            "tags": []
          },
          "execution_count": 82
        }
      ]
    },
    {
      "cell_type": "code",
      "metadata": {
        "id": "SifN9Dq05O63"
      },
      "source": [
        "from sklearn.preprocessing import StandardScaler\r\n",
        "\r\n",
        "scaler = StandardScaler()\r\n",
        "dfs[['cylinders', 'displacement', 'horsepower', \r\n",
        "     'weight', 'acceleration', 'year', 'origin']] = scaler.fit_transform(dfs[['cylinders', \r\n",
        "                                                                              'displacement', \r\n",
        "                                                                              'horsepower', \r\n",
        "                                                                              'weight', \r\n",
        "                                                                              'acceleration', \r\n",
        "                                                                              'year', 'origin']])"
      ],
      "execution_count": 83,
      "outputs": []
    },
    {
      "cell_type": "code",
      "metadata": {
        "colab": {
          "base_uri": "https://localhost:8080/",
          "height": 206
        },
        "id": "lnHTRk8i5SiH",
        "outputId": "8a3deab2-d941-4825-c43b-5bb50f574d23"
      },
      "source": [
        "\r\n",
        "\r\n",
        "dfs.head(5)\r\n",
        "\r\n"
      ],
      "execution_count": 84,
      "outputs": [
        {
          "output_type": "execute_result",
          "data": {
            "text/html": [
              "<div>\n",
              "<style scoped>\n",
              "    .dataframe tbody tr th:only-of-type {\n",
              "        vertical-align: middle;\n",
              "    }\n",
              "\n",
              "    .dataframe tbody tr th {\n",
              "        vertical-align: top;\n",
              "    }\n",
              "\n",
              "    .dataframe thead th {\n",
              "        text-align: right;\n",
              "    }\n",
              "</style>\n",
              "<table border=\"1\" class=\"dataframe\">\n",
              "  <thead>\n",
              "    <tr style=\"text-align: right;\">\n",
              "      <th></th>\n",
              "      <th>mpg</th>\n",
              "      <th>cylinders</th>\n",
              "      <th>displacement</th>\n",
              "      <th>horsepower</th>\n",
              "      <th>weight</th>\n",
              "      <th>acceleration</th>\n",
              "      <th>year</th>\n",
              "      <th>origin</th>\n",
              "    </tr>\n",
              "  </thead>\n",
              "  <tbody>\n",
              "    <tr>\n",
              "      <th>0</th>\n",
              "      <td>18</td>\n",
              "      <td>1.179744</td>\n",
              "      <td>0.726091</td>\n",
              "      <td>0.325216</td>\n",
              "      <td>0.346138</td>\n",
              "      <td>-0.955578</td>\n",
              "      <td>-1.516818</td>\n",
              "      <td>-0.629372</td>\n",
              "    </tr>\n",
              "    <tr>\n",
              "      <th>1</th>\n",
              "      <td>15</td>\n",
              "      <td>1.179744</td>\n",
              "      <td>1.100254</td>\n",
              "      <td>1.129264</td>\n",
              "      <td>0.548389</td>\n",
              "      <td>-1.305309</td>\n",
              "      <td>-1.516818</td>\n",
              "      <td>-0.629372</td>\n",
              "    </tr>\n",
              "    <tr>\n",
              "      <th>2</th>\n",
              "      <td>18</td>\n",
              "      <td>1.179744</td>\n",
              "      <td>0.821807</td>\n",
              "      <td>0.784672</td>\n",
              "      <td>0.273370</td>\n",
              "      <td>-1.305309</td>\n",
              "      <td>-1.516818</td>\n",
              "      <td>-0.629372</td>\n",
              "    </tr>\n",
              "    <tr>\n",
              "      <th>3</th>\n",
              "      <td>16</td>\n",
              "      <td>1.179744</td>\n",
              "      <td>0.699986</td>\n",
              "      <td>0.784672</td>\n",
              "      <td>0.270160</td>\n",
              "      <td>-0.955578</td>\n",
              "      <td>-1.516818</td>\n",
              "      <td>-0.629372</td>\n",
              "    </tr>\n",
              "    <tr>\n",
              "      <th>4</th>\n",
              "      <td>17</td>\n",
              "      <td>1.179744</td>\n",
              "      <td>0.682583</td>\n",
              "      <td>0.554944</td>\n",
              "      <td>0.287282</td>\n",
              "      <td>-1.655041</td>\n",
              "      <td>-1.516818</td>\n",
              "      <td>-0.629372</td>\n",
              "    </tr>\n",
              "  </tbody>\n",
              "</table>\n",
              "</div>"
            ],
            "text/plain": [
              "   mpg  cylinders  displacement  ...  acceleration      year    origin\n",
              "0   18   1.179744      0.726091  ...     -0.955578 -1.516818 -0.629372\n",
              "1   15   1.179744      1.100254  ...     -1.305309 -1.516818 -0.629372\n",
              "2   18   1.179744      0.821807  ...     -1.305309 -1.516818 -0.629372\n",
              "3   16   1.179744      0.699986  ...     -0.955578 -1.516818 -0.629372\n",
              "4   17   1.179744      0.682583  ...     -1.655041 -1.516818 -0.629372\n",
              "\n",
              "[5 rows x 8 columns]"
            ]
          },
          "metadata": {
            "tags": []
          },
          "execution_count": 84
        }
      ]
    },
    {
      "cell_type": "code",
      "metadata": {
        "id": "map6llgn5Von"
      },
      "source": [
        "# spliting of data\r\n",
        "X = dfs.drop(['mpg'], axis=1)\r\n",
        "y = dfs['mpg']\r\n",
        "from sklearn.model_selection import train_test_split\r\n",
        "\r\n",
        "X_train, X_test, y_train, y_test = train_test_split(X, y, test_size=0.25, random_state=10)"
      ],
      "execution_count": 85,
      "outputs": []
    },
    {
      "cell_type": "code",
      "metadata": {
        "colab": {
          "base_uri": "https://localhost:8080/"
        },
        "id": "ePz3wGKd4jss",
        "outputId": "b0a714e4-b04a-4fae-87e7-09b4af3cf898"
      },
      "source": [
        "# Lasso Regression \r\n",
        "from sklearn.linear_model import Lasso\r\n",
        "\r\n",
        "reg = Lasso(alpha=0.005)\r\n",
        "reg.fit(X_train, y_train)"
      ],
      "execution_count": 86,
      "outputs": [
        {
          "output_type": "execute_result",
          "data": {
            "text/plain": [
              "Lasso(alpha=0.005, copy_X=True, fit_intercept=True, max_iter=1000,\n",
              "      normalize=False, positive=False, precompute=False, random_state=None,\n",
              "      selection='cyclic', tol=0.0001, warm_start=False)"
            ]
          },
          "metadata": {
            "tags": []
          },
          "execution_count": 86
        }
      ]
    },
    {
      "cell_type": "code",
      "metadata": {
        "colab": {
          "base_uri": "https://localhost:8080/"
        },
        "id": "BCMaRN6w5rOJ",
        "outputId": "a81864c1-7eb6-47a5-d308-92e63899c666"
      },
      "source": [
        "print('Lasso Regression: R^2 score on training set', reg.score(X_train, y_train)*100)\r\n",
        "print('Lasso Regression: R^2 score on test set', reg.score(X_test, y_test)*100)"
      ],
      "execution_count": 87,
      "outputs": [
        {
          "output_type": "stream",
          "text": [
            "Lasso Regression: R^2 score on training set 83.95348384136074\n",
            "Lasso Regression: R^2 score on test set 88.09422781458997\n"
          ],
          "name": "stdout"
        }
      ]
    },
    {
      "cell_type": "markdown",
      "metadata": {
        "id": "3pA23MRzMOWo"
      },
      "source": [
        "=> here by changing learning rate we can see that by decreasing alpha our R^2 score is increasing and vice-versa "
      ]
    },
    {
      "cell_type": "code",
      "metadata": {
        "id": "SXt9pf8D6hpy"
      },
      "source": [
        "# lasso with diffrent Lambadas\r\n",
        "lambdas = (0.001, 0.01, 0.1, 0.5, 1, 2, 10)\r\n",
        "l_num = 7\r\n",
        "pred_num = X.shape[1]\r\n",
        "\r\n",
        "# prepare data for enumerate\r\n",
        "coeff_a = np.zeros((l_num, pred_num))\r\n",
        "train_r_squared = np.zeros(l_num)\r\n",
        "test_r_squared = np.zeros(l_num)\r\n"
      ],
      "execution_count": 88,
      "outputs": []
    },
    {
      "cell_type": "code",
      "metadata": {
        "id": "Xc8EIJ1i666g"
      },
      "source": [
        "# enumerate through lambdas with index and i\r\n",
        "for ind, i in enumerate(lambdas):    \r\n",
        "    reg = Lasso(alpha = i)\r\n",
        "    reg.fit(X_train, y_train)\r\n",
        "       \r\n",
        "    coeff_a[ind,:] = reg.coef_\r\n",
        "    train_r_squared[ind] = reg.score(X_train, y_train)\r\n",
        "    test_r_squared[ind] = reg.score(X_test, y_test)"
      ],
      "execution_count": 89,
      "outputs": []
    },
    {
      "cell_type": "code",
      "metadata": {
        "colab": {
          "base_uri": "https://localhost:8080/",
          "height": 517
        },
        "id": "J6nADw0L6XYe",
        "outputId": "8fab151c-02f8-4a62-fbe2-941e48d691de"
      },
      "source": [
        "# Plotting\r\n",
        "plt.figure(figsize=(18, 8))\r\n",
        "plt.plot(train_r_squared, 'bo-', label=r'$R^2$ Training set', color=\"darkblue\", alpha=0.6, linewidth=3)\r\n",
        "plt.plot(test_r_squared, 'bo-', label=r'$R^2$ Test set', color=\"darkred\", alpha=0.6, linewidth=3)\r\n",
        "plt.xlabel('Lamda index'); plt.ylabel(r'$R^2$')\r\n",
        "plt.xlim(0, 6)\r\n",
        "plt.title(r'Evaluate lasso regression with lamdas: 0 = 0.001, 1= 0.01, 2 = 0.1, 3 = 0.5, 4= 1, 5= 2, 6 = 10')\r\n",
        "plt.legend(loc='best')\r\n",
        "plt.grid()\r\n",
        "\r\n"
      ],
      "execution_count": 90,
      "outputs": [
        {
          "output_type": "display_data",
          "data": {
            "image/png": "[encoded data removed]",
            "text/plain": [
              "<Figure size 1296x576 with 1 Axes>"
            ]
          },
          "metadata": {
            "tags": []
          }
        }
      ]
    }
  ]
}