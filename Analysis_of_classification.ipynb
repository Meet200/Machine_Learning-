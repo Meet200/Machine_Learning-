{
  "nbformat": 4,
  "nbformat_minor": 0,
  "metadata": {
    "colab": {
      "name": "Analysis of classification.ipynb",
      "provenance": [],
      "authorship_tag": "ABX9TyMuy9LRNKZYK4nukm1W3vPS",
      "include_colab_link": true
    },
    "kernelspec": {
      "name": "python3",
      "display_name": "Python 3"
    },
    "language_info": {
      "name": "python"
    }
  },
  "cells": [
    {
      "cell_type": "markdown",
      "metadata": {
        "id": "view-in-github",
        "colab_type": "text"
      },
      "source": [
        "<a href=\"https://colab.research.google.com/github/Meet200/Machine_Learning-/blob/main/Analysis_of_classification.ipynb\" target=\"_parent\"><img src=\"https://colab.research.google.com/assets/colab-badge.svg\" alt=\"Open In Colab\"/></a>"
      ]
    },
    {
      "cell_type": "code",
      "metadata": {
        "id": "9mrtiD8FMWbv"
      },
      "source": [
        "import numpy as np\n",
        "import matplotlib.pyplot as plt\n",
        "import pandas as pd\n"
      ],
      "execution_count": 252,
      "outputs": []
    },
    {
      "cell_type": "code",
      "metadata": {
        "id": "KLMx2qBQMeLB"
      },
      "source": [
        "from google.colab import drive"
      ],
      "execution_count": 253,
      "outputs": []
    },
    {
      "cell_type": "code",
      "metadata": {
        "colab": {
          "base_uri": "https://localhost:8080/"
        },
        "id": "9E2IcIVsMfgy",
        "outputId": "817fbf01-1388-4230-d8ec-aa94981302d4"
      },
      "source": [
        "drive.mount('/content/drive')"
      ],
      "execution_count": 254,
      "outputs": [
        {
          "output_type": "stream",
          "text": [
            "Drive already mounted at /content/drive; to attempt to forcibly remount, call drive.mount(\"/content/drive\", force_remount=True).\n"
          ],
          "name": "stdout"
        }
      ]
    },
    {
      "cell_type": "code",
      "metadata": {
        "colab": {
          "base_uri": "https://localhost:8080/"
        },
        "id": "GM322IlKMmeD",
        "outputId": "e5405938-12c6-462c-8f97-56a1e7ac8bfc"
      },
      "source": [
        "cd /content/drive/\"My Drive/Colab Notebooks/Linear regression\""
      ],
      "execution_count": 255,
      "outputs": [
        {
          "output_type": "stream",
          "text": [
            "/content/drive/My Drive/Colab Notebooks/Linear regression\n"
          ],
          "name": "stdout"
        }
      ]
    },
    {
      "cell_type": "code",
      "metadata": {
        "colab": {
          "base_uri": "https://localhost:8080/",
          "height": 441
        },
        "id": "OVNWUAd4OAu_",
        "outputId": "9c97bd1b-9c4b-4c83-cce4-1104b7117ac7"
      },
      "source": [
        "dataset = pd.read_csv(\"winequality-red.csv\")\n",
        "dataset"
      ],
      "execution_count": 256,
      "outputs": [
        {
          "output_type": "execute_result",
          "data": {
            "text/html": [
              "<div>\n",
              "<style scoped>\n",
              "    .dataframe tbody tr th:only-of-type {\n",
              "        vertical-align: middle;\n",
              "    }\n",
              "\n",
              "    .dataframe tbody tr th {\n",
              "        vertical-align: top;\n",
              "    }\n",
              "\n",
              "    .dataframe thead th {\n",
              "        text-align: right;\n",
              "    }\n",
              "</style>\n",
              "<table border=\"1\" class=\"dataframe\">\n",
              "  <thead>\n",
              "    <tr style=\"text-align: right;\">\n",
              "      <th></th>\n",
              "      <th>fixed acidity</th>\n",
              "      <th>volatile acidity</th>\n",
              "      <th>citric acid</th>\n",
              "      <th>residual sugar</th>\n",
              "      <th>chlorides</th>\n",
              "      <th>free sulfur dioxide</th>\n",
              "      <th>total sulfur dioxide</th>\n",
              "      <th>density</th>\n",
              "      <th>pH</th>\n",
              "      <th>sulphates</th>\n",
              "      <th>alcohol</th>\n",
              "      <th>quality</th>\n",
              "    </tr>\n",
              "  </thead>\n",
              "  <tbody>\n",
              "    <tr>\n",
              "      <th>0</th>\n",
              "      <td>7.4</td>\n",
              "      <td>0.700</td>\n",
              "      <td>0.00</td>\n",
              "      <td>1.9</td>\n",
              "      <td>0.076</td>\n",
              "      <td>11.0</td>\n",
              "      <td>34.0</td>\n",
              "      <td>0.99780</td>\n",
              "      <td>3.51</td>\n",
              "      <td>0.56</td>\n",
              "      <td>9.4</td>\n",
              "      <td>5</td>\n",
              "    </tr>\n",
              "    <tr>\n",
              "      <th>1</th>\n",
              "      <td>7.8</td>\n",
              "      <td>0.880</td>\n",
              "      <td>0.00</td>\n",
              "      <td>2.6</td>\n",
              "      <td>0.098</td>\n",
              "      <td>25.0</td>\n",
              "      <td>67.0</td>\n",
              "      <td>0.99680</td>\n",
              "      <td>3.20</td>\n",
              "      <td>0.68</td>\n",
              "      <td>9.8</td>\n",
              "      <td>5</td>\n",
              "    </tr>\n",
              "    <tr>\n",
              "      <th>2</th>\n",
              "      <td>7.8</td>\n",
              "      <td>0.760</td>\n",
              "      <td>0.04</td>\n",
              "      <td>2.3</td>\n",
              "      <td>0.092</td>\n",
              "      <td>15.0</td>\n",
              "      <td>54.0</td>\n",
              "      <td>0.99700</td>\n",
              "      <td>3.26</td>\n",
              "      <td>0.65</td>\n",
              "      <td>9.8</td>\n",
              "      <td>5</td>\n",
              "    </tr>\n",
              "    <tr>\n",
              "      <th>3</th>\n",
              "      <td>11.2</td>\n",
              "      <td>0.280</td>\n",
              "      <td>0.56</td>\n",
              "      <td>1.9</td>\n",
              "      <td>0.075</td>\n",
              "      <td>17.0</td>\n",
              "      <td>60.0</td>\n",
              "      <td>0.99800</td>\n",
              "      <td>3.16</td>\n",
              "      <td>0.58</td>\n",
              "      <td>9.8</td>\n",
              "      <td>6</td>\n",
              "    </tr>\n",
              "    <tr>\n",
              "      <th>4</th>\n",
              "      <td>7.4</td>\n",
              "      <td>0.700</td>\n",
              "      <td>0.00</td>\n",
              "      <td>1.9</td>\n",
              "      <td>0.076</td>\n",
              "      <td>11.0</td>\n",
              "      <td>34.0</td>\n",
              "      <td>0.99780</td>\n",
              "      <td>3.51</td>\n",
              "      <td>0.56</td>\n",
              "      <td>9.4</td>\n",
              "      <td>5</td>\n",
              "    </tr>\n",
              "    <tr>\n",
              "      <th>...</th>\n",
              "      <td>...</td>\n",
              "      <td>...</td>\n",
              "      <td>...</td>\n",
              "      <td>...</td>\n",
              "      <td>...</td>\n",
              "      <td>...</td>\n",
              "      <td>...</td>\n",
              "      <td>...</td>\n",
              "      <td>...</td>\n",
              "      <td>...</td>\n",
              "      <td>...</td>\n",
              "      <td>...</td>\n",
              "    </tr>\n",
              "    <tr>\n",
              "      <th>1594</th>\n",
              "      <td>6.2</td>\n",
              "      <td>0.600</td>\n",
              "      <td>0.08</td>\n",
              "      <td>2.0</td>\n",
              "      <td>0.090</td>\n",
              "      <td>32.0</td>\n",
              "      <td>44.0</td>\n",
              "      <td>0.99490</td>\n",
              "      <td>3.45</td>\n",
              "      <td>0.58</td>\n",
              "      <td>10.5</td>\n",
              "      <td>5</td>\n",
              "    </tr>\n",
              "    <tr>\n",
              "      <th>1595</th>\n",
              "      <td>5.9</td>\n",
              "      <td>0.550</td>\n",
              "      <td>0.10</td>\n",
              "      <td>2.2</td>\n",
              "      <td>0.062</td>\n",
              "      <td>39.0</td>\n",
              "      <td>51.0</td>\n",
              "      <td>0.99512</td>\n",
              "      <td>3.52</td>\n",
              "      <td>0.76</td>\n",
              "      <td>11.2</td>\n",
              "      <td>6</td>\n",
              "    </tr>\n",
              "    <tr>\n",
              "      <th>1596</th>\n",
              "      <td>6.3</td>\n",
              "      <td>0.510</td>\n",
              "      <td>0.13</td>\n",
              "      <td>2.3</td>\n",
              "      <td>0.076</td>\n",
              "      <td>29.0</td>\n",
              "      <td>40.0</td>\n",
              "      <td>0.99574</td>\n",
              "      <td>3.42</td>\n",
              "      <td>0.75</td>\n",
              "      <td>11.0</td>\n",
              "      <td>6</td>\n",
              "    </tr>\n",
              "    <tr>\n",
              "      <th>1597</th>\n",
              "      <td>5.9</td>\n",
              "      <td>0.645</td>\n",
              "      <td>0.12</td>\n",
              "      <td>2.0</td>\n",
              "      <td>0.075</td>\n",
              "      <td>32.0</td>\n",
              "      <td>44.0</td>\n",
              "      <td>0.99547</td>\n",
              "      <td>3.57</td>\n",
              "      <td>0.71</td>\n",
              "      <td>10.2</td>\n",
              "      <td>5</td>\n",
              "    </tr>\n",
              "    <tr>\n",
              "      <th>1598</th>\n",
              "      <td>6.0</td>\n",
              "      <td>0.310</td>\n",
              "      <td>0.47</td>\n",
              "      <td>3.6</td>\n",
              "      <td>0.067</td>\n",
              "      <td>18.0</td>\n",
              "      <td>42.0</td>\n",
              "      <td>0.99549</td>\n",
              "      <td>3.39</td>\n",
              "      <td>0.66</td>\n",
              "      <td>11.0</td>\n",
              "      <td>6</td>\n",
              "    </tr>\n",
              "  </tbody>\n",
              "</table>\n",
              "<p>1599 rows × 12 columns</p>\n",
              "</div>"
            ],
            "text/plain": [
              "      fixed acidity  volatile acidity  citric acid  ...  sulphates  alcohol  quality\n",
              "0               7.4             0.700         0.00  ...       0.56      9.4        5\n",
              "1               7.8             0.880         0.00  ...       0.68      9.8        5\n",
              "2               7.8             0.760         0.04  ...       0.65      9.8        5\n",
              "3              11.2             0.280         0.56  ...       0.58      9.8        6\n",
              "4               7.4             0.700         0.00  ...       0.56      9.4        5\n",
              "...             ...               ...          ...  ...        ...      ...      ...\n",
              "1594            6.2             0.600         0.08  ...       0.58     10.5        5\n",
              "1595            5.9             0.550         0.10  ...       0.76     11.2        6\n",
              "1596            6.3             0.510         0.13  ...       0.75     11.0        6\n",
              "1597            5.9             0.645         0.12  ...       0.71     10.2        5\n",
              "1598            6.0             0.310         0.47  ...       0.66     11.0        6\n",
              "\n",
              "[1599 rows x 12 columns]"
            ]
          },
          "metadata": {
            "tags": []
          },
          "execution_count": 256
        }
      ]
    },
    {
      "cell_type": "markdown",
      "metadata": {
        "id": "tPS1B5M_XwPD"
      },
      "source": [
        "# KNN "
      ]
    },
    {
      "cell_type": "code",
      "metadata": {
        "colab": {
          "base_uri": "https://localhost:8080/",
          "height": 441
        },
        "id": "w-1oYPktt0GN",
        "outputId": "ee8c48e2-dcda-4a4a-ccad-d35ac13416e5"
      },
      "source": [
        "type(dataset)\n",
        "dataset=pd.DataFrame(dataset)\n",
        "dataset"
      ],
      "execution_count": 257,
      "outputs": [
        {
          "output_type": "execute_result",
          "data": {
            "text/html": [
              "<div>\n",
              "<style scoped>\n",
              "    .dataframe tbody tr th:only-of-type {\n",
              "        vertical-align: middle;\n",
              "    }\n",
              "\n",
              "    .dataframe tbody tr th {\n",
              "        vertical-align: top;\n",
              "    }\n",
              "\n",
              "    .dataframe thead th {\n",
              "        text-align: right;\n",
              "    }\n",
              "</style>\n",
              "<table border=\"1\" class=\"dataframe\">\n",
              "  <thead>\n",
              "    <tr style=\"text-align: right;\">\n",
              "      <th></th>\n",
              "      <th>fixed acidity</th>\n",
              "      <th>volatile acidity</th>\n",
              "      <th>citric acid</th>\n",
              "      <th>residual sugar</th>\n",
              "      <th>chlorides</th>\n",
              "      <th>free sulfur dioxide</th>\n",
              "      <th>total sulfur dioxide</th>\n",
              "      <th>density</th>\n",
              "      <th>pH</th>\n",
              "      <th>sulphates</th>\n",
              "      <th>alcohol</th>\n",
              "      <th>quality</th>\n",
              "    </tr>\n",
              "  </thead>\n",
              "  <tbody>\n",
              "    <tr>\n",
              "      <th>0</th>\n",
              "      <td>7.4</td>\n",
              "      <td>0.700</td>\n",
              "      <td>0.00</td>\n",
              "      <td>1.9</td>\n",
              "      <td>0.076</td>\n",
              "      <td>11.0</td>\n",
              "      <td>34.0</td>\n",
              "      <td>0.99780</td>\n",
              "      <td>3.51</td>\n",
              "      <td>0.56</td>\n",
              "      <td>9.4</td>\n",
              "      <td>5</td>\n",
              "    </tr>\n",
              "    <tr>\n",
              "      <th>1</th>\n",
              "      <td>7.8</td>\n",
              "      <td>0.880</td>\n",
              "      <td>0.00</td>\n",
              "      <td>2.6</td>\n",
              "      <td>0.098</td>\n",
              "      <td>25.0</td>\n",
              "      <td>67.0</td>\n",
              "      <td>0.99680</td>\n",
              "      <td>3.20</td>\n",
              "      <td>0.68</td>\n",
              "      <td>9.8</td>\n",
              "      <td>5</td>\n",
              "    </tr>\n",
              "    <tr>\n",
              "      <th>2</th>\n",
              "      <td>7.8</td>\n",
              "      <td>0.760</td>\n",
              "      <td>0.04</td>\n",
              "      <td>2.3</td>\n",
              "      <td>0.092</td>\n",
              "      <td>15.0</td>\n",
              "      <td>54.0</td>\n",
              "      <td>0.99700</td>\n",
              "      <td>3.26</td>\n",
              "      <td>0.65</td>\n",
              "      <td>9.8</td>\n",
              "      <td>5</td>\n",
              "    </tr>\n",
              "    <tr>\n",
              "      <th>3</th>\n",
              "      <td>11.2</td>\n",
              "      <td>0.280</td>\n",
              "      <td>0.56</td>\n",
              "      <td>1.9</td>\n",
              "      <td>0.075</td>\n",
              "      <td>17.0</td>\n",
              "      <td>60.0</td>\n",
              "      <td>0.99800</td>\n",
              "      <td>3.16</td>\n",
              "      <td>0.58</td>\n",
              "      <td>9.8</td>\n",
              "      <td>6</td>\n",
              "    </tr>\n",
              "    <tr>\n",
              "      <th>4</th>\n",
              "      <td>7.4</td>\n",
              "      <td>0.700</td>\n",
              "      <td>0.00</td>\n",
              "      <td>1.9</td>\n",
              "      <td>0.076</td>\n",
              "      <td>11.0</td>\n",
              "      <td>34.0</td>\n",
              "      <td>0.99780</td>\n",
              "      <td>3.51</td>\n",
              "      <td>0.56</td>\n",
              "      <td>9.4</td>\n",
              "      <td>5</td>\n",
              "    </tr>\n",
              "    <tr>\n",
              "      <th>...</th>\n",
              "      <td>...</td>\n",
              "      <td>...</td>\n",
              "      <td>...</td>\n",
              "      <td>...</td>\n",
              "      <td>...</td>\n",
              "      <td>...</td>\n",
              "      <td>...</td>\n",
              "      <td>...</td>\n",
              "      <td>...</td>\n",
              "      <td>...</td>\n",
              "      <td>...</td>\n",
              "      <td>...</td>\n",
              "    </tr>\n",
              "    <tr>\n",
              "      <th>1594</th>\n",
              "      <td>6.2</td>\n",
              "      <td>0.600</td>\n",
              "      <td>0.08</td>\n",
              "      <td>2.0</td>\n",
              "      <td>0.090</td>\n",
              "      <td>32.0</td>\n",
              "      <td>44.0</td>\n",
              "      <td>0.99490</td>\n",
              "      <td>3.45</td>\n",
              "      <td>0.58</td>\n",
              "      <td>10.5</td>\n",
              "      <td>5</td>\n",
              "    </tr>\n",
              "    <tr>\n",
              "      <th>1595</th>\n",
              "      <td>5.9</td>\n",
              "      <td>0.550</td>\n",
              "      <td>0.10</td>\n",
              "      <td>2.2</td>\n",
              "      <td>0.062</td>\n",
              "      <td>39.0</td>\n",
              "      <td>51.0</td>\n",
              "      <td>0.99512</td>\n",
              "      <td>3.52</td>\n",
              "      <td>0.76</td>\n",
              "      <td>11.2</td>\n",
              "      <td>6</td>\n",
              "    </tr>\n",
              "    <tr>\n",
              "      <th>1596</th>\n",
              "      <td>6.3</td>\n",
              "      <td>0.510</td>\n",
              "      <td>0.13</td>\n",
              "      <td>2.3</td>\n",
              "      <td>0.076</td>\n",
              "      <td>29.0</td>\n",
              "      <td>40.0</td>\n",
              "      <td>0.99574</td>\n",
              "      <td>3.42</td>\n",
              "      <td>0.75</td>\n",
              "      <td>11.0</td>\n",
              "      <td>6</td>\n",
              "    </tr>\n",
              "    <tr>\n",
              "      <th>1597</th>\n",
              "      <td>5.9</td>\n",
              "      <td>0.645</td>\n",
              "      <td>0.12</td>\n",
              "      <td>2.0</td>\n",
              "      <td>0.075</td>\n",
              "      <td>32.0</td>\n",
              "      <td>44.0</td>\n",
              "      <td>0.99547</td>\n",
              "      <td>3.57</td>\n",
              "      <td>0.71</td>\n",
              "      <td>10.2</td>\n",
              "      <td>5</td>\n",
              "    </tr>\n",
              "    <tr>\n",
              "      <th>1598</th>\n",
              "      <td>6.0</td>\n",
              "      <td>0.310</td>\n",
              "      <td>0.47</td>\n",
              "      <td>3.6</td>\n",
              "      <td>0.067</td>\n",
              "      <td>18.0</td>\n",
              "      <td>42.0</td>\n",
              "      <td>0.99549</td>\n",
              "      <td>3.39</td>\n",
              "      <td>0.66</td>\n",
              "      <td>11.0</td>\n",
              "      <td>6</td>\n",
              "    </tr>\n",
              "  </tbody>\n",
              "</table>\n",
              "<p>1599 rows × 12 columns</p>\n",
              "</div>"
            ],
            "text/plain": [
              "      fixed acidity  volatile acidity  citric acid  ...  sulphates  alcohol  quality\n",
              "0               7.4             0.700         0.00  ...       0.56      9.4        5\n",
              "1               7.8             0.880         0.00  ...       0.68      9.8        5\n",
              "2               7.8             0.760         0.04  ...       0.65      9.8        5\n",
              "3              11.2             0.280         0.56  ...       0.58      9.8        6\n",
              "4               7.4             0.700         0.00  ...       0.56      9.4        5\n",
              "...             ...               ...          ...  ...        ...      ...      ...\n",
              "1594            6.2             0.600         0.08  ...       0.58     10.5        5\n",
              "1595            5.9             0.550         0.10  ...       0.76     11.2        6\n",
              "1596            6.3             0.510         0.13  ...       0.75     11.0        6\n",
              "1597            5.9             0.645         0.12  ...       0.71     10.2        5\n",
              "1598            6.0             0.310         0.47  ...       0.66     11.0        6\n",
              "\n",
              "[1599 rows x 12 columns]"
            ]
          },
          "metadata": {
            "tags": []
          },
          "execution_count": 257
        }
      ]
    },
    {
      "cell_type": "code",
      "metadata": {
        "id": "_4zPbJsERw-O"
      },
      "source": [
        "# taking quality name in y and all other in x variable\n",
        "x = dataset.drop(['quality'], axis=1)\n",
        "x = dataset.drop(['chlorides'], axis=1)\n",
        "x = dataset.drop(['citric acid'], axis=1)\n",
        "y = dataset['quality']"
      ],
      "execution_count": 258,
      "outputs": []
    },
    {
      "cell_type": "code",
      "metadata": {
        "id": "igOWGaIwSqTZ"
      },
      "source": [
        "# spliting data in train and test dataset \n",
        "from sklearn.model_selection import train_test_split\n",
        "X_train, X_test, y_train, y_test = train_test_split(x, y, test_size = 0.33, random_state=110) # here 33% dataset will be of testing and 67% will be for training"
      ],
      "execution_count": 259,
      "outputs": []
    },
    {
      "cell_type": "code",
      "metadata": {
        "id": "9VtbTG4XSRRq"
      },
      "source": [
        "'''as we know that KNN use distance (usually Euclidean) in its mathematical steps so inorder to give equal important to each and every feature we have\n",
        "to normalize/ standerdize our data set which uses euqation z=(feature-mean average)/standard deviation\n",
        "'''\n",
        "from sklearn.preprocessing import StandardScaler\n",
        "\n",
        "scaler = StandardScaler()\n",
        "scaler = scaler.fit(X_train)\n",
        "X_train = scaler.transform(X_train)\n",
        "X_test = scaler.transform(X_test)"
      ],
      "execution_count": 260,
      "outputs": []
    },
    {
      "cell_type": "code",
      "metadata": {
        "id": "wwzM6yV5Twdl"
      },
      "source": [
        "#For choosing the best k value for our KNearestNeighbor Classifier, Let us run the model for different k values (i.e Between 1 and 30) and plot the scores\n",
        "from sklearn.neighbors import KNeighborsClassifier\n",
        "from sklearn import metrics\n",
        "kvals=range(1,25)\n",
        "scores={}\n",
        "scores_list=[]\n",
        "for k in kvals:\n",
        "    knn=KNeighborsClassifier(n_neighbors=k)\n",
        "    knn.fit(X_train,y_train)\n",
        "    y_pred=knn.predict(X_test)\n",
        "    scores[k]=metrics.accuracy_score(y_test,y_pred)\n",
        "    scores_list.append(metrics.accuracy_score(y_test,y_pred))"
      ],
      "execution_count": 261,
      "outputs": []
    },
    {
      "cell_type": "code",
      "metadata": {
        "colab": {
          "base_uri": "https://localhost:8080/",
          "height": 297
        },
        "id": "gBG3cGzzT_rH",
        "outputId": "4881dec6-c738-48e3-b70f-c399d8ce58f2"
      },
      "source": [
        "plt.plot(kvals,scores_list)\n",
        "plt.xlabel(\"Value of K\")\n",
        "plt.ylabel(\"Testing Accuracy\")"
      ],
      "execution_count": 262,
      "outputs": [
        {
          "output_type": "execute_result",
          "data": {
            "text/plain": [
              "Text(0, 0.5, 'Testing Accuracy')"
            ]
          },
          "metadata": {
            "tags": []
          },
          "execution_count": 262
        },
        {
          "output_type": "display_data",
          "data": {
            "image/png": "[encoded data removed]",
            "text/plain": [
              "<Figure size 432x288 with 1 Axes>"
            ]
          },
          "metadata": {
            "tags": [],
            "needs_background": "light"
          }
        }
      ]
    },
    {
      "cell_type": "markdown",
      "metadata": {
        "id": "7VaXzj4DUiDf"
      },
      "source": [
        " Above graph shows that for value of K >15 and k<20 we are getting good accuracy, so we can value of k=19 to get good results   (after droping some columns it is different as shown in above graph)"
      ]
    },
    {
      "cell_type": "code",
      "metadata": {
        "id": "hnqQp34iSV9t"
      },
      "source": [
        "from sklearn.neighbors import KNeighborsClassifier\n",
        "\n",
        "knc = KNeighborsClassifier(19, p=19)"
      ],
      "execution_count": 263,
      "outputs": []
    },
    {
      "cell_type": "code",
      "metadata": {
        "colab": {
          "base_uri": "https://localhost:8080/"
        },
        "id": "p0zFMvDpSaJn",
        "outputId": "cfd033f5-3220-429a-a44a-0481eec43955"
      },
      "source": [
        "knc.fit(X_train, y_train)"
      ],
      "execution_count": 264,
      "outputs": [
        {
          "output_type": "execute_result",
          "data": {
            "text/plain": [
              "KNeighborsClassifier(algorithm='auto', leaf_size=30, metric='minkowski',\n",
              "                     metric_params=None, n_jobs=None, n_neighbors=19, p=19,\n",
              "                     weights='uniform')"
            ]
          },
          "metadata": {
            "tags": []
          },
          "execution_count": 264
        }
      ]
    },
    {
      "cell_type": "code",
      "metadata": {
        "colab": {
          "base_uri": "https://localhost:8080/"
        },
        "id": "PDPRqwlASb2Y",
        "outputId": "044bc0e3-f051-484d-ee91-93189a9078fa"
      },
      "source": [
        "# printing of classification report\n",
        "from sklearn.metrics import confusion_matrix, classification_report\n",
        "print(classification_report(y_test, knc.predict(X_test)))"
      ],
      "execution_count": 265,
      "outputs": [
        {
          "output_type": "stream",
          "text": [
            "              precision    recall  f1-score   support\n",
            "\n",
            "           3       0.00      0.00      0.00         1\n",
            "           4       0.50      0.07      0.12        15\n",
            "           5       0.84      0.89      0.86       222\n",
            "           6       0.82      0.88      0.85       224\n",
            "           7       0.80      0.66      0.72        59\n",
            "           8       0.00      0.00      0.00         7\n",
            "\n",
            "    accuracy                           0.83       528\n",
            "   macro avg       0.49      0.42      0.43       528\n",
            "weighted avg       0.80      0.83      0.81       528\n",
            "\n"
          ],
          "name": "stdout"
        },
        {
          "output_type": "stream",
          "text": [
            "/usr/local/lib/python3.7/dist-packages/sklearn/metrics/_classification.py:1272: UndefinedMetricWarning: Precision and F-score are ill-defined and being set to 0.0 in labels with no predicted samples. Use `zero_division` parameter to control this behavior.\n",
            "  _warn_prf(average, modifier, msg_start, len(result))\n"
          ],
          "name": "stderr"
        }
      ]
    },
    {
      "cell_type": "code",
      "metadata": {
        "colab": {
          "base_uri": "https://localhost:8080/"
        },
        "id": "UeASU1gISg20",
        "outputId": "0b474b29-a937-44b4-947d-62ac7d9b8b5e"
      },
      "source": [
        "# confusion matrix for duffrent K \n",
        "print(confusion_matrix(y_test, knc.predict(X_test)))"
      ],
      "execution_count": 266,
      "outputs": [
        {
          "output_type": "stream",
          "text": [
            "[[  0   1   0   0   0   0]\n",
            " [  0   1  14   0   0   0]\n",
            " [  0   0 198  24   0   0]\n",
            " [  0   0  23 198   3   0]\n",
            " [  0   0   1  19  39   0]\n",
            " [  0   0   0   0   7   0]]\n"
          ],
          "name": "stdout"
        }
      ]
    },
    {
      "cell_type": "markdown",
      "metadata": {
        "id": "sXWbhA56XQkc"
      },
      "source": [
        "here we can see that for some parameters if is giving value of precision,recall,f1 as 0 which is reason for getting this much low accuracy if we convert in binary class i.e, for value quality > 5 =good and < 5 = bas then we can achive more accuracy "
      ]
    },
    {
      "cell_type": "markdown",
      "metadata": {
        "id": "h3EGGu7nX3An"
      },
      "source": [
        "## CART (Random forest)"
      ]
    },
    {
      "cell_type": "code",
      "metadata": {
        "id": "8cCqxjhrZc0R",
        "colab": {
          "base_uri": "https://localhost:8080/"
        },
        "outputId": "4a7e7349-5c6d-4f88-ac83-bbb17867cf78"
      },
      "source": [
        "labels=np.array(dataset['quality'])\n",
        "labels"
      ],
      "execution_count": 267,
      "outputs": [
        {
          "output_type": "execute_result",
          "data": {
            "text/plain": [
              "array([5, 5, 5, ..., 6, 5, 6])"
            ]
          },
          "metadata": {
            "tags": []
          },
          "execution_count": 267
        }
      ]
    },
    {
      "cell_type": "code",
      "metadata": {
        "colab": {
          "base_uri": "https://localhost:8080/",
          "height": 0
        },
        "id": "fVTu4IdGZv-e",
        "outputId": "b4f27e2f-3d62-4959-86ee-fa1082cbd556"
      },
      "source": [
        "#droping Last column of Quality \n",
        "dataset = dataset[dataset.columns[:-1]]\n",
        "dataset"
      ],
      "execution_count": 268,
      "outputs": [
        {
          "output_type": "execute_result",
          "data": {
            "text/html": [
              "<div>\n",
              "<style scoped>\n",
              "    .dataframe tbody tr th:only-of-type {\n",
              "        vertical-align: middle;\n",
              "    }\n",
              "\n",
              "    .dataframe tbody tr th {\n",
              "        vertical-align: top;\n",
              "    }\n",
              "\n",
              "    .dataframe thead th {\n",
              "        text-align: right;\n",
              "    }\n",
              "</style>\n",
              "<table border=\"1\" class=\"dataframe\">\n",
              "  <thead>\n",
              "    <tr style=\"text-align: right;\">\n",
              "      <th></th>\n",
              "      <th>fixed acidity</th>\n",
              "      <th>volatile acidity</th>\n",
              "      <th>citric acid</th>\n",
              "      <th>residual sugar</th>\n",
              "      <th>chlorides</th>\n",
              "      <th>free sulfur dioxide</th>\n",
              "      <th>total sulfur dioxide</th>\n",
              "      <th>density</th>\n",
              "      <th>pH</th>\n",
              "      <th>sulphates</th>\n",
              "      <th>alcohol</th>\n",
              "    </tr>\n",
              "  </thead>\n",
              "  <tbody>\n",
              "    <tr>\n",
              "      <th>0</th>\n",
              "      <td>7.4</td>\n",
              "      <td>0.700</td>\n",
              "      <td>0.00</td>\n",
              "      <td>1.9</td>\n",
              "      <td>0.076</td>\n",
              "      <td>11.0</td>\n",
              "      <td>34.0</td>\n",
              "      <td>0.99780</td>\n",
              "      <td>3.51</td>\n",
              "      <td>0.56</td>\n",
              "      <td>9.4</td>\n",
              "    </tr>\n",
              "    <tr>\n",
              "      <th>1</th>\n",
              "      <td>7.8</td>\n",
              "      <td>0.880</td>\n",
              "      <td>0.00</td>\n",
              "      <td>2.6</td>\n",
              "      <td>0.098</td>\n",
              "      <td>25.0</td>\n",
              "      <td>67.0</td>\n",
              "      <td>0.99680</td>\n",
              "      <td>3.20</td>\n",
              "      <td>0.68</td>\n",
              "      <td>9.8</td>\n",
              "    </tr>\n",
              "    <tr>\n",
              "      <th>2</th>\n",
              "      <td>7.8</td>\n",
              "      <td>0.760</td>\n",
              "      <td>0.04</td>\n",
              "      <td>2.3</td>\n",
              "      <td>0.092</td>\n",
              "      <td>15.0</td>\n",
              "      <td>54.0</td>\n",
              "      <td>0.99700</td>\n",
              "      <td>3.26</td>\n",
              "      <td>0.65</td>\n",
              "      <td>9.8</td>\n",
              "    </tr>\n",
              "    <tr>\n",
              "      <th>3</th>\n",
              "      <td>11.2</td>\n",
              "      <td>0.280</td>\n",
              "      <td>0.56</td>\n",
              "      <td>1.9</td>\n",
              "      <td>0.075</td>\n",
              "      <td>17.0</td>\n",
              "      <td>60.0</td>\n",
              "      <td>0.99800</td>\n",
              "      <td>3.16</td>\n",
              "      <td>0.58</td>\n",
              "      <td>9.8</td>\n",
              "    </tr>\n",
              "    <tr>\n",
              "      <th>4</th>\n",
              "      <td>7.4</td>\n",
              "      <td>0.700</td>\n",
              "      <td>0.00</td>\n",
              "      <td>1.9</td>\n",
              "      <td>0.076</td>\n",
              "      <td>11.0</td>\n",
              "      <td>34.0</td>\n",
              "      <td>0.99780</td>\n",
              "      <td>3.51</td>\n",
              "      <td>0.56</td>\n",
              "      <td>9.4</td>\n",
              "    </tr>\n",
              "    <tr>\n",
              "      <th>...</th>\n",
              "      <td>...</td>\n",
              "      <td>...</td>\n",
              "      <td>...</td>\n",
              "      <td>...</td>\n",
              "      <td>...</td>\n",
              "      <td>...</td>\n",
              "      <td>...</td>\n",
              "      <td>...</td>\n",
              "      <td>...</td>\n",
              "      <td>...</td>\n",
              "      <td>...</td>\n",
              "    </tr>\n",
              "    <tr>\n",
              "      <th>1594</th>\n",
              "      <td>6.2</td>\n",
              "      <td>0.600</td>\n",
              "      <td>0.08</td>\n",
              "      <td>2.0</td>\n",
              "      <td>0.090</td>\n",
              "      <td>32.0</td>\n",
              "      <td>44.0</td>\n",
              "      <td>0.99490</td>\n",
              "      <td>3.45</td>\n",
              "      <td>0.58</td>\n",
              "      <td>10.5</td>\n",
              "    </tr>\n",
              "    <tr>\n",
              "      <th>1595</th>\n",
              "      <td>5.9</td>\n",
              "      <td>0.550</td>\n",
              "      <td>0.10</td>\n",
              "      <td>2.2</td>\n",
              "      <td>0.062</td>\n",
              "      <td>39.0</td>\n",
              "      <td>51.0</td>\n",
              "      <td>0.99512</td>\n",
              "      <td>3.52</td>\n",
              "      <td>0.76</td>\n",
              "      <td>11.2</td>\n",
              "    </tr>\n",
              "    <tr>\n",
              "      <th>1596</th>\n",
              "      <td>6.3</td>\n",
              "      <td>0.510</td>\n",
              "      <td>0.13</td>\n",
              "      <td>2.3</td>\n",
              "      <td>0.076</td>\n",
              "      <td>29.0</td>\n",
              "      <td>40.0</td>\n",
              "      <td>0.99574</td>\n",
              "      <td>3.42</td>\n",
              "      <td>0.75</td>\n",
              "      <td>11.0</td>\n",
              "    </tr>\n",
              "    <tr>\n",
              "      <th>1597</th>\n",
              "      <td>5.9</td>\n",
              "      <td>0.645</td>\n",
              "      <td>0.12</td>\n",
              "      <td>2.0</td>\n",
              "      <td>0.075</td>\n",
              "      <td>32.0</td>\n",
              "      <td>44.0</td>\n",
              "      <td>0.99547</td>\n",
              "      <td>3.57</td>\n",
              "      <td>0.71</td>\n",
              "      <td>10.2</td>\n",
              "    </tr>\n",
              "    <tr>\n",
              "      <th>1598</th>\n",
              "      <td>6.0</td>\n",
              "      <td>0.310</td>\n",
              "      <td>0.47</td>\n",
              "      <td>3.6</td>\n",
              "      <td>0.067</td>\n",
              "      <td>18.0</td>\n",
              "      <td>42.0</td>\n",
              "      <td>0.99549</td>\n",
              "      <td>3.39</td>\n",
              "      <td>0.66</td>\n",
              "      <td>11.0</td>\n",
              "    </tr>\n",
              "  </tbody>\n",
              "</table>\n",
              "<p>1599 rows × 11 columns</p>\n",
              "</div>"
            ],
            "text/plain": [
              "      fixed acidity  volatile acidity  citric acid  ...    pH  sulphates  alcohol\n",
              "0               7.4             0.700         0.00  ...  3.51       0.56      9.4\n",
              "1               7.8             0.880         0.00  ...  3.20       0.68      9.8\n",
              "2               7.8             0.760         0.04  ...  3.26       0.65      9.8\n",
              "3              11.2             0.280         0.56  ...  3.16       0.58      9.8\n",
              "4               7.4             0.700         0.00  ...  3.51       0.56      9.4\n",
              "...             ...               ...          ...  ...   ...        ...      ...\n",
              "1594            6.2             0.600         0.08  ...  3.45       0.58     10.5\n",
              "1595            5.9             0.550         0.10  ...  3.52       0.76     11.2\n",
              "1596            6.3             0.510         0.13  ...  3.42       0.75     11.0\n",
              "1597            5.9             0.645         0.12  ...  3.57       0.71     10.2\n",
              "1598            6.0             0.310         0.47  ...  3.39       0.66     11.0\n",
              "\n",
              "[1599 rows x 11 columns]"
            ]
          },
          "metadata": {
            "tags": []
          },
          "execution_count": 268
        }
      ]
    },
    {
      "cell_type": "code",
      "metadata": {
        "colab": {
          "base_uri": "https://localhost:8080/"
        },
        "id": "5l7vuBGzbLt7",
        "outputId": "748ac484-b11f-4657-da80-2195b4218eff"
      },
      "source": [
        "features_list = list(dataset.columns)\n",
        "dataset=np.array(dataset)\n",
        "dataset"
      ],
      "execution_count": 269,
      "outputs": [
        {
          "output_type": "execute_result",
          "data": {
            "text/plain": [
              "array([[ 7.4  ,  0.7  ,  0.   , ...,  3.51 ,  0.56 ,  9.4  ],\n",
              "       [ 7.8  ,  0.88 ,  0.   , ...,  3.2  ,  0.68 ,  9.8  ],\n",
              "       [ 7.8  ,  0.76 ,  0.04 , ...,  3.26 ,  0.65 ,  9.8  ],\n",
              "       ...,\n",
              "       [ 6.3  ,  0.51 ,  0.13 , ...,  3.42 ,  0.75 , 11.   ],\n",
              "       [ 5.9  ,  0.645,  0.12 , ...,  3.57 ,  0.71 , 10.2  ],\n",
              "       [ 6.   ,  0.31 ,  0.47 , ...,  3.39 ,  0.66 , 11.   ]])"
            ]
          },
          "metadata": {
            "tags": []
          },
          "execution_count": 269
        }
      ]
    },
    {
      "cell_type": "code",
      "metadata": {
        "id": "JzlfT_lIbRjm"
      },
      "source": [
        "# spliting data in train and test dataset \n",
        "from sklearn.model_selection import train_test_split\n",
        "X_train, X_test, y_train, y_test = train_test_split(dataset, labels, test_size = 0.33, random_state=110) # here 33% dataset will be of testing and 67% will be for training"
      ],
      "execution_count": 270,
      "outputs": []
    },
    {
      "cell_type": "code",
      "metadata": {
        "colab": {
          "base_uri": "https://localhost:8080/"
        },
        "id": "aXRPdMQrbpTH",
        "outputId": "c47589d7-1cf4-4d50-b6df-2caa80e9e02b"
      },
      "source": [
        "from sklearn.ensemble import RandomForestRegressor\n",
        "rf = RandomForestRegressor(n_estimators=500,random_state=42)\n",
        "rf.fit(X_train,y_train)"
      ],
      "execution_count": 271,
      "outputs": [
        {
          "output_type": "execute_result",
          "data": {
            "text/plain": [
              "RandomForestRegressor(bootstrap=True, ccp_alpha=0.0, criterion='mse',\n",
              "                      max_depth=None, max_features='auto', max_leaf_nodes=None,\n",
              "                      max_samples=None, min_impurity_decrease=0.0,\n",
              "                      min_impurity_split=None, min_samples_leaf=1,\n",
              "                      min_samples_split=2, min_weight_fraction_leaf=0.0,\n",
              "                      n_estimators=500, n_jobs=None, oob_score=False,\n",
              "                      random_state=42, verbose=0, warm_start=False)"
            ]
          },
          "metadata": {
            "tags": []
          },
          "execution_count": 271
        }
      ]
    },
    {
      "cell_type": "code",
      "metadata": {
        "colab": {
          "base_uri": "https://localhost:8080/"
        },
        "id": "2Z9SCyddb1GK",
        "outputId": "b100d943-27cb-4f54-cc73-73308bf54122"
      },
      "source": [
        "predictions = rf.predict(X_test)\n",
        "predictions"
      ],
      "execution_count": 272,
      "outputs": [
        {
          "output_type": "execute_result",
          "data": {
            "text/plain": [
              "array([5.774, 5.346, 5.724, 6.51 , 6.184, 6.62 , 6.308, 5.42 , 5.626,\n",
              "       5.206, 5.278, 6.492, 6.014, 5.586, 6.972, 5.238, 6.204, 6.56 ,\n",
              "       5.892, 5.102, 6.026, 4.84 , 6.512, 5.828, 5.178, 5.068, 5.67 ,\n",
              "       4.912, 5.132, 5.698, 6.916, 5.284, 5.748, 5.874, 5.878, 6.25 ,\n",
              "       5.17 , 6.838, 6.444, 5.894, 5.422, 6.278, 5.142, 5.946, 5.932,\n",
              "       6.138, 5.388, 5.512, 5.284, 5.192, 5.53 , 5.094, 5.942, 6.084,\n",
              "       5.076, 5.216, 5.392, 6.262, 4.924, 5.104, 6.958, 5.996, 6.726,\n",
              "       5.864, 5.116, 5.634, 6.558, 4.974, 5.306, 6.708, 5.104, 5.412,\n",
              "       5.498, 5.352, 5.154, 5.422, 5.658, 5.28 , 6.96 , 5.286, 5.192,\n",
              "       5.078, 5.382, 4.548, 5.552, 6.022, 5.458, 5.71 , 6.084, 5.376,\n",
              "       5.09 , 5.572, 5.158, 5.182, 5.796, 5.268, 5.164, 5.894, 6.144,\n",
              "       6.324, 6.644, 5.252, 6.616, 5.716, 5.674, 5.14 , 5.932, 6.244,\n",
              "       6.75 , 5.2  , 5.254, 6.098, 5.966, 5.176, 5.416, 5.966, 5.358,\n",
              "       5.05 , 5.092, 5.36 , 6.28 , 6.   , 6.146, 6.056, 5.832, 5.058,\n",
              "       6.142, 5.024, 6.298, 5.466, 5.6  , 5.828, 6.088, 6.838, 5.18 ,\n",
              "       5.142, 5.988, 5.142, 4.97 , 5.85 , 6.118, 5.16 , 5.468, 4.862,\n",
              "       5.098, 5.32 , 5.31 , 5.256, 5.274, 6.11 , 6.114, 5.46 , 5.804,\n",
              "       5.542, 5.806, 5.42 , 6.73 , 5.096, 5.178, 6.804, 5.718, 6.792,\n",
              "       5.804, 5.106, 4.98 , 5.058, 4.988, 5.836, 5.988, 6.262, 5.356,\n",
              "       5.95 , 5.542, 5.576, 6.342, 5.88 , 5.38 , 6.01 , 5.09 , 5.732,\n",
              "       5.234, 5.448, 5.624, 5.98 , 5.062, 6.738, 5.152, 5.974, 5.942,\n",
              "       6.012, 5.406, 5.41 , 5.218, 5.102, 5.128, 5.114, 5.462, 5.038,\n",
              "       5.592, 6.   , 5.12 , 6.068, 4.914, 5.868, 6.608, 4.536, 5.148,\n",
              "       6.25 , 5.896, 5.782, 5.468, 4.812, 5.572, 5.51 , 5.08 , 5.996,\n",
              "       5.972, 5.236, 6.512, 5.286, 5.914, 5.112, 5.186, 6.724, 5.158,\n",
              "       5.08 , 4.978, 6.12 , 5.286, 5.632, 5.146, 5.63 , 5.298, 6.344,\n",
              "       6.072, 5.216, 5.098, 4.862, 5.67 , 5.616, 6.196, 5.348, 5.454,\n",
              "       5.118, 5.254, 4.996, 5.866, 5.978, 5.798, 5.152, 7.034, 6.782,\n",
              "       5.634, 6.616, 4.84 , 6.002, 5.756, 5.534, 5.05 , 5.132, 5.358,\n",
              "       5.05 , 5.054, 6.174, 6.536, 5.312, 6.588, 5.45 , 5.504, 5.058,\n",
              "       6.28 , 5.482, 5.45 , 5.206, 5.828, 5.552, 6.884, 5.796, 5.954,\n",
              "       6.184, 6.15 , 5.25 , 6.064, 6.026, 5.402, 5.97 , 4.618, 5.052,\n",
              "       5.026, 5.53 , 5.314, 4.876, 5.58 , 5.138, 5.068, 6.166, 5.45 ,\n",
              "       5.404, 5.37 , 7.078, 5.382, 6.79 , 5.688, 6.112, 5.942, 6.21 ,\n",
              "       5.028, 5.068, 6.59 , 5.046, 5.216, 6.002, 6.664, 5.306, 5.32 ,\n",
              "       5.192, 6.562, 7.09 , 5.678, 6.398, 5.296, 5.59 , 5.132, 5.524,\n",
              "       5.16 , 5.726, 6.128, 5.46 , 5.254, 6.776, 5.594, 5.502, 5.992,\n",
              "       4.924, 5.95 , 6.056, 6.992, 5.242, 5.666, 5.216, 5.244, 5.462,\n",
              "       5.612, 5.976, 6.626, 6.25 , 5.446, 6.658, 5.264, 5.48 , 4.786,\n",
              "       5.034, 5.152, 5.5  , 5.528, 5.42 , 5.908, 5.166, 5.244, 4.644,\n",
              "       5.284, 5.594, 6.026, 5.918, 5.394, 6.774, 6.826, 7.064, 5.09 ,\n",
              "       6.294, 5.332, 5.254, 6.462, 6.082, 5.144, 5.12 , 5.202, 5.516,\n",
              "       5.756, 5.92 , 5.1  , 5.154, 4.644, 5.052, 5.356, 5.988, 5.594,\n",
              "       5.068, 4.932, 5.17 , 5.4  , 5.956, 5.154, 6.11 , 6.708, 6.378,\n",
              "       5.008, 5.144, 6.078, 5.144, 6.422, 5.576, 5.108, 6.866, 6.452,\n",
              "       5.412, 5.03 , 5.674, 4.478, 5.956, 5.298, 5.514, 5.246, 5.104,\n",
              "       6.656, 4.93 , 6.046, 5.696, 5.204, 6.622, 5.302, 7.044, 5.254,\n",
              "       5.61 , 6.428, 5.122, 4.882, 5.678, 4.972, 5.716, 6.66 , 5.768,\n",
              "       5.54 , 5.332, 5.262, 6.378, 6.934, 5.326, 6.09 , 5.44 , 6.388,\n",
              "       5.036, 5.182, 6.538, 5.628, 5.754, 5.75 , 5.23 , 4.834, 6.782,\n",
              "       5.632, 5.882, 5.348, 5.774, 5.274, 6.174, 5.182, 5.018, 5.4  ,\n",
              "       5.924, 5.476, 5.032, 5.528, 5.3  , 6.556, 5.572, 6.376, 5.64 ,\n",
              "       5.436, 6.044, 5.068, 5.696, 6.272, 5.348, 5.05 , 5.008, 5.242,\n",
              "       6.23 , 5.25 , 6.238, 6.238, 5.1  , 5.92 , 6.05 , 5.314, 5.752,\n",
              "       4.66 , 6.708, 5.96 , 5.664, 5.972, 6.712, 5.148, 5.028, 5.1  ,\n",
              "       5.234, 5.62 , 5.388, 5.098, 5.172, 7.056, 5.058, 5.686, 5.286,\n",
              "       5.402, 5.346, 5.382, 6.972, 5.616, 5.1  , 5.672, 5.012, 5.908,\n",
              "       7.064, 5.204, 5.064, 5.202, 5.918, 5.7  , 6.556, 5.708, 5.178,\n",
              "       5.108, 5.28 , 5.738, 5.44 , 5.824, 6.594])"
            ]
          },
          "metadata": {
            "tags": []
          },
          "execution_count": 272
        }
      ]
    },
    {
      "cell_type": "code",
      "metadata": {
        "colab": {
          "base_uri": "https://localhost:8080/"
        },
        "id": "ft4x0O3jb_ok",
        "outputId": "243fe714-9120-4737-a4fa-911adeef6c1b"
      },
      "source": [
        "errors= abs(predictions-y_test)\n",
        "errors"
      ],
      "execution_count": 273,
      "outputs": [
        {
          "output_type": "execute_result",
          "data": {
            "text/plain": [
              "array([2.260e-01, 6.540e-01, 2.760e-01, 4.900e-01, 1.816e+00, 3.800e-01,\n",
              "       3.080e-01, 5.800e-01, 6.260e-01, 2.060e-01, 2.780e-01, 5.080e-01,\n",
              "       1.400e-02, 5.860e-01, 2.800e-02, 7.620e-01, 7.960e-01, 5.600e-01,\n",
              "       1.080e-01, 1.020e-01, 2.600e-02, 1.600e-01, 5.120e-01, 1.720e-01,\n",
              "       1.780e-01, 9.320e-01, 6.700e-01, 8.800e-02, 1.320e-01, 3.020e-01,\n",
              "       8.400e-02, 2.840e-01, 2.520e-01, 1.260e-01, 1.122e+00, 2.500e-01,\n",
              "       1.700e-01, 8.380e-01, 1.556e+00, 1.060e-01, 5.780e-01, 2.780e-01,\n",
              "       8.580e-01, 5.400e-02, 6.800e-02, 1.380e-01, 6.120e-01, 5.120e-01,\n",
              "       7.160e-01, 1.920e-01, 5.300e-01, 1.094e+00, 9.420e-01, 8.400e-02,\n",
              "       9.240e-01, 2.160e-01, 3.920e-01, 2.620e-01, 7.600e-02, 1.040e-01,\n",
              "       4.200e-02, 4.000e-03, 2.740e-01, 1.360e-01, 1.160e-01, 6.340e-01,\n",
              "       4.420e-01, 2.600e-02, 3.060e-01, 2.920e-01, 1.040e-01, 4.120e-01,\n",
              "       4.980e-01, 3.520e-01, 1.540e-01, 4.220e-01, 6.580e-01, 7.200e-01,\n",
              "       4.000e-02, 2.860e-01, 1.920e-01, 7.800e-02, 3.820e-01, 4.520e-01,\n",
              "       5.520e-01, 9.780e-01, 5.420e-01, 2.900e-01, 8.400e-02, 3.760e-01,\n",
              "       9.000e-02, 4.280e-01, 1.580e-01, 1.820e-01, 2.040e-01, 2.680e-01,\n",
              "       1.640e-01, 1.894e+00, 8.560e-01, 3.240e-01, 3.560e-01, 2.520e-01,\n",
              "       3.840e-01, 7.160e-01, 3.260e-01, 1.400e-01, 6.800e-02, 2.440e-01,\n",
              "       7.500e-01, 2.000e-01, 2.540e-01, 1.098e+00, 3.400e-02, 1.760e-01,\n",
              "       4.160e-01, 3.400e-02, 6.420e-01, 5.000e-02, 9.200e-02, 6.400e-01,\n",
              "       7.200e-01, 0.000e+00, 1.460e-01, 5.600e-02, 1.680e-01, 5.800e-02,\n",
              "       1.420e-01, 2.400e-02, 2.980e-01, 4.660e-01, 4.000e-01, 1.720e-01,\n",
              "       8.800e-02, 8.380e-01, 1.800e-01, 1.420e-01, 1.200e-02, 1.420e-01,\n",
              "       3.000e-02, 8.500e-01, 8.820e-01, 1.600e-01, 4.680e-01, 1.380e-01,\n",
              "       9.800e-02, 3.200e-01, 6.900e-01, 7.440e-01, 7.260e-01, 8.900e-01,\n",
              "       1.140e-01, 5.400e-01, 1.804e+00, 4.580e-01, 1.940e-01, 4.200e-01,\n",
              "       2.700e-01, 9.600e-02, 1.780e-01, 1.960e-01, 1.718e+00, 2.080e-01,\n",
              "       1.960e-01, 1.060e-01, 1.020e+00, 5.800e-02, 1.200e-02, 1.640e-01,\n",
              "       1.200e-02, 2.620e-01, 3.560e-01, 5.000e-02, 5.420e-01, 4.240e-01,\n",
              "       3.420e-01, 1.200e-01, 3.800e-01, 1.000e-02, 9.000e-02, 2.680e-01,\n",
              "       2.340e-01, 4.480e-01, 3.760e-01, 2.000e-02, 6.200e-02, 7.380e-01,\n",
              "       1.520e-01, 2.600e-02, 9.420e-01, 1.012e+00, 4.060e-01, 4.100e-01,\n",
              "       7.820e-01, 2.102e+00, 1.280e-01, 1.140e-01, 4.620e-01, 3.800e-02,\n",
              "       4.080e-01, 1.000e+00, 1.200e-01, 6.800e-02, 8.600e-02, 1.320e-01,\n",
              "       6.080e-01, 1.464e+00, 1.480e-01, 1.250e+00, 1.104e+00, 2.180e-01,\n",
              "       5.320e-01, 1.188e+00, 4.280e-01, 5.100e-01, 8.000e-02, 4.000e-03,\n",
              "       2.800e-02, 2.360e-01, 5.120e-01, 2.860e-01, 8.600e-02, 1.120e-01,\n",
              "       8.140e-01, 7.240e-01, 1.580e-01, 8.000e-02, 2.200e-02, 1.200e-01,\n",
              "       2.860e-01, 3.680e-01, 8.540e-01, 3.700e-01, 2.980e-01, 6.560e-01,\n",
              "       7.200e-02, 2.160e-01, 9.800e-02, 1.380e-01, 6.700e-01, 3.840e-01,\n",
              "       8.040e-01, 3.480e-01, 5.460e-01, 1.180e-01, 7.460e-01, 4.000e-03,\n",
              "       1.340e-01, 2.200e-02, 2.020e-01, 1.848e+00, 1.034e+00, 2.180e-01,\n",
              "       3.660e-01, 3.840e-01, 1.600e-01, 2.000e-03, 2.440e-01, 4.660e-01,\n",
              "       5.000e-02, 1.320e-01, 3.580e-01, 5.000e-02, 5.400e-02, 1.740e-01,\n",
              "       5.360e-01, 3.120e-01, 5.880e-01, 5.500e-01, 5.040e-01, 5.800e-02,\n",
              "       7.200e-01, 5.180e-01, 5.500e-01, 2.060e-01, 1.720e-01, 5.520e-01,\n",
              "       1.160e-01, 2.040e-01, 4.600e-02, 1.816e+00, 1.500e-01, 2.500e-01,\n",
              "       6.400e-02, 2.600e-02, 5.980e-01, 3.000e-02, 6.180e-01, 5.200e-02,\n",
              "       2.600e-02, 4.700e-01, 6.860e-01, 8.760e-01, 4.200e-01, 1.380e-01,\n",
              "       6.800e-02, 1.660e-01, 4.500e-01, 4.040e-01, 3.700e-01, 7.800e-02,\n",
              "       3.820e-01, 2.100e-01, 3.120e-01, 1.120e-01, 9.420e-01, 2.100e-01,\n",
              "       1.028e+00, 6.800e-02, 4.100e-01, 4.600e-02, 2.160e-01, 2.000e-03,\n",
              "       3.360e-01, 3.060e-01, 3.200e-01, 8.080e-01, 5.620e-01, 9.000e-02,\n",
              "       6.780e-01, 6.020e-01, 7.040e-01, 4.100e-01, 1.320e-01, 4.760e-01,\n",
              "       1.600e-01, 2.740e-01, 1.280e-01, 5.400e-01, 2.540e-01, 7.760e-01,\n",
              "       4.060e-01, 5.020e-01, 8.000e-03, 9.240e-01, 5.000e-02, 5.600e-02,\n",
              "       8.000e-03, 7.580e-01, 3.340e-01, 2.160e-01, 2.440e-01, 4.620e-01,\n",
              "       3.880e-01, 2.400e-02, 3.740e-01, 7.500e-01, 5.540e-01, 6.580e-01,\n",
              "       2.640e-01, 4.800e-01, 2.140e-01, 3.400e-02, 1.848e+00, 5.000e-01,\n",
              "       4.720e-01, 4.200e-01, 9.200e-02, 8.340e-01, 7.560e-01, 3.560e-01,\n",
              "       2.840e-01, 4.060e-01, 2.600e-02, 8.200e-02, 3.940e-01, 2.260e-01,\n",
              "       1.174e+00, 6.400e-02, 9.000e-02, 2.940e-01, 3.320e-01, 2.540e-01,\n",
              "       1.462e+00, 8.200e-02, 1.440e-01, 1.200e-01, 7.980e-01, 5.160e-01,\n",
              "       1.756e+00, 8.000e-02, 1.000e-01, 1.540e-01, 3.560e-01, 5.200e-02,\n",
              "       3.560e-01, 1.200e-02, 4.060e-01, 6.800e-02, 1.068e+00, 1.700e-01,\n",
              "       6.000e-01, 4.400e-02, 1.540e-01, 1.100e-01, 2.920e-01, 3.780e-01,\n",
              "       8.000e-03, 1.440e-01, 9.220e-01, 1.440e-01, 5.780e-01, 4.240e-01,\n",
              "       1.080e-01, 1.340e-01, 4.520e-01, 4.120e-01, 3.000e-02, 3.260e-01,\n",
              "       5.220e-01, 4.400e-02, 2.980e-01, 4.860e-01, 7.540e-01, 1.040e-01,\n",
              "       1.344e+00, 7.000e-02, 9.540e-01, 6.960e-01, 1.204e+00, 6.220e-01,\n",
              "       3.020e-01, 4.400e-02, 2.540e-01, 6.100e-01, 5.720e-01, 1.220e-01,\n",
              "       1.180e-01, 6.780e-01, 1.028e+00, 7.160e-01, 3.400e-01, 2.320e-01,\n",
              "       5.400e-01, 3.320e-01, 2.620e-01, 3.780e-01, 1.934e+00, 6.740e-01,\n",
              "       9.000e-02, 4.400e-01, 1.388e+00, 3.600e-02, 1.820e-01, 1.462e+00,\n",
              "       3.720e-01, 1.246e+00, 1.250e+00, 2.300e-01, 1.660e-01, 2.180e-01,\n",
              "       3.680e-01, 8.820e-01, 3.480e-01, 2.260e-01, 2.740e-01, 1.740e-01,\n",
              "       1.820e-01, 1.800e-02, 6.000e-01, 7.600e-02, 4.760e-01, 3.200e-02,\n",
              "       4.720e-01, 3.000e-01, 5.560e-01, 4.280e-01, 1.624e+00, 3.600e-01,\n",
              "       5.640e-01, 4.400e-02, 9.320e-01, 3.040e-01, 7.280e-01, 3.480e-01,\n",
              "       1.050e+00, 1.008e+00, 2.420e-01, 2.300e-01, 7.500e-01, 2.380e-01,\n",
              "       2.380e-01, 1.000e-01, 8.000e-02, 5.000e-02, 6.860e-01, 2.480e-01,\n",
              "       3.400e-01, 2.920e-01, 1.960e+00, 3.360e-01, 2.800e-02, 2.712e+00,\n",
              "       1.480e-01, 2.800e-02, 1.000e-01, 2.340e-01, 3.800e-01, 6.120e-01,\n",
              "       9.800e-02, 1.720e-01, 1.056e+00, 5.800e-02, 3.140e-01, 7.140e-01,\n",
              "       4.020e-01, 6.540e-01, 3.820e-01, 2.800e-02, 3.840e-01, 1.000e-01,\n",
              "       3.280e-01, 1.200e-02, 9.200e-02, 6.400e-02, 2.040e-01, 6.400e-02,\n",
              "       7.980e-01, 9.180e-01, 7.000e-01, 4.440e-01, 2.920e-01, 8.220e-01,\n",
              "       1.108e+00, 7.200e-01, 2.620e-01, 5.600e-01, 1.760e-01, 5.940e-01])"
            ]
          },
          "metadata": {
            "tags": []
          },
          "execution_count": 273
        }
      ]
    },
    {
      "cell_type": "code",
      "metadata": {
        "colab": {
          "base_uri": "https://localhost:8080/"
        },
        "id": "M3vLesxNcKJo",
        "outputId": "ba79e033-4bda-4420-d52e-d9cb1ddcde48"
      },
      "source": [
        "# Mean_absolute percentage error\n",
        "mape=100*(errors/y_test)\n",
        "mean_error = np.mean(mape)\n",
        "accuracy = 100-mean_error\n",
        "print (\"Accuracy is : \",accuracy) "
      ],
      "execution_count": 274,
      "outputs": [
        {
          "output_type": "stream",
          "text": [
            "Accuracy is :  92.64311417748918\n"
          ],
          "name": "stdout"
        }
      ]
    },
    {
      "cell_type": "code",
      "metadata": {
        "id": "pQDtgwKmcSup"
      },
      "source": [
        "from sklearn.tree import export_graphviz\n",
        "import pydot"
      ],
      "execution_count": 275,
      "outputs": []
    },
    {
      "cell_type": "code",
      "metadata": {
        "id": "-UsFVYBAcTmX"
      },
      "source": [
        "tree=rf.estimators_[5]\n",
        "export_graphviz(tree,out_file='tree.dot',feature_names=features_list,rounded=True,precision=1)"
      ],
      "execution_count": 276,
      "outputs": []
    },
    {
      "cell_type": "code",
      "metadata": {
        "id": "jqhX6SGfcTfr"
      },
      "source": [
        "(graph,)=pydot.graph_from_dot_file('tree.dot')\n",
        "graph.write_png('tree.png');"
      ],
      "execution_count": 277,
      "outputs": []
    },
    {
      "cell_type": "markdown",
      "metadata": {
        "id": "1iDwi9LMmK0F"
      },
      "source": [
        "##Hierarchical clustering"
      ]
    },
    {
      "cell_type": "code",
      "metadata": {
        "id": "cbGyLHQDGUK4"
      },
      "source": [
        "# Nomalizing data\n",
        "from sklearn.preprocessing import StandardScaler\n",
        "\n",
        "scaler = StandardScaler()\n",
        "scaler = scaler.fit(x)\n",
        "x = scaler.transform(x)"
      ],
      "execution_count": 278,
      "outputs": []
    },
    {
      "cell_type": "code",
      "metadata": {
        "colab": {
          "base_uri": "https://localhost:8080/",
          "height": 268
        },
        "id": "ZjjGsXe7x7k3",
        "outputId": "57e52d5c-ba9c-4b64-8ae5-1f338efe5507"
      },
      "source": [
        "import scipy.cluster.hierarchy as sch\n",
        "dendrogram = sch.dendrogram(sch.linkage(x,method='ward'))"
      ],
      "execution_count": 279,
      "outputs": [
        {
          "output_type": "display_data",
          "data": {
            "image/png": "[encoded data removed]",
            "text/plain": [
              "<Figure size 432x288 with 1 Axes>"
            ]
          },
          "metadata": {
            "tags": [],
            "needs_background": "light"
          }
        }
      ]
    },
    {
      "cell_type": "code",
      "metadata": {
        "id": "VWPoY2lTyUpz"
      },
      "source": [
        "from sklearn.cluster import AgglomerativeClustering"
      ],
      "execution_count": 280,
      "outputs": []
    },
    {
      "cell_type": "code",
      "metadata": {
        "id": "D7M2edFuyVaA"
      },
      "source": [
        "hc=AgglomerativeClustering(n_clusters=7)"
      ],
      "execution_count": 281,
      "outputs": []
    },
    {
      "cell_type": "code",
      "metadata": {
        "colab": {
          "base_uri": "https://localhost:8080/"
        },
        "id": "dBNXxijVygTN",
        "outputId": "8a9a1e90-f664-4e08-c74d-04667010785c"
      },
      "source": [
        "y_hc=hc.fit_predict(x)\n",
        "y_hc"
      ],
      "execution_count": 282,
      "outputs": [
        {
          "output_type": "execute_result",
          "data": {
            "text/plain": [
              "array([2, 0, 2, ..., 0, 0, 0])"
            ]
          },
          "metadata": {
            "tags": []
          },
          "execution_count": 282
        }
      ]
    },
    {
      "cell_type": "code",
      "metadata": {
        "colab": {
          "base_uri": "https://localhost:8080/",
          "height": 299
        },
        "id": "95CLvhBwnuC8",
        "outputId": "c0edb4d4-9d74-4d72-a6b1-9eb0bf2dbf9a"
      },
      "source": [
        "# cluster visulization\n",
        "x=np.array(x)\n",
        "plt.scatter(x[y_hc==0,0],x[y_hc==0,1],c='red',label='cluster1')\n",
        "plt.scatter(x[y_hc==1,0],x[y_hc==1,1],c='blue',label='cluster2')\n",
        "plt.scatter(x[y_hc==2,0],x[y_hc==2,1],c='green',label='cluster3')\n",
        "plt.scatter(x[y_hc==3,0],x[y_hc==3,1],c='yellow',label='cluster4')\n",
        "plt.scatter(x[y_hc==4,0],x[y_hc==4,1],c='magenta',label='cluster5')\n",
        "plt.title('Hierarchical')\n",
        "plt.legend()"
      ],
      "execution_count": 283,
      "outputs": [
        {
          "output_type": "execute_result",
          "data": {
            "text/plain": [
              "<matplotlib.legend.Legend at 0x7f841e521d90>"
            ]
          },
          "metadata": {
            "tags": []
          },
          "execution_count": 283
        },
        {
          "output_type": "display_data",
          "data": {
            "image/png": "[encoded data removed]",
            "text/plain": [
              "<Figure size 432x288 with 1 Axes>"
            ]
          },
          "metadata": {
            "tags": [],
            "needs_background": "light"
          }
        }
      ]
    },
    {
      "cell_type": "markdown",
      "metadata": {
        "id": "KHNOyRZumOt4"
      },
      "source": [
        "##KMeans"
      ]
    },
    {
      "cell_type": "code",
      "metadata": {
        "colab": {
          "base_uri": "https://localhost:8080/",
          "height": 0
        },
        "id": "SPi5iRd-tJWY",
        "outputId": "727c00bb-f8fa-41df-d1a2-2aa405bd3269"
      },
      "source": [
        "type(dataset)\n",
        "dataset=pd.DataFrame(dataset)\n",
        "dataset"
      ],
      "execution_count": 284,
      "outputs": [
        {
          "output_type": "execute_result",
          "data": {
            "text/html": [
              "<div>\n",
              "<style scoped>\n",
              "    .dataframe tbody tr th:only-of-type {\n",
              "        vertical-align: middle;\n",
              "    }\n",
              "\n",
              "    .dataframe tbody tr th {\n",
              "        vertical-align: top;\n",
              "    }\n",
              "\n",
              "    .dataframe thead th {\n",
              "        text-align: right;\n",
              "    }\n",
              "</style>\n",
              "<table border=\"1\" class=\"dataframe\">\n",
              "  <thead>\n",
              "    <tr style=\"text-align: right;\">\n",
              "      <th></th>\n",
              "      <th>0</th>\n",
              "      <th>1</th>\n",
              "      <th>2</th>\n",
              "      <th>3</th>\n",
              "      <th>4</th>\n",
              "      <th>5</th>\n",
              "      <th>6</th>\n",
              "      <th>7</th>\n",
              "      <th>8</th>\n",
              "      <th>9</th>\n",
              "      <th>10</th>\n",
              "    </tr>\n",
              "  </thead>\n",
              "  <tbody>\n",
              "    <tr>\n",
              "      <th>0</th>\n",
              "      <td>7.4</td>\n",
              "      <td>0.700</td>\n",
              "      <td>0.00</td>\n",
              "      <td>1.9</td>\n",
              "      <td>0.076</td>\n",
              "      <td>11.0</td>\n",
              "      <td>34.0</td>\n",
              "      <td>0.99780</td>\n",
              "      <td>3.51</td>\n",
              "      <td>0.56</td>\n",
              "      <td>9.4</td>\n",
              "    </tr>\n",
              "    <tr>\n",
              "      <th>1</th>\n",
              "      <td>7.8</td>\n",
              "      <td>0.880</td>\n",
              "      <td>0.00</td>\n",
              "      <td>2.6</td>\n",
              "      <td>0.098</td>\n",
              "      <td>25.0</td>\n",
              "      <td>67.0</td>\n",
              "      <td>0.99680</td>\n",
              "      <td>3.20</td>\n",
              "      <td>0.68</td>\n",
              "      <td>9.8</td>\n",
              "    </tr>\n",
              "    <tr>\n",
              "      <th>2</th>\n",
              "      <td>7.8</td>\n",
              "      <td>0.760</td>\n",
              "      <td>0.04</td>\n",
              "      <td>2.3</td>\n",
              "      <td>0.092</td>\n",
              "      <td>15.0</td>\n",
              "      <td>54.0</td>\n",
              "      <td>0.99700</td>\n",
              "      <td>3.26</td>\n",
              "      <td>0.65</td>\n",
              "      <td>9.8</td>\n",
              "    </tr>\n",
              "    <tr>\n",
              "      <th>3</th>\n",
              "      <td>11.2</td>\n",
              "      <td>0.280</td>\n",
              "      <td>0.56</td>\n",
              "      <td>1.9</td>\n",
              "      <td>0.075</td>\n",
              "      <td>17.0</td>\n",
              "      <td>60.0</td>\n",
              "      <td>0.99800</td>\n",
              "      <td>3.16</td>\n",
              "      <td>0.58</td>\n",
              "      <td>9.8</td>\n",
              "    </tr>\n",
              "    <tr>\n",
              "      <th>4</th>\n",
              "      <td>7.4</td>\n",
              "      <td>0.700</td>\n",
              "      <td>0.00</td>\n",
              "      <td>1.9</td>\n",
              "      <td>0.076</td>\n",
              "      <td>11.0</td>\n",
              "      <td>34.0</td>\n",
              "      <td>0.99780</td>\n",
              "      <td>3.51</td>\n",
              "      <td>0.56</td>\n",
              "      <td>9.4</td>\n",
              "    </tr>\n",
              "    <tr>\n",
              "      <th>...</th>\n",
              "      <td>...</td>\n",
              "      <td>...</td>\n",
              "      <td>...</td>\n",
              "      <td>...</td>\n",
              "      <td>...</td>\n",
              "      <td>...</td>\n",
              "      <td>...</td>\n",
              "      <td>...</td>\n",
              "      <td>...</td>\n",
              "      <td>...</td>\n",
              "      <td>...</td>\n",
              "    </tr>\n",
              "    <tr>\n",
              "      <th>1594</th>\n",
              "      <td>6.2</td>\n",
              "      <td>0.600</td>\n",
              "      <td>0.08</td>\n",
              "      <td>2.0</td>\n",
              "      <td>0.090</td>\n",
              "      <td>32.0</td>\n",
              "      <td>44.0</td>\n",
              "      <td>0.99490</td>\n",
              "      <td>3.45</td>\n",
              "      <td>0.58</td>\n",
              "      <td>10.5</td>\n",
              "    </tr>\n",
              "    <tr>\n",
              "      <th>1595</th>\n",
              "      <td>5.9</td>\n",
              "      <td>0.550</td>\n",
              "      <td>0.10</td>\n",
              "      <td>2.2</td>\n",
              "      <td>0.062</td>\n",
              "      <td>39.0</td>\n",
              "      <td>51.0</td>\n",
              "      <td>0.99512</td>\n",
              "      <td>3.52</td>\n",
              "      <td>0.76</td>\n",
              "      <td>11.2</td>\n",
              "    </tr>\n",
              "    <tr>\n",
              "      <th>1596</th>\n",
              "      <td>6.3</td>\n",
              "      <td>0.510</td>\n",
              "      <td>0.13</td>\n",
              "      <td>2.3</td>\n",
              "      <td>0.076</td>\n",
              "      <td>29.0</td>\n",
              "      <td>40.0</td>\n",
              "      <td>0.99574</td>\n",
              "      <td>3.42</td>\n",
              "      <td>0.75</td>\n",
              "      <td>11.0</td>\n",
              "    </tr>\n",
              "    <tr>\n",
              "      <th>1597</th>\n",
              "      <td>5.9</td>\n",
              "      <td>0.645</td>\n",
              "      <td>0.12</td>\n",
              "      <td>2.0</td>\n",
              "      <td>0.075</td>\n",
              "      <td>32.0</td>\n",
              "      <td>44.0</td>\n",
              "      <td>0.99547</td>\n",
              "      <td>3.57</td>\n",
              "      <td>0.71</td>\n",
              "      <td>10.2</td>\n",
              "    </tr>\n",
              "    <tr>\n",
              "      <th>1598</th>\n",
              "      <td>6.0</td>\n",
              "      <td>0.310</td>\n",
              "      <td>0.47</td>\n",
              "      <td>3.6</td>\n",
              "      <td>0.067</td>\n",
              "      <td>18.0</td>\n",
              "      <td>42.0</td>\n",
              "      <td>0.99549</td>\n",
              "      <td>3.39</td>\n",
              "      <td>0.66</td>\n",
              "      <td>11.0</td>\n",
              "    </tr>\n",
              "  </tbody>\n",
              "</table>\n",
              "<p>1599 rows × 11 columns</p>\n",
              "</div>"
            ],
            "text/plain": [
              "        0      1     2    3      4     5     6        7     8     9     10\n",
              "0      7.4  0.700  0.00  1.9  0.076  11.0  34.0  0.99780  3.51  0.56   9.4\n",
              "1      7.8  0.880  0.00  2.6  0.098  25.0  67.0  0.99680  3.20  0.68   9.8\n",
              "2      7.8  0.760  0.04  2.3  0.092  15.0  54.0  0.99700  3.26  0.65   9.8\n",
              "3     11.2  0.280  0.56  1.9  0.075  17.0  60.0  0.99800  3.16  0.58   9.8\n",
              "4      7.4  0.700  0.00  1.9  0.076  11.0  34.0  0.99780  3.51  0.56   9.4\n",
              "...    ...    ...   ...  ...    ...   ...   ...      ...   ...   ...   ...\n",
              "1594   6.2  0.600  0.08  2.0  0.090  32.0  44.0  0.99490  3.45  0.58  10.5\n",
              "1595   5.9  0.550  0.10  2.2  0.062  39.0  51.0  0.99512  3.52  0.76  11.2\n",
              "1596   6.3  0.510  0.13  2.3  0.076  29.0  40.0  0.99574  3.42  0.75  11.0\n",
              "1597   5.9  0.645  0.12  2.0  0.075  32.0  44.0  0.99547  3.57  0.71  10.2\n",
              "1598   6.0  0.310  0.47  3.6  0.067  18.0  42.0  0.99549  3.39  0.66  11.0\n",
              "\n",
              "[1599 rows x 11 columns]"
            ]
          },
          "metadata": {
            "tags": []
          },
          "execution_count": 284
        }
      ]
    },
    {
      "cell_type": "code",
      "metadata": {
        "id": "z1mKVE13mRau"
      },
      "source": [
        "from sklearn.cluster import KMeans"
      ],
      "execution_count": 285,
      "outputs": []
    },
    {
      "cell_type": "code",
      "metadata": {
        "colab": {
          "base_uri": "https://localhost:8080/",
          "height": 0
        },
        "id": "ofWxw9clmTQd",
        "outputId": "811e4d29-e888-4971-cf8c-4429712132b0"
      },
      "source": [
        "wcss = []\n",
        "for i in range(1,10):\n",
        "  kmean=KMeans(n_clusters=i,init='k-means++',random_state=0)\n",
        "  kmean.fit_predict(x)\n",
        "  wcss.append(kmean.inertia_)\n",
        "plt.plot(range(1,10),wcss)"
      ],
      "execution_count": 286,
      "outputs": [
        {
          "output_type": "execute_result",
          "data": {
            "text/plain": [
              "[<matplotlib.lines.Line2D at 0x7f841e4247d0>]"
            ]
          },
          "metadata": {
            "tags": []
          },
          "execution_count": 286
        },
        {
          "output_type": "display_data",
          "data": {
            "image/png": "[encoded data removed]",
            "text/plain": [
              "<Figure size 432x288 with 1 Axes>"
            ]
          },
          "metadata": {
            "tags": [],
            "needs_background": "light"
          }
        }
      ]
    },
    {
      "cell_type": "code",
      "metadata": {
        "colab": {
          "base_uri": "https://localhost:8080/"
        },
        "id": "FzwiwSH5m6Sb",
        "outputId": "3a029fd0-ea84-44f1-f1f4-cca20c17b144"
      },
      "source": [
        "kmean=KMeans(n_clusters=3,init='k-means++',random_state=0)\n",
        "y_kmeans=kmean.fit_predict(x)\n",
        "print(y_kmeans)"
      ],
      "execution_count": 287,
      "outputs": [
        {
          "output_type": "stream",
          "text": [
            "[0 0 0 ... 2 0 2]\n"
          ],
          "name": "stdout"
        }
      ]
    },
    {
      "cell_type": "code",
      "metadata": {
        "colab": {
          "base_uri": "https://localhost:8080/",
          "height": 0
        },
        "id": "Kpcey3qPm8Ex",
        "outputId": "f8408a2e-0310-4b8c-fce5-f4f8b9c38559"
      },
      "source": [
        "x=np.array(x)\n",
        "plt.scatter(x[y_kmeans==0,0],x[y_kmeans==0,1],c='red',label='cluster1')\n",
        "plt.scatter(x[y_kmeans==1,0],x[y_kmeans==1,1],c='blue',label='cluster2')\n",
        "plt.scatter(x[y_kmeans==2,0],x[y_kmeans==2,1],c='green',label='cluster3')\n",
        "plt.scatter(kmean.cluster_centers_[:, 0], kmean.cluster_centers_[:, 1], s = 50, c = 'black', label = 'Centroids')\n",
        "plt.title('K-Means')\n",
        "plt.legend()"
      ],
      "execution_count": 288,
      "outputs": [
        {
          "output_type": "execute_result",
          "data": {
            "text/plain": [
              "<matplotlib.legend.Legend at 0x7f841d932190>"
            ]
          },
          "metadata": {
            "tags": []
          },
          "execution_count": 288
        },
        {
          "output_type": "display_data",
          "data": {
            "image/png": "[encoded data removed]",
            "text/plain": [
              "<Figure size 432x288 with 1 Axes>"
            ]
          },
          "metadata": {
            "tags": [],
            "needs_background": "light"
          }
        }
      ]
    },
    {
      "cell_type": "markdown",
      "metadata": {
        "id": "YUjTs4bG7SxH"
      },
      "source": [
        "##DBSCAN"
      ]
    },
    {
      "cell_type": "code",
      "metadata": {
        "id": "yAo4fwYF7YyT"
      },
      "source": [
        "from sklearn.cluster import DBSCAN\n",
        "from sklearn import metrics\n",
        "from sklearn.preprocessing import StandardScaler\n",
        "from sklearn.neighbors import NearestNeighbors"
      ],
      "execution_count": 289,
      "outputs": []
    },
    {
      "cell_type": "code",
      "metadata": {
        "colab": {
          "base_uri": "https://localhost:8080/"
        },
        "id": "Kw76eBJx7ab3",
        "outputId": "b1a4cb97-93b3-41a7-d06d-24692e0a0757"
      },
      "source": [
        "X=StandardScaler().fit_transform(x) # here we can see data is in large range so to make values smaller so that we can take small value of Radius r and form cluster\n",
        "X "
      ],
      "execution_count": 290,
      "outputs": [
        {
          "output_type": "execute_result",
          "data": {
            "text/plain": [
              "array([[-0.52835961,  0.96187667, -0.45321841, ..., -0.57920652,\n",
              "        -0.96024611, -0.78782264],\n",
              "       [-0.29854743,  1.96744245,  0.04341614, ...,  0.1289504 ,\n",
              "        -0.58477711, -0.78782264],\n",
              "       [-0.29854743,  1.29706527, -0.16942723, ..., -0.04808883,\n",
              "        -0.58477711, -0.78782264],\n",
              "       ...,\n",
              "       [-1.1603431 , -0.09955388, -0.16942723, ...,  0.54204194,\n",
              "         0.54162988,  0.45084835],\n",
              "       [-1.39015528,  0.65462046, -0.38227061, ...,  0.30598963,\n",
              "        -0.20930812, -0.78782264],\n",
              "       [-1.33270223, -1.21684919,  0.75289408, ...,  0.01092425,\n",
              "         0.54162988,  0.45084835]])"
            ]
          },
          "metadata": {
            "tags": []
          },
          "execution_count": 290
        }
      ]
    },
    {
      "cell_type": "code",
      "metadata": {
        "colab": {
          "base_uri": "https://localhost:8080/"
        },
        "id": "EUSm2ANz7nqZ",
        "outputId": "164d0efb-52d9-4296-8380-7666ba41e571"
      },
      "source": [
        "ns=3\n",
        "nearestneighbours=NearestNeighbors(3).fit(X)\n",
        "nearestneighbours"
      ],
      "execution_count": 291,
      "outputs": [
        {
          "output_type": "execute_result",
          "data": {
            "text/plain": [
              "NearestNeighbors(algorithm='auto', leaf_size=30, metric='minkowski',\n",
              "                 metric_params=None, n_jobs=None, n_neighbors=3, p=2,\n",
              "                 radius=1.0)"
            ]
          },
          "metadata": {
            "tags": []
          },
          "execution_count": 291
        }
      ]
    },
    {
      "cell_type": "code",
      "metadata": {
        "colab": {
          "base_uri": "https://localhost:8080/"
        },
        "id": "L-AlseFY8PfU",
        "outputId": "b78c1b67-b74c-4639-ffd5-e02a620b4a2c"
      },
      "source": [
        "distances, indices = nearestneighbours.kneighbors(X)\n",
        "indices"
      ],
      "execution_count": 292,
      "outputs": [
        {
          "output_type": "execute_result",
          "data": {
            "text/plain": [
              "array([[   4,    0,    5],\n",
              "       [   1,    2,  629],\n",
              "       [   2,  273,  412],\n",
              "       ...,\n",
              "       [1592, 1596, 1171],\n",
              "       [1597, 1594,  871],\n",
              "       [1598,  315, 1571]])"
            ]
          },
          "metadata": {
            "tags": []
          },
          "execution_count": 292
        }
      ]
    },
    {
      "cell_type": "code",
      "metadata": {
        "id": "0HsAhVhB8RX1"
      },
      "source": [
        "distanceDec = sorted(distances[:,ns-1], reverse=True)"
      ],
      "execution_count": 293,
      "outputs": []
    },
    {
      "cell_type": "code",
      "metadata": {
        "colab": {
          "base_uri": "https://localhost:8080/"
        },
        "id": "ZBiIDbjx8eOD",
        "outputId": "2682de1c-5795-44f7-87e9-f3a2f6405962"
      },
      "source": [
        "distances"
      ],
      "execution_count": 294,
      "outputs": [
        {
          "output_type": "execute_result",
          "data": {
            "text/plain": [
              "array([[0.        , 0.        , 0.35396275],\n",
              "       [0.        , 1.33247162, 1.50249612],\n",
              "       [0.        , 1.0256131 , 1.02604451],\n",
              "       ...,\n",
              "       [0.        , 0.        , 0.89262616],\n",
              "       [0.        , 1.24827401, 1.3395414 ],\n",
              "       [0.        , 1.33027941, 1.43993828]])"
            ]
          },
          "metadata": {
            "tags": []
          },
          "execution_count": 294
        }
      ]
    },
    {
      "cell_type": "code",
      "metadata": {
        "colab": {
          "base_uri": "https://localhost:8080/",
          "height": 283
        },
        "id": "uulA5F698f2P",
        "outputId": "0fed29b7-8398-4491-ff9a-1b852d33d7c5"
      },
      "source": [
        "plt.plot(indices[:,0], distanceDec) # it is basically Elbow method to indentifie most appropriate number of cluster"
      ],
      "execution_count": 295,
      "outputs": [
        {
          "output_type": "execute_result",
          "data": {
            "text/plain": [
              "[<matplotlib.lines.Line2D at 0x7f841f959a10>]"
            ]
          },
          "metadata": {
            "tags": []
          },
          "execution_count": 295
        },
        {
          "output_type": "display_data",
          "data": {
            "image/png": "[encoded data removed]",
            "text/plain": [
              "<Figure size 432x288 with 1 Axes>"
            ]
          },
          "metadata": {
            "tags": [],
            "needs_background": "light"
          }
        }
      ]
    },
    {
      "cell_type": "markdown",
      "metadata": {
        "id": "t7_H6aIaA4IB"
      },
      "source": [
        "In above graph it is easily visible that value of EPS = 2 "
      ]
    },
    {
      "cell_type": "code",
      "metadata": {
        "id": "NT5vNYO98iEZ"
      },
      "source": [
        "db=DBSCAN(eps=2,min_samples=5).fit(X)"
      ],
      "execution_count": 296,
      "outputs": []
    },
    {
      "cell_type": "code",
      "metadata": {
        "colab": {
          "base_uri": "https://localhost:8080/"
        },
        "id": "JOBtF3_j8kT_",
        "outputId": "bbadfba9-c836-4a56-e111-47063911f586"
      },
      "source": [
        "labels = db.labels_\n",
        "db.labels_"
      ],
      "execution_count": 297,
      "outputs": [
        {
          "output_type": "execute_result",
          "data": {
            "text/plain": [
              "array([0, 0, 0, ..., 0, 0, 0])"
            ]
          },
          "metadata": {
            "tags": []
          },
          "execution_count": 297
        }
      ]
    },
    {
      "cell_type": "code",
      "metadata": {
        "colab": {
          "base_uri": "https://localhost:8080/"
        },
        "id": "gXeutL5T8l3g",
        "outputId": "6dc49ff4-5c94-45ca-8b58-c8b7de136121"
      },
      "source": [
        "db.core_sample_indices_   #Finds core samples of high density and expands clusters from them. Good for data which contains clusters of similar density."
      ],
      "execution_count": 298,
      "outputs": [
        {
          "output_type": "execute_result",
          "data": {
            "text/plain": [
              "array([   0,    1,    2, ..., 1596, 1597, 1598])"
            ]
          },
          "metadata": {
            "tags": []
          },
          "execution_count": 298
        }
      ]
    },
    {
      "cell_type": "code",
      "metadata": {
        "id": "Z6zrRL_J8vfP"
      },
      "source": [
        "core_samples_mask = np.zeros_like(db.labels_, dtype=bool)"
      ],
      "execution_count": 299,
      "outputs": []
    },
    {
      "cell_type": "code",
      "metadata": {
        "colab": {
          "base_uri": "https://localhost:8080/"
        },
        "id": "PzyyQzwV8xvE",
        "outputId": "a25e1419-d83e-498a-d51e-f99a35482605"
      },
      "source": [
        "core_samples_mask"
      ],
      "execution_count": 300,
      "outputs": [
        {
          "output_type": "execute_result",
          "data": {
            "text/plain": [
              "array([False, False, False, ..., False, False, False])"
            ]
          },
          "metadata": {
            "tags": []
          },
          "execution_count": 300
        }
      ]
    },
    {
      "cell_type": "code",
      "metadata": {
        "id": "zqla9AY08zQD"
      },
      "source": [
        "core_samples_mask[db.core_sample_indices_] = True"
      ],
      "execution_count": 301,
      "outputs": []
    },
    {
      "cell_type": "code",
      "metadata": {
        "id": "5QUJnBiE814Z"
      },
      "source": [
        "# Number of clusters in labels, ignoring noise if present.\n",
        "n_clusters_ = len(set(labels)) - (1 if -1 in labels else 0)\n",
        "n_noise_ = list(labels).count(-1)"
      ],
      "execution_count": 302,
      "outputs": []
    },
    {
      "cell_type": "code",
      "metadata": {
        "colab": {
          "base_uri": "https://localhost:8080/"
        },
        "id": "sE9fYyRf84RQ",
        "outputId": "7952d662-fcf0-429b-e181-255254a1e524"
      },
      "source": [
        "print('Estimated number of clusters: %d' % n_clusters_)\n",
        "print('Estimated number of noise points: %d' % n_noise_)"
      ],
      "execution_count": 303,
      "outputs": [
        {
          "output_type": "stream",
          "text": [
            "Estimated number of clusters: 4\n",
            "Estimated number of noise points: 151\n"
          ],
          "name": "stdout"
        }
      ]
    },
    {
      "cell_type": "code",
      "metadata": {
        "id": "6cKu6FcE85x6"
      },
      "source": [
        "import matplotlib.pyplot as plt\n",
        "# Black removed and is used for noise instead.\n",
        "unique_labels = set(labels)\n",
        "colors = [plt.cm.Spectral(each)\n",
        "          for each in np.linspace(0, 1, len(unique_labels))]"
      ],
      "execution_count": 304,
      "outputs": []
    },
    {
      "cell_type": "code",
      "metadata": {
        "colab": {
          "base_uri": "https://localhost:8080/"
        },
        "id": "LA4xQgi-_fHi",
        "outputId": "d1b80dce-0e55-41ae-c035-2e2730591e36"
      },
      "source": [
        "np.linspace(0, 1, len(unique_labels))"
      ],
      "execution_count": 305,
      "outputs": [
        {
          "output_type": "execute_result",
          "data": {
            "text/plain": [
              "array([0.  , 0.25, 0.5 , 0.75, 1.  ])"
            ]
          },
          "metadata": {
            "tags": []
          },
          "execution_count": 305
        }
      ]
    },
    {
      "cell_type": "code",
      "metadata": {
        "colab": {
          "base_uri": "https://localhost:8080/",
          "height": 281
        },
        "id": "Mb3ipkVn_fvZ",
        "outputId": "2e184548-6a63-45f2-f484-78e7cd43c447"
      },
      "source": [
        "for k, col in zip(unique_labels, colors):\n",
        "    if k == -1:\n",
        "        # Black used for noise.\n",
        "        col = [0, 0, 0, 1]\n",
        "\n",
        "    class_member_mask = (labels == k)          #noise point will be true else it will be false\n",
        "\n",
        "    xy = X[class_member_mask & core_samples_mask]                             #core sample and not noise sample\n",
        "    plt.plot(xy[:, 0], xy[:, 1], 'o', markerfacecolor=tuple(col),\n",
        "             markeredgecolor='k', markersize=8)\n",
        "\n",
        "    xy = X[class_member_mask & ~core_samples_mask]                            #not core sample i.e boundary samples and not noise sample\n",
        "    plt.plot(xy[:, 0], xy[:, 1], 'o', markerfacecolor=tuple(col),\n",
        "             markeredgecolor='k', markersize=8)\n",
        "\n",
        "plt.title('Estimated number of clusters: %d' % n_clusters_)\n",
        "plt.show()"
      ],
      "execution_count": 306,
      "outputs": [
        {
          "output_type": "display_data",
          "data": {
            "image/png": "[encoded data removed]",
            "text/plain": [
              "<Figure size 432x288 with 1 Axes>"
            ]
          },
          "metadata": {
            "tags": [],
            "needs_background": "light"
          }
        }
      ]
    },
    {
      "cell_type": "markdown",
      "metadata": {
        "id": "rDtPsIScDdes"
      },
      "source": [
        "Here we can see that for classification, in KNN  it gives 60% accuracy if I consider all the 11 features but after removing 2 features(chlorides and citric acid because values are very close to zero) I'm getting 83% accuracy while for the same dataset in CART method it is 92%.\n",
        "If we compare the result of all clustering. For all clustering it is giving a different number of clusters. And it is also difficult to visualize all clustering algorithms because of the high-dimensions(9).But DBSCAN has a benefit that by using it we can findout separate outliers. Also for classification if we convert our target variable in binary class then we will get around 95% accuracy"
      ]
    }
  ]
}