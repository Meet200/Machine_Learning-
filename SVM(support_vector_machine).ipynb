{
  "nbformat": 4,
  "nbformat_minor": 0,
  "metadata": {
    "colab": {
      "name": "SVM(support vector machine).ipynb",
      "provenance": [],
      "include_colab_link": true
    },
    "kernelspec": {
      "name": "python3",
      "display_name": "Python 3"
    },
    "language_info": {
      "name": "python"
    }
  },
  "cells": [
    {
      "cell_type": "markdown",
      "metadata": {
        "id": "view-in-github",
        "colab_type": "text"
      },
      "source": [
        "<a href=\"https://colab.research.google.com/github/Meet200/Machine_Learning-/blob/main/SVM(support_vector_machine).ipynb\" target=\"_parent\"><img src=\"https://colab.research.google.com/assets/colab-badge.svg\" alt=\"Open In Colab\"/></a>"
      ]
    },
    {
      "cell_type": "code",
      "metadata": {
        "id": "wF-EoIkzHZJp"
      },
      "source": [
        "import numpy as np\n",
        "import matplotlib.pyplot as plt\n",
        "from sklearn import svm, datasets"
      ],
      "execution_count": 15,
      "outputs": []
    },
    {
      "cell_type": "code",
      "metadata": {
        "id": "2gKm49F4VEWx"
      },
      "source": [
        "# import some data to play with\n",
        "iris = datasets.load_iris()\n",
        "X = iris.data[:, :2]  # we only take the first two features. We could\n",
        "                      # avoid this ugly slicing by using a two-dim dataset\n",
        "y = iris.target"
      ],
      "execution_count": 16,
      "outputs": []
    },
    {
      "cell_type": "code",
      "metadata": {
        "colab": {
          "base_uri": "https://localhost:8080/"
        },
        "id": "7HfidRb1gVbQ",
        "outputId": "e31f693a-61fd-4043-e8db-f9ae1bd0a530"
      },
      "source": [
        "y"
      ],
      "execution_count": 17,
      "outputs": [
        {
          "output_type": "execute_result",
          "data": {
            "text/plain": [
              "array([0, 0, 0, 0, 0, 0, 0, 0, 0, 0, 0, 0, 0, 0, 0, 0, 0, 0, 0, 0, 0, 0,\n",
              "       0, 0, 0, 0, 0, 0, 0, 0, 0, 0, 0, 0, 0, 0, 0, 0, 0, 0, 0, 0, 0, 0,\n",
              "       0, 0, 0, 0, 0, 0, 1, 1, 1, 1, 1, 1, 1, 1, 1, 1, 1, 1, 1, 1, 1, 1,\n",
              "       1, 1, 1, 1, 1, 1, 1, 1, 1, 1, 1, 1, 1, 1, 1, 1, 1, 1, 1, 1, 1, 1,\n",
              "       1, 1, 1, 1, 1, 1, 1, 1, 1, 1, 1, 1, 2, 2, 2, 2, 2, 2, 2, 2, 2, 2,\n",
              "       2, 2, 2, 2, 2, 2, 2, 2, 2, 2, 2, 2, 2, 2, 2, 2, 2, 2, 2, 2, 2, 2,\n",
              "       2, 2, 2, 2, 2, 2, 2, 2, 2, 2, 2, 2, 2, 2, 2, 2, 2, 2])"
            ]
          },
          "metadata": {
            "tags": []
          },
          "execution_count": 17
        }
      ]
    },
    {
      "cell_type": "code",
      "metadata": {
        "id": "TVlU8sqcVHB2"
      },
      "source": [
        "C = 1  # SVM regularization parameter"
      ],
      "execution_count": 18,
      "outputs": []
    },
    {
      "cell_type": "code",
      "metadata": {
        "id": "jyrxtKloix-L"
      },
      "source": [
        "#SVC: Support Vector Classifier\n",
        "#SVR: Support Vector Regressor"
      ],
      "execution_count": 19,
      "outputs": []
    },
    {
      "cell_type": "code",
      "metadata": {
        "colab": {
          "base_uri": "https://localhost:8080/"
        },
        "id": "K8Ar5mNOVMig",
        "outputId": "aea4e96a-96a0-46b2-c71a-ca02ae2ac19b"
      },
      "source": [
        "svc = svm.SVC(kernel='linear', C=C).fit(X, y)\n",
        "rbf_svc = svm.SVC(kernel='rbf', gamma=0.5, C=C).fit(X, y)\n",
        "poly_svc = svm.SVC(kernel='poly', degree=5, C=C).fit(X, y)\n",
        "lin_svc = svm.LinearSVC(C=C).fit(X, y)"
      ],
      "execution_count": 20,
      "outputs": [
        {
          "output_type": "stream",
          "text": [
            "/usr/local/lib/python3.7/dist-packages/sklearn/svm/_base.py:947: ConvergenceWarning: Liblinear failed to converge, increase the number of iterations.\n",
            "  \"the number of iterations.\", ConvergenceWarning)\n"
          ],
          "name": "stderr"
        }
      ]
    },
    {
      "cell_type": "code",
      "metadata": {
        "colab": {
          "base_uri": "https://localhost:8080/"
        },
        "id": "K2Sgk4lGlH2t",
        "outputId": "398fc53e-8a65-461f-c770-a1e36c1aa503"
      },
      "source": [
        "from sklearn.metrics import accuracy_score\n",
        "y_pred = rbf_svc.predict(X)\n",
        "print(\"RBF\", accuracy_score(y,y_pred))\n",
        "\n",
        "y_pred = lin_svc.predict(X)\n",
        "print(\"linear\", accuracy_score(y,y_pred))\n",
        "\n",
        "y_pred=poly_svc.predict(X)\n",
        "print(\"Polynomial\",accuracy_score(y,y_pred))"
      ],
      "execution_count": 21,
      "outputs": [
        {
          "output_type": "stream",
          "text": [
            "RBF 0.8266666666666667\n",
            "linear 0.8\n",
            "Polynomial 0.7933333333333333\n"
          ],
          "name": "stdout"
        }
      ]
    },
    {
      "cell_type": "code",
      "metadata": {
        "colab": {
          "base_uri": "https://localhost:8080/"
        },
        "id": "qxyxUSCoXc_9",
        "outputId": "768af0b4-6ce9-4de9-ef57-ab51d789afd7"
      },
      "source": [
        "from sklearn.metrics import classification_report, confusion_matrix\n",
        "from sklearn.metrics import accuracy_score\n",
        "\n",
        "y_pred = rbf_svc.predict(X)\n",
        "print(\"RBF\", accuracy_score(y,y_pred))\n",
        "\n",
        "print(confusion_matrix(y, y_pred))\n",
        "print(classification_report(y, y_pred))\n",
        "print(accuracy_score(y,y_pred))"
      ],
      "execution_count": 22,
      "outputs": [
        {
          "output_type": "stream",
          "text": [
            "RBF 0.8266666666666667\n",
            "[[50  0  0]\n",
            " [ 0 38 12]\n",
            " [ 0 14 36]]\n",
            "              precision    recall  f1-score   support\n",
            "\n",
            "           0       1.00      1.00      1.00        50\n",
            "           1       0.73      0.76      0.75        50\n",
            "           2       0.75      0.72      0.73        50\n",
            "\n",
            "    accuracy                           0.83       150\n",
            "   macro avg       0.83      0.83      0.83       150\n",
            "weighted avg       0.83      0.83      0.83       150\n",
            "\n",
            "0.8266666666666667\n"
          ],
          "name": "stdout"
        }
      ]
    },
    {
      "cell_type": "code",
      "metadata": {
        "colab": {
          "base_uri": "https://localhost:8080/"
        },
        "id": "OL4kZa1ZX40N",
        "outputId": "450f7edd-8d9b-4792-b00e-8708030898ea"
      },
      "source": [
        "y_pred = lin_svc.predict(X)\n",
        "print(confusion_matrix(y, y_pred))\n",
        "print(\"Linear\")\n",
        "print(classification_report(y, y_pred))"
      ],
      "execution_count": 23,
      "outputs": [
        {
          "output_type": "stream",
          "text": [
            "[[49  1  0]\n",
            " [ 2 30 18]\n",
            " [ 0  9 41]]\n",
            "Linear\n",
            "              precision    recall  f1-score   support\n",
            "\n",
            "           0       0.96      0.98      0.97        50\n",
            "           1       0.75      0.60      0.67        50\n",
            "           2       0.69      0.82      0.75        50\n",
            "\n",
            "    accuracy                           0.80       150\n",
            "   macro avg       0.80      0.80      0.80       150\n",
            "weighted avg       0.80      0.80      0.80       150\n",
            "\n"
          ],
          "name": "stdout"
        }
      ]
    },
    {
      "cell_type": "code",
      "metadata": {
        "colab": {
          "base_uri": "https://localhost:8080/"
        },
        "id": "qFVXyC29YD6B",
        "outputId": "6bf59223-e7ee-4273-edc4-39d89a9e129a"
      },
      "source": [
        "y_pred = poly_svc.predict(X)\n",
        "print(confusion_matrix(y, y_pred))\n",
        "print(\"Polynomial\")\n",
        "print(classification_report(y, y_pred))"
      ],
      "execution_count": 24,
      "outputs": [
        {
          "output_type": "stream",
          "text": [
            "[[50  0  0]\n",
            " [ 0 38 12]\n",
            " [ 0 19 31]]\n",
            "Polynomial\n",
            "              precision    recall  f1-score   support\n",
            "\n",
            "           0       1.00      1.00      1.00        50\n",
            "           1       0.67      0.76      0.71        50\n",
            "           2       0.72      0.62      0.67        50\n",
            "\n",
            "    accuracy                           0.79       150\n",
            "   macro avg       0.80      0.79      0.79       150\n",
            "weighted avg       0.80      0.79      0.79       150\n",
            "\n"
          ],
          "name": "stdout"
        }
      ]
    },
    {
      "cell_type": "code",
      "metadata": {
        "colab": {
          "base_uri": "https://localhost:8080/",
          "height": 278
        },
        "id": "0RLS0GNDUSiI",
        "outputId": "d05bd0e9-8b79-4c37-c3c7-3285e09bbef9"
      },
      "source": [
        "# create a mesh to plot in\n",
        "x_min, x_max = X[:, 0].min() - 1, X[:, 0].max() + 1\n",
        "y_min, y_max = X[:, 1].min() - 1, X[:, 1].max() + 1\n",
        "xx, yy = np.meshgrid(np.arange(x_min, x_max, 0.02),\n",
        "                     np.arange(y_min, y_max, 0.02))\n",
        "\n",
        "# title for the plots\n",
        "titles = ['SVC with linear kernel',\n",
        "          'LinearSVC (linear kernel)',\n",
        "          'SVC with RBF kernel (Gamma=0.5)',\n",
        "          'SVC with polynomial (degree 5) kernel']\n",
        "\n",
        "\n",
        "for i, clf in enumerate((svc, lin_svc, rbf_svc, poly_svc)):\n",
        "    plt.subplot(2, 2, i + 1)\n",
        "    plt.subplots_adjust(wspace=0.4, hspace=0.4)\n",
        "\n",
        "    Z = clf.predict(np.c_[xx.ravel(), yy.ravel()])\n",
        "\n",
        "    # Put the result into a color plot\n",
        "    Z = Z.reshape(xx.shape)\n",
        "    plt.contourf(xx, yy, Z, cmap=plt.cm.coolwarm, alpha=0.8)\n",
        "\n",
        "    # Plot also the training points\n",
        "    plt.scatter(X[:, 0], X[:, 1], c=y, cmap=plt.cm.coolwarm)\n",
        "    plt.xlabel('Sepal length')\n",
        "    plt.ylabel('Sepal width')\n",
        "    plt.xlim(xx.min(), xx.max())\n",
        "    plt.ylim(yy.min(), yy.max())\n",
        "    plt.xticks(())\n",
        "    plt.yticks(())\n",
        "    plt.title(titles[i])\n",
        "\n",
        "plt.show()"
      ],
      "execution_count": 25,
      "outputs": [
        {
          "output_type": "display_data",
          "data": {
            "image/png": "[encoded data removed]",
            "text/plain": [
              "<Figure size 432x288 with 4 Axes>"
            ]
          },
          "metadata": {
            "tags": []
          }
        }
      ]
    },
    {
      "cell_type": "code",
      "metadata": {
        "id": "rNWR6iuzUuZA"
      },
      "source": [
        ""
      ],
      "execution_count": 25,
      "outputs": []
    }
  ]
}