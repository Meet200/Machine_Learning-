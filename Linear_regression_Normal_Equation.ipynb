{
  "nbformat": 4,
  "nbformat_minor": 0,
  "metadata": {
    "colab": {
      "name": "Linear_regression_Normal_Equation.ipynb",
      "provenance": [],
      "authorship_tag": "ABX9TyN4pon230X0Rw2PrOp8egTv",
      "include_colab_link": true
    },
    "kernelspec": {
      "name": "python3",
      "display_name": "Python 3"
    }
  },
  "cells": [
    {
      "cell_type": "markdown",
      "metadata": {
        "id": "view-in-github",
        "colab_type": "text"
      },
      "source": [
        "<a href=\"https://colab.research.google.com/github/Meet200/Machine_Learning-/blob/main/Linear_regression_Normal_Equation.ipynb\" target=\"_parent\"><img src=\"https://colab.research.google.com/assets/colab-badge.svg\" alt=\"Open In Colab\"/></a>"
      ]
    },
    {
      "cell_type": "code",
      "metadata": {
        "id": "BrTWSv3e2nPo"
      },
      "source": [
        "import numpy as np\r\n",
        "import matplotlib.pyplot as plt\r\n",
        "import pandas as pd\r\n",
        "import numpy as np\r\n",
        "from numpy.linalg import inv\r\n",
        "import matplotlib.pyplot as plt\r\n"
      ],
      "execution_count": 32,
      "outputs": []
    },
    {
      "cell_type": "code",
      "metadata": {
        "colab": {
          "base_uri": "https://localhost:8080/"
        },
        "id": "Az-Rfqfb21fT",
        "outputId": "a25a9468-0df7-4bae-b2ab-52f8ae421eb9"
      },
      "source": [
        "from google.colab import drive\r\n",
        "drive.mount('/content/drive')"
      ],
      "execution_count": 33,
      "outputs": [
        {
          "output_type": "stream",
          "text": [
            "Drive already mounted at /content/drive; to attempt to forcibly remount, call drive.mount(\"/content/drive\", force_remount=True).\n"
          ],
          "name": "stdout"
        }
      ]
    },
    {
      "cell_type": "code",
      "metadata": {
        "colab": {
          "base_uri": "https://localhost:8080/"
        },
        "id": "ZYnwXsZi27Fz",
        "outputId": "300ad17e-8959-41cd-99c6-13141c29b7d1"
      },
      "source": [
        "cd /content/drive/\"My Drive/Colab Notebooks/Linear regression\""
      ],
      "execution_count": 34,
      "outputs": [
        {
          "output_type": "stream",
          "text": [
            "/content/drive/My Drive/Colab Notebooks/Linear regression\n"
          ],
          "name": "stdout"
        }
      ]
    },
    {
      "cell_type": "code",
      "metadata": {
        "colab": {
          "base_uri": "https://localhost:8080/"
        },
        "id": "DdUUlZ_Z11WN",
        "outputId": "d41d34f9-eb51-4a09-ae8f-c8df3d436de7"
      },
      "source": [
        "#column name = ['x','y']\r\n",
        "dataset = pd.read_csv(\"train.csv\")\r\n",
        "print(dataset)\r\n",
        "dataset.shape"
      ],
      "execution_count": 35,
      "outputs": [
        {
          "output_type": "stream",
          "text": [
            "        x          y\n",
            "0    24.0  21.549452\n",
            "1    50.0  47.464463\n",
            "2    15.0  17.218656\n",
            "3    38.0  36.586398\n",
            "4    87.0  87.288984\n",
            "..    ...        ...\n",
            "695  58.0  58.595006\n",
            "696  93.0  94.625094\n",
            "697  82.0  88.603770\n",
            "698  66.0  63.648685\n",
            "699  97.0  94.975266\n",
            "\n",
            "[700 rows x 2 columns]\n"
          ],
          "name": "stdout"
        },
        {
          "output_type": "execute_result",
          "data": {
            "text/plain": [
              "(700, 2)"
            ]
          },
          "metadata": {
            "tags": []
          },
          "execution_count": 35
        }
      ]
    },
    {
      "cell_type": "code",
      "metadata": {
        "id": "TANy09Ss1_Af"
      },
      "source": [
        "dataf = pd.DataFrame(dataset)\r\n",
        "x = dataf.iloc[0:700,0:1]\r\n",
        "y= dataf.iloc[0:700,1:2]"
      ],
      "execution_count": 36,
      "outputs": []
    },
    {
      "cell_type": "code",
      "metadata": {
        "id": "G1E3E8FE2PQO"
      },
      "source": [
        ""
      ],
      "execution_count": 36,
      "outputs": []
    },
    {
      "cell_type": "code",
      "metadata": {
        "colab": {
          "base_uri": "https://localhost:8080/",
          "height": 424
        },
        "id": "yiafQkD-2Us-",
        "outputId": "6a4f72a7-2e83-45fd-8fc8-37ec4d678f1a"
      },
      "source": [
        "data=pd.read_csv(\"train.csv\")\r\n",
        "cleaning_data = data.dropna()   # drops the observation for not a number\r\n",
        "cleaning_data"
      ],
      "execution_count": 43,
      "outputs": [
        {
          "output_type": "execute_result",
          "data": {
            "text/html": [
              "<div>\n",
              "<style scoped>\n",
              "    .dataframe tbody tr th:only-of-type {\n",
              "        vertical-align: middle;\n",
              "    }\n",
              "\n",
              "    .dataframe tbody tr th {\n",
              "        vertical-align: top;\n",
              "    }\n",
              "\n",
              "    .dataframe thead th {\n",
              "        text-align: right;\n",
              "    }\n",
              "</style>\n",
              "<table border=\"1\" class=\"dataframe\">\n",
              "  <thead>\n",
              "    <tr style=\"text-align: right;\">\n",
              "      <th></th>\n",
              "      <th>x</th>\n",
              "      <th>y</th>\n",
              "    </tr>\n",
              "  </thead>\n",
              "  <tbody>\n",
              "    <tr>\n",
              "      <th>0</th>\n",
              "      <td>24.0</td>\n",
              "      <td>21.549452</td>\n",
              "    </tr>\n",
              "    <tr>\n",
              "      <th>1</th>\n",
              "      <td>50.0</td>\n",
              "      <td>47.464463</td>\n",
              "    </tr>\n",
              "    <tr>\n",
              "      <th>2</th>\n",
              "      <td>15.0</td>\n",
              "      <td>17.218656</td>\n",
              "    </tr>\n",
              "    <tr>\n",
              "      <th>3</th>\n",
              "      <td>38.0</td>\n",
              "      <td>36.586398</td>\n",
              "    </tr>\n",
              "    <tr>\n",
              "      <th>4</th>\n",
              "      <td>87.0</td>\n",
              "      <td>87.288984</td>\n",
              "    </tr>\n",
              "    <tr>\n",
              "      <th>...</th>\n",
              "      <td>...</td>\n",
              "      <td>...</td>\n",
              "    </tr>\n",
              "    <tr>\n",
              "      <th>695</th>\n",
              "      <td>58.0</td>\n",
              "      <td>58.595006</td>\n",
              "    </tr>\n",
              "    <tr>\n",
              "      <th>696</th>\n",
              "      <td>93.0</td>\n",
              "      <td>94.625094</td>\n",
              "    </tr>\n",
              "    <tr>\n",
              "      <th>697</th>\n",
              "      <td>82.0</td>\n",
              "      <td>88.603770</td>\n",
              "    </tr>\n",
              "    <tr>\n",
              "      <th>698</th>\n",
              "      <td>66.0</td>\n",
              "      <td>63.648685</td>\n",
              "    </tr>\n",
              "    <tr>\n",
              "      <th>699</th>\n",
              "      <td>97.0</td>\n",
              "      <td>94.975266</td>\n",
              "    </tr>\n",
              "  </tbody>\n",
              "</table>\n",
              "<p>699 rows × 2 columns</p>\n",
              "</div>"
            ],
            "text/plain": [
              "        x          y\n",
              "0    24.0  21.549452\n",
              "1    50.0  47.464463\n",
              "2    15.0  17.218656\n",
              "3    38.0  36.586398\n",
              "4    87.0  87.288984\n",
              "..    ...        ...\n",
              "695  58.0  58.595006\n",
              "696  93.0  94.625094\n",
              "697  82.0  88.603770\n",
              "698  66.0  63.648685\n",
              "699  97.0  94.975266\n",
              "\n",
              "[699 rows x 2 columns]"
            ]
          },
          "metadata": {
            "tags": []
          },
          "execution_count": 43
        }
      ]
    },
    {
      "cell_type": "code",
      "metadata": {
        "id": "NoSkRixH2aBu"
      },
      "source": [
        "x_data=cleaning_data['x']\r\n",
        "y_data=cleaning_data['y']"
      ],
      "execution_count": 44,
      "outputs": []
    },
    {
      "cell_type": "code",
      "metadata": {
        "colab": {
          "base_uri": "https://localhost:8080/"
        },
        "id": "MdL_OOJS2gin",
        "outputId": "4d2cc8af-e352-4476-8f57-afa0333173de"
      },
      "source": [
        "x_value = x_data.values.reshape(x_train.size)\r\n",
        "x_value.shape"
      ],
      "execution_count": 45,
      "outputs": [
        {
          "output_type": "execute_result",
          "data": {
            "text/plain": [
              "(699,)"
            ]
          },
          "metadata": {
            "tags": []
          },
          "execution_count": 45
        }
      ]
    },
    {
      "cell_type": "code",
      "metadata": {
        "colab": {
          "base_uri": "https://localhost:8080/"
        },
        "id": "En4smJr92jGd",
        "outputId": "63979135-e99f-4499-d0d5-4c265bd2a8ff"
      },
      "source": [
        "y_value = y_data.values.reshape(y_train.size)\r\n",
        "y_value.shape"
      ],
      "execution_count": 47,
      "outputs": [
        {
          "output_type": "execute_result",
          "data": {
            "text/plain": [
              "(699,)"
            ]
          },
          "metadata": {
            "tags": []
          },
          "execution_count": 47
        }
      ]
    },
    {
      "cell_type": "code",
      "metadata": {
        "id": "jKCOHb7b2rmA"
      },
      "source": [
        "X = np.array([np.ones(len(x_value)), x_value]).T\r\n",
        "Y = (y_value[:, np.newaxis])"
      ],
      "execution_count": 48,
      "outputs": []
    },
    {
      "cell_type": "code",
      "metadata": {
        "colab": {
          "base_uri": "https://localhost:8080/"
        },
        "id": "GCOjvTJ625Eg",
        "outputId": "322813c9-3f8c-4e47-a4d1-1c3fc39b2417"
      },
      "source": [
        "theta = inv(X.T.dot(X)).dot(X.T).dot(Y)\r\n",
        "print(theta)"
      ],
      "execution_count": 49,
      "outputs": [
        {
          "output_type": "stream",
          "text": [
            "[[-0.10726546]\n",
            " [ 1.00065638]]\n"
          ],
          "name": "stdout"
        }
      ]
    }
  ]
}