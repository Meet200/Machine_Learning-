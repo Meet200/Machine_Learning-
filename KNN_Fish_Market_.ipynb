{
  "nbformat": 4,
  "nbformat_minor": 0,
  "metadata": {
    "colab": {
      "name": "KNN Fish Market .ipynb",
      "provenance": [],
      "collapsed_sections": [],
      "authorship_tag": "ABX9TyPtF9cXJml7u1XZQhnQTxsm",
      "include_colab_link": true
    },
    "kernelspec": {
      "name": "python3",
      "display_name": "Python 3"
    }
  },
  "cells": [
    {
      "cell_type": "markdown",
      "metadata": {
        "id": "view-in-github",
        "colab_type": "text"
      },
      "source": [
        "<a href=\"https://colab.research.google.com/github/Meet200/Machine_Learning-/blob/main/KNN_Fish_Market_.ipynb\" target=\"_parent\"><img src=\"https://colab.research.google.com/assets/colab-badge.svg\" alt=\"Open In Colab\"/></a>"
      ]
    },
    {
      "cell_type": "markdown",
      "metadata": {
        "id": "2M5vqKgoy90l"
      },
      "source": [
        "## Dataset Used :- Fish market by Kaggle\r\n",
        "# Basic understanding of dataset \r\n",
        "*   Length1:                  Vertical length in cm\r\n",
        "*   Length2:                  Diagonal length in cm\r\n",
        "*   Length3:                  Cross length in cm\r\n",
        "*   Height:                   Height in cm\r\n",
        "*   Width:                    Diagonal width in cm\r\n",
        "*   Species:                  Species name of fish\r\n",
        "*   Weight:                   Weight of fish in gram"
      ]
    },
    {
      "cell_type": "code",
      "metadata": {
        "id": "PfeaOago4h-v"
      },
      "source": [
        "import numpy as np\r\n",
        "import matplotlib.pyplot as plt\r\n",
        "import pandas as pd\r\n",
        "import math"
      ],
      "execution_count": null,
      "outputs": []
    },
    {
      "cell_type": "code",
      "metadata": {
        "id": "tTUKaozY5XF8"
      },
      "source": [
        "from google.colab import drive"
      ],
      "execution_count": null,
      "outputs": []
    },
    {
      "cell_type": "code",
      "metadata": {
        "colab": {
          "base_uri": "https://localhost:8080/"
        },
        "id": "3OuEHJRr5YqI",
        "outputId": "aa204e78-fcfb-48bf-f4ff-a86a6ab33d13"
      },
      "source": [
        "# mounting google drive\r\n",
        "drive.mount('/content/drive')"
      ],
      "execution_count": null,
      "outputs": [
        {
          "output_type": "stream",
          "text": [
            "Drive already mounted at /content/drive; to attempt to forcibly remount, call drive.mount(\"/content/drive\", force_remount=True).\n"
          ],
          "name": "stdout"
        }
      ]
    },
    {
      "cell_type": "code",
      "metadata": {
        "colab": {
          "base_uri": "https://localhost:8080/"
        },
        "id": "dbzrXmOB5aTx",
        "outputId": "07fdd664-9a6b-426b-896c-af2b1c9e6815"
      },
      "source": [
        "cd /content/drive/\"My Drive/Colab Notebooks/Linear regression\""
      ],
      "execution_count": null,
      "outputs": [
        {
          "output_type": "stream",
          "text": [
            "/content/drive/My Drive/Colab Notebooks/Linear regression\n"
          ],
          "name": "stdout"
        }
      ]
    },
    {
      "cell_type": "code",
      "metadata": {
        "colab": {
          "base_uri": "https://localhost:8080/"
        },
        "id": "R8wuDLF95cb_",
        "outputId": "ffa2f875-6970-451e-c452-6bb0ed45e50d"
      },
      "source": [
        "# Exporting data from Drive \r\n",
        "dataset = pd.read_csv(\"Fish.csv\")\r\n",
        "print(dataset)\r\n",
        "dataset.shape"
      ],
      "execution_count": null,
      "outputs": [
        {
          "output_type": "stream",
          "text": [
            "    Species  Weight  Length1  Length2  Length3   Height   Width\n",
            "0     Bream   242.0     23.2     25.4     30.0  11.5200  4.0200\n",
            "1     Bream   290.0     24.0     26.3     31.2  12.4800  4.3056\n",
            "2     Bream   340.0     23.9     26.5     31.1  12.3778  4.6961\n",
            "3     Bream   363.0     26.3     29.0     33.5  12.7300  4.4555\n",
            "4     Bream   430.0     26.5     29.0     34.0  12.4440  5.1340\n",
            "..      ...     ...      ...      ...      ...      ...     ...\n",
            "154   Smelt    12.2     11.5     12.2     13.4   2.0904  1.3936\n",
            "155   Smelt    13.4     11.7     12.4     13.5   2.4300  1.2690\n",
            "156   Smelt    12.2     12.1     13.0     13.8   2.2770  1.2558\n",
            "157   Smelt    19.7     13.2     14.3     15.2   2.8728  2.0672\n",
            "158   Smelt    19.9     13.8     15.0     16.2   2.9322  1.8792\n",
            "\n",
            "[159 rows x 7 columns]\n"
          ],
          "name": "stdout"
        },
        {
          "output_type": "execute_result",
          "data": {
            "text/plain": [
              "(159, 7)"
            ]
          },
          "metadata": {
            "tags": []
          },
          "execution_count": 378
        }
      ]
    },
    {
      "cell_type": "code",
      "metadata": {
        "colab": {
          "base_uri": "https://localhost:8080/",
          "height": 300
        },
        "id": "3AnTO9i040DG",
        "outputId": "7c4268c3-3387-4fe3-8df1-ec18d0d9a49b"
      },
      "source": [
        "dataset.describe()"
      ],
      "execution_count": null,
      "outputs": [
        {
          "output_type": "execute_result",
          "data": {
            "text/html": [
              "<div>\n",
              "<style scoped>\n",
              "    .dataframe tbody tr th:only-of-type {\n",
              "        vertical-align: middle;\n",
              "    }\n",
              "\n",
              "    .dataframe tbody tr th {\n",
              "        vertical-align: top;\n",
              "    }\n",
              "\n",
              "    .dataframe thead th {\n",
              "        text-align: right;\n",
              "    }\n",
              "</style>\n",
              "<table border=\"1\" class=\"dataframe\">\n",
              "  <thead>\n",
              "    <tr style=\"text-align: right;\">\n",
              "      <th></th>\n",
              "      <th>Weight</th>\n",
              "      <th>Length1</th>\n",
              "      <th>Length2</th>\n",
              "      <th>Length3</th>\n",
              "      <th>Height</th>\n",
              "      <th>Width</th>\n",
              "    </tr>\n",
              "  </thead>\n",
              "  <tbody>\n",
              "    <tr>\n",
              "      <th>count</th>\n",
              "      <td>159.000000</td>\n",
              "      <td>159.000000</td>\n",
              "      <td>159.000000</td>\n",
              "      <td>159.000000</td>\n",
              "      <td>159.000000</td>\n",
              "      <td>159.000000</td>\n",
              "    </tr>\n",
              "    <tr>\n",
              "      <th>mean</th>\n",
              "      <td>398.326415</td>\n",
              "      <td>26.247170</td>\n",
              "      <td>28.415723</td>\n",
              "      <td>31.227044</td>\n",
              "      <td>8.970994</td>\n",
              "      <td>4.417486</td>\n",
              "    </tr>\n",
              "    <tr>\n",
              "      <th>std</th>\n",
              "      <td>357.978317</td>\n",
              "      <td>9.996441</td>\n",
              "      <td>10.716328</td>\n",
              "      <td>11.610246</td>\n",
              "      <td>4.286208</td>\n",
              "      <td>1.685804</td>\n",
              "    </tr>\n",
              "    <tr>\n",
              "      <th>min</th>\n",
              "      <td>0.000000</td>\n",
              "      <td>7.500000</td>\n",
              "      <td>8.400000</td>\n",
              "      <td>8.800000</td>\n",
              "      <td>1.728400</td>\n",
              "      <td>1.047600</td>\n",
              "    </tr>\n",
              "    <tr>\n",
              "      <th>25%</th>\n",
              "      <td>120.000000</td>\n",
              "      <td>19.050000</td>\n",
              "      <td>21.000000</td>\n",
              "      <td>23.150000</td>\n",
              "      <td>5.944800</td>\n",
              "      <td>3.385650</td>\n",
              "    </tr>\n",
              "    <tr>\n",
              "      <th>50%</th>\n",
              "      <td>273.000000</td>\n",
              "      <td>25.200000</td>\n",
              "      <td>27.300000</td>\n",
              "      <td>29.400000</td>\n",
              "      <td>7.786000</td>\n",
              "      <td>4.248500</td>\n",
              "    </tr>\n",
              "    <tr>\n",
              "      <th>75%</th>\n",
              "      <td>650.000000</td>\n",
              "      <td>32.700000</td>\n",
              "      <td>35.500000</td>\n",
              "      <td>39.650000</td>\n",
              "      <td>12.365900</td>\n",
              "      <td>5.584500</td>\n",
              "    </tr>\n",
              "    <tr>\n",
              "      <th>max</th>\n",
              "      <td>1650.000000</td>\n",
              "      <td>59.000000</td>\n",
              "      <td>63.400000</td>\n",
              "      <td>68.000000</td>\n",
              "      <td>18.957000</td>\n",
              "      <td>8.142000</td>\n",
              "    </tr>\n",
              "  </tbody>\n",
              "</table>\n",
              "</div>"
            ],
            "text/plain": [
              "            Weight     Length1     Length2     Length3      Height       Width\n",
              "count   159.000000  159.000000  159.000000  159.000000  159.000000  159.000000\n",
              "mean    398.326415   26.247170   28.415723   31.227044    8.970994    4.417486\n",
              "std     357.978317    9.996441   10.716328   11.610246    4.286208    1.685804\n",
              "min       0.000000    7.500000    8.400000    8.800000    1.728400    1.047600\n",
              "25%     120.000000   19.050000   21.000000   23.150000    5.944800    3.385650\n",
              "50%     273.000000   25.200000   27.300000   29.400000    7.786000    4.248500\n",
              "75%     650.000000   32.700000   35.500000   39.650000   12.365900    5.584500\n",
              "max    1650.000000   59.000000   63.400000   68.000000   18.957000    8.142000"
            ]
          },
          "metadata": {
            "tags": []
          },
          "execution_count": 379
        }
      ]
    },
    {
      "cell_type": "code",
      "metadata": {
        "id": "blNLVOJz5eGM"
      },
      "source": [
        "# taking Species name in y and all other in x variable\r\n",
        "x = dataset.drop(['Species'], axis=1)\r\n",
        "y = dataset['Species']\r\n"
      ],
      "execution_count": null,
      "outputs": []
    },
    {
      "cell_type": "code",
      "metadata": {
        "id": "9nEmon8-6Iz9"
      },
      "source": [
        "# spliting data in train and test dataset \r\n",
        "from sklearn.model_selection import train_test_split\r\n",
        "X_train, X_test, y_train, y_test = train_test_split(x, y, test_size = 0.33, random_state=110) # here 33% dataset will be of testing and 67% will be for training"
      ],
      "execution_count": null,
      "outputs": []
    },
    {
      "cell_type": "code",
      "metadata": {
        "id": "DSIE4ZE_6WVx"
      },
      "source": [
        "'''as we know that KNN use distance (usually Euclidean) in its mathematical steps so inorder to give equal important to each and every feature we have\r\n",
        "to normalize/ standerdize our data set which uses euqation z=(feature-mean average)/standard deviation\r\n",
        "'''\r\n",
        "from sklearn.preprocessing import StandardScaler\r\n",
        "\r\n",
        "scaler = StandardScaler()\r\n",
        "scaler = scaler.fit(X_train)\r\n",
        "X_train = scaler.transform(X_train)\r\n",
        "X_test = scaler.transform(X_test)"
      ],
      "execution_count": null,
      "outputs": []
    },
    {
      "cell_type": "code",
      "metadata": {
        "id": "XoRlGGzz6dCG"
      },
      "source": [
        "# using KNeighborsClassifier from sklearn to classify data with K value = 2,4,6 (at last given comparison of all K results)\r\n",
        "from sklearn.neighbors import KNeighborsClassifier\r\n",
        "\r\n",
        "knc = KNeighborsClassifier(6, p=6)"
      ],
      "execution_count": null,
      "outputs": []
    },
    {
      "cell_type": "code",
      "metadata": {
        "colab": {
          "base_uri": "https://localhost:8080/"
        },
        "id": "9RhWCepF6lrJ",
        "outputId": "5f2ea03f-3403-414f-8de8-320cdb189517"
      },
      "source": [
        "knc.fit(X_train, y_train)"
      ],
      "execution_count": null,
      "outputs": [
        {
          "output_type": "execute_result",
          "data": {
            "text/plain": [
              "KNeighborsClassifier(algorithm='auto', leaf_size=30, metric='minkowski',\n",
              "                     metric_params=None, n_jobs=None, n_neighbors=6, p=6,\n",
              "                     weights='uniform')"
            ]
          },
          "metadata": {
            "tags": []
          },
          "execution_count": 384
        }
      ]
    },
    {
      "cell_type": "code",
      "metadata": {
        "colab": {
          "base_uri": "https://localhost:8080/"
        },
        "id": "YcL3r1MG6ps1",
        "outputId": "6c295c9f-9dff-4545-a6db-c4ad040a2059"
      },
      "source": [
        "# printing of classification report\r\n",
        "from sklearn.metrics import classification_report, confusion_matrix, f1_score\r\n",
        "print(classification_report(y_test, knc.predict(X_test)))"
      ],
      "execution_count": null,
      "outputs": [
        {
          "output_type": "stream",
          "text": [
            "              precision    recall  f1-score   support\n",
            "\n",
            "       Bream       0.92      1.00      0.96        12\n",
            "      Parkki       1.00      0.83      0.91         6\n",
            "       Perch       0.65      0.94      0.77        18\n",
            "        Pike       1.00      1.00      1.00         3\n",
            "       Roach       0.00      0.00      0.00         6\n",
            "       Smelt       1.00      1.00      1.00         3\n",
            "   Whitefish       0.00      0.00      0.00         5\n",
            "\n",
            "    accuracy                           0.75        53\n",
            "   macro avg       0.65      0.68      0.66        53\n",
            "weighted avg       0.66      0.75      0.70        53\n",
            "\n"
          ],
          "name": "stdout"
        },
        {
          "output_type": "stream",
          "text": [
            "/usr/local/lib/python3.7/dist-packages/sklearn/metrics/_classification.py:1272: UndefinedMetricWarning: Precision and F-score are ill-defined and being set to 0.0 in labels with no predicted samples. Use `zero_division` parameter to control this behavior.\n",
            "  _warn_prf(average, modifier, msg_start, len(result))\n"
          ],
          "name": "stderr"
        }
      ]
    },
    {
      "cell_type": "markdown",
      "metadata": {
        "id": "_Ba8ysHZ3tqS"
      },
      "source": [
        "For K=2\r\n",
        "             precision    recall  f1-score   support\r\n",
        "\r\n",
        "       Bream       0.92      1.00      0.96        12\r\n",
        "      Parkki       1.00      0.83      0.91         6\r\n",
        "       Perch       0.57      0.89      0.70        18\r\n",
        "        Pike       1.00      1.00      1.00         3\r\n",
        "       Roach       0.00      0.00      0.00         6\r\n",
        "       Smelt       1.00      0.67      0.80         3\r\n",
        "       accuracy = 0.79\r\n",
        "\r\n",
        "For K=4     \r\n",
        "                  precision    recall  f1-score   support\r\n",
        "\r\n",
        "           1       1.00      1.00      1.00        11\r\n",
        "           2       0.64      0.95      0.77        19\r\n",
        "           3       0.80      1.00      0.89         4\r\n",
        "           4       1.00      0.75      0.86         4\r\n",
        "           5       0.00      0.00      0.00         6\r\n",
        "           6       0.00      0.00      0.00         3\r\n",
        "           accuracy = 0.70"
      ]
    },
    {
      "cell_type": "code",
      "metadata": {
        "colab": {
          "base_uri": "https://localhost:8080/"
        },
        "id": "G0faLAoJ6xTP",
        "outputId": "cfb8a040-ea94-45bf-9988-c90ea59bb01c"
      },
      "source": [
        "# confusion matrix for duffrent K \r\n",
        "print(confusion_matrix(y_test, knc.predict(X_test)))"
      ],
      "execution_count": null,
      "outputs": [
        {
          "output_type": "stream",
          "text": [
            "[[12  0  0  0  0  0  0]\n",
            " [ 1  5  0  0  0  0  0]\n",
            " [ 0  0 17  0  1  0  0]\n",
            " [ 0  0  0  3  0  0  0]\n",
            " [ 0  0  6  0  0  0  0]\n",
            " [ 0  0  0  0  0  3  0]\n",
            " [ 0  0  3  0  2  0  0]]\n"
          ],
          "name": "stdout"
        }
      ]
    },
    {
      "cell_type": "markdown",
      "metadata": {
        "id": "vL6Y6OD8-bdi"
      },
      "source": [
        "For k=2\r\n",
        "\r\n",
        "\r\n",
        "![k=2.PNG](data:image/png;base64,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)\r\n",
        "\r\n",
        "\r\n",
        "For K=4\r\n",
        "\r\n",
        "![k=4.PNG](data:image/png;base64,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)"
      ]
    },
    {
      "cell_type": "markdown",
      "metadata": {
        "id": "9RK1BI-HAHa6"
      },
      "source": [
        "Here as we can see that accuracy for KNN depends on value of K we selected in our model For different value of K=2,4,6 accuracy is 79%,70%,75% so results depend on numbers of neighbours and we can see it is not much Good result as it is not giving good result for species like Whitefish and Roach if we would neglate those features then defenetly accuracy is going to be High."
      ]
    }
  ]
}