{
  "nbformat": 4,
  "nbformat_minor": 0,
  "metadata": {
    "colab": {
      "name": "DIffrent_Distance.ipynb",
      "provenance": [],
      "authorship_tag": "ABX9TyO3vHPFKMkoGQVyoHMYxGuS",
      "include_colab_link": true
    },
    "kernelspec": {
      "name": "python3",
      "display_name": "Python 3"
    }
  },
  "cells": [
    {
      "cell_type": "markdown",
      "metadata": {
        "id": "view-in-github",
        "colab_type": "text"
      },
      "source": [
        "<a href=\"https://colab.research.google.com/github/Meet200/Machine_Learning-/blob/main/DIffrent_Distance.ipynb\" target=\"_parent\"><img src=\"https://colab.research.google.com/assets/colab-badge.svg\" alt=\"Open In Colab\"/></a>"
      ]
    },
    {
      "cell_type": "markdown",
      "metadata": {
        "id": "D7bDhZkp0IRv"
      },
      "source": [
        "# Euclidean Distacne \r\n",
        "It is calculated as the square root of the sum of differences between each point."
      ]
    },
    {
      "cell_type": "code",
      "metadata": {
        "id": "rPrkQ1zcugwB"
      },
      "source": [
        "# to calculate Euclidean Distance \r\n",
        "from math import sqrt\r\n",
        "import matplotlib.pyplot as plt\r\n",
        "def euclidean(x, y):\r\n",
        "  distance = 0\r\n",
        "  for a, b in zip(x, y):\r\n",
        "      distance += (sum([(pow((a-b),2))]))\r\n",
        "  return sqrt(distance)\r\n",
        "\r\n",
        "\r\n"
      ],
      "execution_count": 37,
      "outputs": []
    },
    {
      "cell_type": "code",
      "metadata": {
        "id": "Ec8uqXSuvm9Z",
        "colab": {
          "base_uri": "https://localhost:8080/"
        },
        "outputId": "39be0b88-87e4-40c0-bc07-58eeedbfa084"
      },
      "source": [
        "x=[1,2,3,4]\r\n",
        "y=[0.9,1,2,3]\r\n",
        "print(\"Euclidean Distance:\",euclidean(x,y))\r\n"
      ],
      "execution_count": 38,
      "outputs": [
        {
          "output_type": "stream",
          "text": [
            "Euclidean Distance: 1.7349351572897471\n"
          ],
          "name": "stdout"
        }
      ]
    },
    {
      "cell_type": "markdown",
      "metadata": {
        "id": "Nw67U94z0YzR"
      },
      "source": [
        "# MANHATTAN DISTANCE:\r\n",
        "Manhattan distance is calculated as the sum of absolute distances between two points."
      ]
    },
    {
      "cell_type": "code",
      "metadata": {
        "id": "F7XutbfIxfxY"
      },
      "source": [
        "# manhattan disctance calculation \r\n",
        "def manhattan(x, y):\r\n",
        "  distance=0\r\n",
        "  for a,b in zip(x,y):\r\n",
        "      distance += sum([abs(a-b)])\r\n",
        "  return distance\r\n"
      ],
      "execution_count": 39,
      "outputs": []
    },
    {
      "cell_type": "code",
      "metadata": {
        "colab": {
          "base_uri": "https://localhost:8080/"
        },
        "id": "gOgH6Heex3em",
        "outputId": "408d8cca-2717-46fa-e1d4-35343c3cc2f1"
      },
      "source": [
        "x=[1,2,3,4]\r\n",
        "y=[0.9,1,2,3]\r\n",
        "print(\"Manhattan  Distance:\",manhattan(x,y))\r\n"
      ],
      "execution_count": 40,
      "outputs": [
        {
          "output_type": "stream",
          "text": [
            "Manhattan  Distance: 3.1\n"
          ],
          "name": "stdout"
        }
      ]
    },
    {
      "cell_type": "markdown",
      "metadata": {
        "id": "jRrmiB-D0mb6"
      },
      "source": [
        "# COSINE SIMILARITY:\r\n",
        "It measures the cosine angle between the two vectors."
      ]
    },
    {
      "cell_type": "code",
      "metadata": {
        "id": "74KEmK7Yypwn"
      },
      "source": [
        "# cosine similarity \r\n",
        "def cosine_similarity(x,y):\r\n",
        "    numerator = 0\r\n",
        "    sum_x = 0\r\n",
        "    sum_y = 0\r\n",
        "    for a,b in zip(x,y):\r\n",
        "        numerator += sum([a * b])\r\n",
        "        sum_x += sum([a**2])\r\n",
        "        sum_y += sum([b**2])\r\n",
        "    denominator = round(sqrt(sum_x) * sqrt(sum_y))\r\n",
        "    return numerator / denominator"
      ],
      "execution_count": 41,
      "outputs": []
    },
    {
      "cell_type": "code",
      "metadata": {
        "colab": {
          "base_uri": "https://localhost:8080/"
        },
        "id": "3Itk85kHzL8L",
        "outputId": "1cde88a5-89e2-404f-99f0-77b703f0e1ec"
      },
      "source": [
        "x=[0.001,4,4,4]\r\n",
        "y=[12.56,14,10,2]\r\n",
        "print(\"cosine_similarity  :\",cosine_similarity(x,y))"
      ],
      "execution_count": 42,
      "outputs": [
        {
          "output_type": "stream",
          "text": [
            "cosine_similarity  : 0.7027875675675677\n"
          ],
          "name": "stdout"
        }
      ]
    },
    {
      "cell_type": "markdown",
      "metadata": {
        "id": "J9t1UHFF1a3o"
      },
      "source": [
        ""
      ]
    },
    {
      "cell_type": "code",
      "metadata": {
        "id": "vW43aVNo0-vr"
      },
      "source": [
        ""
      ],
      "execution_count": null,
      "outputs": []
    }
  ]
}