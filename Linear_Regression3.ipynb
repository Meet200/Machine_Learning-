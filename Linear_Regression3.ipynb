{
  "nbformat": 4,
  "nbformat_minor": 0,
  "metadata": {
    "colab": {
      "name": "Linear_Regression3.ipynb",
      "provenance": [],
      "authorship_tag": "ABX9TyOgyjkqLGCuQd2mQvQEEr91",
      "include_colab_link": true
    },
    "kernelspec": {
      "name": "python3",
      "display_name": "Python 3"
    }
  },
  "cells": [
    {
      "cell_type": "markdown",
      "metadata": {
        "id": "view-in-github",
        "colab_type": "text"
      },
      "source": [
        "<a href=\"https://colab.research.google.com/github/Meet200/Machine_Learning-/blob/main/Linear_Regression3.ipynb\" target=\"_parent\"><img src=\"https://colab.research.google.com/assets/colab-badge.svg\" alt=\"Open In Colab\"/></a>"
      ]
    },
    {
      "cell_type": "markdown",
      "metadata": {
        "id": "GtKjnYsWB2_h"
      },
      "source": [
        "Linear Regression and performance measure using sklearn on House dataset"
      ]
    },
    {
      "cell_type": "code",
      "metadata": {
        "id": "w0qFrZqWBqUt"
      },
      "source": [
        "import pandas\r\n",
        "from sklearn import model_selection\r\n",
        "from sklearn.linear_model import LinearRegression\r\n",
        "from math import sqrt\r\n"
      ],
      "execution_count": 21,
      "outputs": []
    },
    {
      "cell_type": "code",
      "metadata": {
        "id": "3flW7kxICAVk"
      },
      "source": [
        "url = \"https://raw.githubusercontent.com/jbrownlee/Datasets/master/housing.data\"\r\n",
        "names = ['CRIM', 'ZN', 'INDUS', 'CHAS', 'NOX', 'RM', 'AGE', 'DIS', 'RAD', 'TAX', 'PTRATIO', 'B', 'LSTAT', 'MEDV']\r\n",
        "dataframe = pandas.read_csv(url, delim_whitespace=True, names=names)"
      ],
      "execution_count": 22,
      "outputs": []
    },
    {
      "cell_type": "code",
      "metadata": {
        "id": "7g3Ifk6ZCDa-"
      },
      "source": [
        "array = dataframe.values\r\n",
        "X = array[:,0:13]\r\n",
        "Y = array[:,13]"
      ],
      "execution_count": 23,
      "outputs": []
    },
    {
      "cell_type": "code",
      "metadata": {
        "id": "HqD027NqCF6r"
      },
      "source": [
        "kfold = model_selection.KFold(n_splits=10, random_state=7, shuffle=True)\r\n",
        "model = LinearRegression()\r\n"
      ],
      "execution_count": 24,
      "outputs": []
    },
    {
      "cell_type": "markdown",
      "metadata": {
        "id": "dTxSkB4ZCSMT"
      },
      "source": [
        "# Mean Absolute Error "
      ]
    },
    {
      "cell_type": "code",
      "metadata": {
        "colab": {
          "base_uri": "https://localhost:8080/"
        },
        "id": "i_oY3eA0CJ1p",
        "outputId": "19b5e631-941e-4cf5-f41a-725dc2919a74"
      },
      "source": [
        "scoring = 'neg_mean_absolute_error'\r\n",
        "results = model_selection.cross_val_score(model, X, Y, cv=kfold, scoring=scoring)\r\n",
        "print(\"MAE: %.3f (%.3f)\" % (results.mean(), results.std()))"
      ],
      "execution_count": 25,
      "outputs": [
        {
          "output_type": "stream",
          "text": [
            "MAE: -3.387 (0.667)\n"
          ],
          "name": "stdout"
        }
      ]
    },
    {
      "cell_type": "markdown",
      "metadata": {
        "id": "p8yB6PAzCeVz"
      },
      "source": [
        "# Mean Square Error"
      ]
    },
    {
      "cell_type": "code",
      "metadata": {
        "colab": {
          "base_uri": "https://localhost:8080/"
        },
        "id": "QaPVJqtdCY5M",
        "outputId": "869efe10-df46-4556-ea34-71cd1585540b"
      },
      "source": [
        "scoring = 'neg_mean_squared_error'\r\n",
        "results = model_selection.cross_val_score(model, X, Y, cv=kfold, scoring=scoring)\r\n",
        "print(\"MSE: %.3f (%.3f)\" % (results.mean(), results.std()))"
      ],
      "execution_count": 26,
      "outputs": [
        {
          "output_type": "stream",
          "text": [
            "MSE: -23.747 (11.143)\n"
          ],
          "name": "stdout"
        }
      ]
    },
    {
      "cell_type": "markdown",
      "metadata": {
        "id": "aEFu-G0WDYUS"
      },
      "source": [
        "#R Squared Matric"
      ]
    },
    {
      "cell_type": "code",
      "metadata": {
        "colab": {
          "base_uri": "https://localhost:8080/"
        },
        "id": "CCzJka__DVK-",
        "outputId": "6c2849c7-2cde-41c7-b094-9df49a9eee2e"
      },
      "source": [
        "scoring = 'r2'\r\n",
        "results = model_selection.cross_val_score(model, X, Y, cv=kfold, scoring=scoring)\r\n",
        "print(\"R^2: %.3f (%.3f)\" % (results.mean(), results.std()))"
      ],
      "execution_count": 27,
      "outputs": [
        {
          "output_type": "stream",
          "text": [
            "R^2: 0.718 (0.099)\n"
          ],
          "name": "stdout"
        }
      ]
    }
  ]
}