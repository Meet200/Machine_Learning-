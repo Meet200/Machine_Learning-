{
  "nbformat": 4,
  "nbformat_minor": 0,
  "metadata": {
    "colab": {
      "name": "Activation Functions.ipynb",
      "provenance": [],
      "collapsed_sections": [],
      "authorship_tag": "ABX9TyOx98g8I+Y5vzDw0qps7F9B",
      "include_colab_link": true
    },
    "kernelspec": {
      "name": "python3",
      "display_name": "Python 3"
    },
    "language_info": {
      "name": "python"
    }
  },
  "cells": [
    {
      "cell_type": "markdown",
      "metadata": {
        "id": "view-in-github",
        "colab_type": "text"
      },
      "source": [
        "<a href=\"https://colab.research.google.com/github/Meet200/Machine_Learning-/blob/main/Activation_Functions.ipynb\" target=\"_parent\"><img src=\"https://colab.research.google.com/assets/colab-badge.svg\" alt=\"Open In Colab\"/></a>"
      ]
    },
    {
      "cell_type": "code",
      "metadata": {
        "id": "pCyenxM_s_w2"
      },
      "source": [
        "%matplotlib inline \n",
        "import matplotlib.pyplot as plt\n",
        "import seaborn as sns"
      ],
      "execution_count": null,
      "outputs": []
    },
    {
      "cell_type": "markdown",
      "metadata": {
        "id": "uAhEVoyd2yGO"
      },
      "source": [
        "##Plot Fucntion"
      ]
    },
    {
      "cell_type": "code",
      "metadata": {
        "id": "wqb-iQ-btvjr"
      },
      "source": [
        "#plot function\n",
        "def plot_fun(x,y,title):\n",
        "  plt.figure(figsize=(5,3)).gca()\n",
        "  plt.plot(x,y)\n",
        "  plt.xlabel('x')\n",
        "  plt.ylabel('y')\n",
        "  plt.title(title)\n"
      ],
      "execution_count": null,
      "outputs": []
    },
    {
      "cell_type": "markdown",
      "metadata": {
        "id": "4de7GhTV21V5"
      },
      "source": [
        "ReLu"
      ]
    },
    {
      "cell_type": "code",
      "metadata": {
        "id": "AMyXvIK8tMkM"
      },
      "source": [
        "# ReLu\n",
        "def relu(x):\n",
        "  return (max(0,x))"
      ],
      "execution_count": null,
      "outputs": []
    },
    {
      "cell_type": "code",
      "metadata": {
        "id": "FoqsAwwktXHA"
      },
      "source": [
        "x=[float(x)/100 for x in range(-100,100)]\n",
        "y = [relu(x1) for x1 in x]"
      ],
      "execution_count": null,
      "outputs": []
    },
    {
      "cell_type": "code",
      "metadata": {
        "colab": {
          "base_uri": "https://localhost:8080/",
          "height": 241
        },
        "id": "8jpQ3yiuujXK",
        "outputId": "59afbef4-e5b5-47f8-d6a8-b4c476b53b2b"
      },
      "source": [
        "#ploting relu function \n",
        "plot_fun(x,y,'Relu')"
      ],
      "execution_count": null,
      "outputs": [
        {
          "output_type": "display_data",
          "data": {
            "image/png": "[encoded data removed]",
            "text/plain": [
              "<Figure size 360x216 with 1 Axes>"
            ]
          },
          "metadata": {
            "tags": [],
            "needs_background": "light"
          }
        }
      ]
    },
    {
      "cell_type": "markdown",
      "metadata": {
        "id": "KpE5WjDf26ar"
      },
      "source": [
        "sigmoid"
      ]
    },
    {
      "cell_type": "code",
      "metadata": {
        "id": "N7BD0SAduyC-"
      },
      "source": [
        "# sigmoid function\n",
        "from math import exp\n",
        "def sigmoid(x):\n",
        "  return(exp(x)/(1+exp(x)))"
      ],
      "execution_count": null,
      "outputs": []
    },
    {
      "cell_type": "code",
      "metadata": {
        "id": "MBQ9Z30hu8Pb"
      },
      "source": [
        "x=[float(x)/100 for x in range(-500,500)]\n",
        "y = [sigmoid(x1) for x1 in x]\n"
      ],
      "execution_count": null,
      "outputs": []
    },
    {
      "cell_type": "code",
      "metadata": {
        "colab": {
          "base_uri": "https://localhost:8080/",
          "height": 241
        },
        "id": "iEadlohSvEaV",
        "outputId": "82ff393a-00e9-4b41-c9b4-c78334459da3"
      },
      "source": [
        "plot_fun(x,y,\"Sigmoid\")"
      ],
      "execution_count": null,
      "outputs": [
        {
          "output_type": "display_data",
          "data": {
            "image/png": "[encoded data removed]",
            "text/plain": [
              "<Figure size 360x216 with 1 Axes>"
            ]
          },
          "metadata": {
            "tags": [],
            "needs_background": "light"
          }
        }
      ]
    },
    {
      "cell_type": "markdown",
      "metadata": {
        "id": "ra8cLIu728fp"
      },
      "source": [
        "Binary Function"
      ]
    },
    {
      "cell_type": "code",
      "metadata": {
        "id": "zNbXyQKW1G3d"
      },
      "source": [
        "# Binary function\n",
        "def binary_step(x):\n",
        "    if x<0:\n",
        "        return 0\n",
        "    else:\n",
        "        return 1"
      ],
      "execution_count": null,
      "outputs": []
    },
    {
      "cell_type": "code",
      "metadata": {
        "id": "NZb1H3tO1K8z"
      },
      "source": [
        "x=[float(x)/100 for x in range(-100,100)]\n",
        "y = [binary_step(x1) for x1 in x]"
      ],
      "execution_count": null,
      "outputs": []
    },
    {
      "cell_type": "code",
      "metadata": {
        "colab": {
          "base_uri": "https://localhost:8080/",
          "height": 241
        },
        "id": "10bcHqQ21aju",
        "outputId": "11defb9f-de3d-4b73-c790-197575d5c2f9"
      },
      "source": [
        "plot_fun(x,y,\"Binary Function\")"
      ],
      "execution_count": null,
      "outputs": [
        {
          "output_type": "display_data",
          "data": {
            "image/png": "[encoded data removed]",
            "text/plain": [
              "<Figure size 360x216 with 1 Axes>"
            ]
          },
          "metadata": {
            "tags": [],
            "needs_background": "light"
          }
        }
      ]
    },
    {
      "cell_type": "markdown",
      "metadata": {
        "id": "BQcH7zwK3AiB"
      },
      "source": [
        "Linear function"
      ]
    },
    {
      "cell_type": "code",
      "metadata": {
        "id": "R4JoXTOu1e4r"
      },
      "source": [
        "#linear function\n",
        "import numpy as np\n",
        "\n",
        "def linear_function(x):\n",
        "    return x"
      ],
      "execution_count": null,
      "outputs": []
    },
    {
      "cell_type": "code",
      "metadata": {
        "id": "51krNNnY148e"
      },
      "source": [
        "x=[float(x)/100 for x in range(-100,100)]\n",
        "y = [linear_function(x1) for x1 in x]"
      ],
      "execution_count": null,
      "outputs": []
    },
    {
      "cell_type": "code",
      "metadata": {
        "colab": {
          "base_uri": "https://localhost:8080/",
          "height": 241
        },
        "id": "bWx3pFSw18h3",
        "outputId": "753ab34a-f637-4700-b6fa-83584bda947e"
      },
      "source": [
        "plot_fun(x,y,\"Linear Function\")"
      ],
      "execution_count": null,
      "outputs": [
        {
          "output_type": "display_data",
          "data": {
            "image/png": "[encoded data removed]",
            "text/plain": [
              "<Figure size 360x216 with 1 Axes>"
            ]
          },
          "metadata": {
            "tags": [],
            "needs_background": "light"
          }
        }
      ]
    },
    {
      "cell_type": "markdown",
      "metadata": {
        "id": "R7c0BFeG3Cpn"
      },
      "source": [
        "tanh function"
      ]
    },
    {
      "cell_type": "code",
      "metadata": {
        "id": "Sd-s3Q5y2E1O"
      },
      "source": [
        "#tanh function\n",
        "def tanh_function(x):\n",
        "    z = (2/(1 + np.exp(-2*x))) -1\n",
        "    return z\n"
      ],
      "execution_count": null,
      "outputs": []
    },
    {
      "cell_type": "code",
      "metadata": {
        "id": "qG_FFmHn2T3W"
      },
      "source": [
        "x=[float(x)/100 for x in range(-300,300)]\n",
        "y = [tanh_function(x1) for x1 in x]"
      ],
      "execution_count": null,
      "outputs": []
    },
    {
      "cell_type": "code",
      "metadata": {
        "colab": {
          "base_uri": "https://localhost:8080/",
          "height": 241
        },
        "id": "rV35aBKa2WQo",
        "outputId": "50b967c9-1d93-4a4e-97b9-061a4376bc44"
      },
      "source": [
        "plot_fun(x,y,\"Tanh\")"
      ],
      "execution_count": null,
      "outputs": [
        {
          "output_type": "display_data",
          "data": {
            "image/png": "[encoded data removed]",
            "text/plain": [
              "<Figure size 360x216 with 1 Axes>"
            ]
          },
          "metadata": {
            "tags": [],
            "needs_background": "light"
          }
        }
      ]
    },
    {
      "cell_type": "markdown",
      "metadata": {
        "id": "_R0NJTDf3O6X"
      },
      "source": [
        "Leaky Relu"
      ]
    },
    {
      "cell_type": "code",
      "metadata": {
        "id": "_Y_i6Ldl2qKg"
      },
      "source": [
        "def leaky_relu(x):\n",
        "    if x<0:\n",
        "        return 0.01*x\n",
        "    else:\n",
        "        return x"
      ],
      "execution_count": null,
      "outputs": []
    },
    {
      "cell_type": "code",
      "metadata": {
        "id": "9nnCs9tT3Tfe"
      },
      "source": [
        "x=[float(x)/100 for x in range(-800,800)]\n",
        "y = [leaky_relu(x1) for x1 in x]"
      ],
      "execution_count": null,
      "outputs": []
    },
    {
      "cell_type": "code",
      "metadata": {
        "colab": {
          "base_uri": "https://localhost:8080/",
          "height": 241
        },
        "id": "u2iQz-T23Wh6",
        "outputId": "8794124f-7555-4be7-f6d1-4b26b013c743"
      },
      "source": [
        "plot_fun(x,y,\"Leaky Relu\")"
      ],
      "execution_count": null,
      "outputs": [
        {
          "output_type": "display_data",
          "data": {
            "image/png": "[encoded data removed]",
            "text/plain": [
              "<Figure size 360x216 with 1 Axes>"
            ]
          },
          "metadata": {
            "tags": [],
            "needs_background": "light"
          }
        }
      ]
    },
    {
      "cell_type": "markdown",
      "metadata": {
        "id": "UBwVClED30GE"
      },
      "source": [
        "Swish function"
      ]
    },
    {
      "cell_type": "code",
      "metadata": {
        "id": "DPMr7j6r3zU4"
      },
      "source": [
        "def swish_function(x):\n",
        "    return x/(1-np.exp(-x))"
      ],
      "execution_count": null,
      "outputs": []
    },
    {
      "cell_type": "code",
      "metadata": {
        "colab": {
          "base_uri": "https://localhost:8080/",
          "height": 278
        },
        "id": "XQfEXP074C5U",
        "outputId": "7c993a4b-c6e1-4048-8148-bf8cadd9fde2"
      },
      "source": [
        "x=[float(x)/100 for x in range(-500,500)]\n",
        "y = [swish_function(x1) for x1 in x]\n",
        "plot_fun(x,y,\"Swish Fucntion\")"
      ],
      "execution_count": null,
      "outputs": [
        {
          "output_type": "stream",
          "text": [
            "/usr/local/lib/python3.7/dist-packages/ipykernel_launcher.py:2: RuntimeWarning: invalid value encountered in double_scalars\n",
            "  \n"
          ],
          "name": "stderr"
        },
        {
          "output_type": "display_data",
          "data": {
            "image/png": "[encoded data removed]",
            "text/plain": [
              "<Figure size 360x216 with 1 Axes>"
            ]
          },
          "metadata": {
            "tags": [],
            "needs_background": "light"
          }
        }
      ]
    },
    {
      "cell_type": "markdown",
      "metadata": {
        "id": "eB4OpugX4lCo"
      },
      "source": [
        "Step Function"
      ]
    },
    {
      "cell_type": "code",
      "metadata": {
        "id": "7F_zQlA14RTe"
      },
      "source": [
        "# Step function\n",
        "def step(x):\n",
        "    if x<0:\n",
        "        return 0\n",
        "    else:\n",
        "        return 3"
      ],
      "execution_count": null,
      "outputs": []
    },
    {
      "cell_type": "code",
      "metadata": {
        "colab": {
          "base_uri": "https://localhost:8080/",
          "height": 241
        },
        "id": "MOt1K_Kh5eBC",
        "outputId": "07abf08b-f9c8-4512-b380-def3c08dfe4c"
      },
      "source": [
        "x=[float(x)/100 for x in range(-500,500)]\n",
        "y = [step(x1) for x1 in x]\n",
        "plot_fun(x,y,\"Step Fucntion\")"
      ],
      "execution_count": null,
      "outputs": [
        {
          "output_type": "display_data",
          "data": {
            "image/png": "[encoded data removed]",
            "text/plain": [
              "<Figure size 360x216 with 1 Axes>"
            ]
          },
          "metadata": {
            "tags": [],
            "needs_background": "light"
          }
        }
      ]
    }
  ]
}