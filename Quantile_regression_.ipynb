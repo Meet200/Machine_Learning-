{
  "nbformat": 4,
  "nbformat_minor": 0,
  "metadata": {
    "colab": {
      "name": "Quantile_regression .ipynb",
      "provenance": [],
      "authorship_tag": "ABX9TyPU7g68zI+fg5DeIgNJ/vLc",
      "include_colab_link": true
    },
    "kernelspec": {
      "name": "python3",
      "display_name": "Python 3"
    }
  },
  "cells": [
    {
      "cell_type": "markdown",
      "metadata": {
        "id": "view-in-github",
        "colab_type": "text"
      },
      "source": [
        "<a href=\"https://colab.research.google.com/github/Meet200/Machine_Learning-/blob/main/Quantile_regression_.ipynb\" target=\"_parent\"><img src=\"https://colab.research.google.com/assets/colab-badge.svg\" alt=\"Open In Colab\"/></a>"
      ]
    },
    {
      "cell_type": "code",
      "metadata": {
        "id": "4yGVqIdU8DdT"
      },
      "source": [
        "\r\n",
        "\r\n",
        "%matplotlib inline\r\n",
        "\r\n",
        "from __future__ import print_function\r\n",
        "import patsy\r\n",
        "import numpy as np\r\n",
        "import pandas as pd\r\n",
        "import statsmodels.api as sm\r\n",
        "import statsmodels.formula.api as smf\r\n",
        "import matplotlib.pyplot as plt\r\n",
        "from statsmodels.regression.quantile_regression import QuantReg\r\n",
        "\r\n"
      ],
      "execution_count": 28,
      "outputs": []
    },
    {
      "cell_type": "code",
      "metadata": {
        "id": "fryvzO5a8knT"
      },
      "source": [
        "from google.colab import drive"
      ],
      "execution_count": 29,
      "outputs": []
    },
    {
      "cell_type": "code",
      "metadata": {
        "colab": {
          "base_uri": "https://localhost:8080/"
        },
        "id": "6YuIG0bz8nAz",
        "outputId": "b4b9f2c5-5d5b-4a20-edaa-2222102361f9"
      },
      "source": [
        "drive.mount('/content/drive')"
      ],
      "execution_count": 30,
      "outputs": [
        {
          "output_type": "stream",
          "text": [
            "Drive already mounted at /content/drive; to attempt to forcibly remount, call drive.mount(\"/content/drive\", force_remount=True).\n"
          ],
          "name": "stdout"
        }
      ]
    },
    {
      "cell_type": "code",
      "metadata": {
        "colab": {
          "base_uri": "https://localhost:8080/"
        },
        "id": "5nPFd7Rm8uLy",
        "outputId": "901590dc-ba1b-491d-def6-71a58d1210a2"
      },
      "source": [
        "cd /content/drive/\"My Drive/Colab Notebooks/Quantile regression\""
      ],
      "execution_count": 31,
      "outputs": [
        {
          "output_type": "stream",
          "text": [
            "/content/drive/My Drive/Colab Notebooks/Quantile regression\n"
          ],
          "name": "stdout"
        }
      ]
    },
    {
      "cell_type": "code",
      "metadata": {
        "colab": {
          "base_uri": "https://localhost:8080/"
        },
        "id": "Jbc3Tans86PJ",
        "outputId": "54b19b35-d505-46fc-d623-b4307e816ce8"
      },
      "source": [
        "# reading dataset and taking information \r\n",
        "house_dataset = pd.read_csv(\"MagicBricks.csv\")\r\n",
        "print(house_dataset)\r\n",
        "house_dataset.info()\r\n"
      ],
      "execution_count": 32,
      "outputs": [
        {
          "output_type": "stream",
          "text": [
            "         Area  BHK  Bathroom  ...   Transaction           Type  Per_Sqft\n",
            "0       800.0    3       2.0  ...  New_Property  Builder_Floor       NaN\n",
            "1       750.0    2       2.0  ...  New_Property      Apartment    6667.0\n",
            "2       950.0    2       2.0  ...        Resale      Apartment    6667.0\n",
            "3       600.0    2       2.0  ...        Resale  Builder_Floor    6667.0\n",
            "4       650.0    2       2.0  ...  New_Property  Builder_Floor    6667.0\n",
            "...       ...  ...       ...  ...           ...            ...       ...\n",
            "1254   4118.0    4       5.0  ...  New_Property  Builder_Floor   12916.0\n",
            "1255   1050.0    3       2.0  ...        Resale  Builder_Floor   12916.0\n",
            "1256    875.0    3       3.0  ...  New_Property  Builder_Floor   12916.0\n",
            "1257    990.0    2       2.0  ...        Resale  Builder_Floor   12916.0\n",
            "1258  11050.0    3       3.0  ...  New_Property  Builder_Floor   12916.0\n",
            "\n",
            "[1259 rows x 11 columns]\n",
            "<class 'pandas.core.frame.DataFrame'>\n",
            "RangeIndex: 1259 entries, 0 to 1258\n",
            "Data columns (total 11 columns):\n",
            " #   Column       Non-Null Count  Dtype  \n",
            "---  ------       --------------  -----  \n",
            " 0   Area         1259 non-null   float64\n",
            " 1   BHK          1259 non-null   int64  \n",
            " 2   Bathroom     1257 non-null   float64\n",
            " 3   Furnishing   1254 non-null   object \n",
            " 4   Locality     1259 non-null   object \n",
            " 5   Parking      1226 non-null   float64\n",
            " 6   Price        1259 non-null   int64  \n",
            " 7   Status       1259 non-null   object \n",
            " 8   Transaction  1259 non-null   object \n",
            " 9   Type         1254 non-null   object \n",
            " 10  Per_Sqft     1018 non-null   float64\n",
            "dtypes: float64(4), int64(2), object(5)\n",
            "memory usage: 108.3+ KB\n"
          ],
          "name": "stdout"
        }
      ]
    },
    {
      "cell_type": "code",
      "metadata": {
        "colab": {
          "base_uri": "https://localhost:8080/",
          "height": 691
        },
        "id": "Z6r5Gq8b99Dq",
        "outputId": "8e8e72a4-6422-477e-af0d-fd9856a0a8f6"
      },
      "source": [
        "# ploting scatterplot of house price v/s Are \r\n",
        "from pylab import rcParams\r\n",
        "rcParams['figure.figsize'] = 20,10\r\n",
        "sns.scatterplot(house_dataset['Area'],house_dataset['Price'])"
      ],
      "execution_count": 54,
      "outputs": [
        {
          "output_type": "stream",
          "text": [
            "/usr/local/lib/python3.6/dist-packages/seaborn/_decorators.py:43: FutureWarning: Pass the following variables as keyword args: x, y. From version 0.12, the only valid positional argument will be `data`, and passing other arguments without an explicit keyword will result in an error or misinterpretation.\n",
            "  FutureWarning\n"
          ],
          "name": "stderr"
        },
        {
          "output_type": "execute_result",
          "data": {
            "text/plain": [
              "<matplotlib.axes._subplots.AxesSubplot at 0x7f105aa26160>"
            ]
          },
          "metadata": {
            "tags": []
          },
          "execution_count": 54
        },
        {
          "output_type": "display_data",
          "data": {
            "image/png": "[encoded data removed]",
            "text/plain": [
              "<Figure size 1440x720 with 1 Axes>"
            ]
          },
          "metadata": {
            "tags": [],
            "needs_background": "light"
          }
        }
      ]
    },
    {
      "cell_type": "code",
      "metadata": {
        "colab": {
          "base_uri": "https://localhost:8080/",
          "height": 717
        },
        "id": "XIUbORGS_wjT",
        "outputId": "ff35aabe-f20f-4368-ddfb-6ab1bda2c40e"
      },
      "source": [
        "#checking skreweed datas & boxplot\r\n",
        "sns.distplot(house_dataset['Price'])\r\n",
        "sns.boxplot(house_dataset['Price'])"
      ],
      "execution_count": 53,
      "outputs": [
        {
          "output_type": "stream",
          "text": [
            "/usr/local/lib/python3.6/dist-packages/seaborn/distributions.py:2557: FutureWarning: `distplot` is a deprecated function and will be removed in a future version. Please adapt your code to use either `displot` (a figure-level function with similar flexibility) or `histplot` (an axes-level function for histograms).\n",
            "  warnings.warn(msg, FutureWarning)\n",
            "/usr/local/lib/python3.6/dist-packages/seaborn/_decorators.py:43: FutureWarning: Pass the following variable as a keyword arg: x. From version 0.12, the only valid positional argument will be `data`, and passing other arguments without an explicit keyword will result in an error or misinterpretation.\n",
            "  FutureWarning\n"
          ],
          "name": "stderr"
        },
        {
          "output_type": "execute_result",
          "data": {
            "text/plain": [
              "<matplotlib.axes._subplots.AxesSubplot at 0x7f105ae119e8>"
            ]
          },
          "metadata": {
            "tags": []
          },
          "execution_count": 53
        },
        {
          "output_type": "display_data",
          "data": {
            "image/png": "[encoded data removed]",
            "text/plain": [
              "<Figure size 1440x720 with 1 Axes>"
            ]
          },
          "metadata": {
            "tags": [],
            "needs_background": "light"
          }
        }
      ]
    },
    {
      "cell_type": "code",
      "metadata": {
        "colab": {
          "base_uri": "https://localhost:8080/"
        },
        "id": "ZKyFIGv8CZrA",
        "outputId": "167dd0c1-df19-4f72-edbb-9e632d6bc450"
      },
      "source": [
        "mod = smf.quantreg('Price ~ Area', house_dataset)\r\n",
        "res = mod.fit(q=0.5)\r\n",
        "print(res.summary())"
      ],
      "execution_count": 43,
      "outputs": [
        {
          "output_type": "stream",
          "text": [
            "                         QuantReg Regression Results                          \n",
            "==============================================================================\n",
            "Dep. Variable:                  Price   Pseudo R-squared:               0.3833\n",
            "Model:                       QuantReg   Bandwidth:                   3.258e+06\n",
            "Method:                 Least Squares   Sparsity:                    1.575e+07\n",
            "Date:                Thu, 04 Feb 2021   No. Observations:                 1259\n",
            "Time:                        12:40:28   Df Residuals:                     1257\n",
            "                                        Df Model:                            1\n",
            "==============================================================================\n",
            "                 coef    std err          t      P>|t|      [0.025      0.975]\n",
            "------------------------------------------------------------------------------\n",
            "Intercept  -5.857e+06   3.04e+05    -19.267      0.000   -6.45e+06   -5.26e+06\n",
            "Area        1.775e+04    141.620    125.370      0.000    1.75e+04     1.8e+04\n",
            "==============================================================================\n",
            "\n",
            "The condition number is large, 2.94e+03. This might indicate that there are\n",
            "strong multicollinearity or other numerical problems.\n"
          ],
          "name": "stdout"
        },
        {
          "output_type": "stream",
          "text": [
            "/usr/local/lib/python3.6/dist-packages/statsmodels/regression/quantile_regression.py:192: IterationLimitWarning: Maximum number of iterations (1000) reached.\n",
            "  \") reached.\", IterationLimitWarning)\n"
          ],
          "name": "stderr"
        }
      ]
    },
    {
      "cell_type": "code",
      "metadata": {
        "colab": {
          "base_uri": "https://localhost:8080/"
        },
        "id": "HLBwbb68AKvs",
        "outputId": "7adcb2c3-1b1b-4be8-d2e5-8d3ebd2c4d86"
      },
      "source": [
        "quantiles = np.arange(.05, .96, .1)\r\n",
        "\r\n",
        "def fit_model(q):\r\n",
        "    res = mod.fit(q=q)\r\n",
        "    return [q, res.params['Intercept'], res.params['Area']] + res.conf_int().loc['Area'].tolist()\r\n",
        "\r\n",
        "models = [fit_model(x) for x in quantiles]\r\n",
        "models = pd.DataFrame(models, columns = ['q', 'a', 'b', 'lb', 'ub'])\r\n",
        "ols = smf.ols('Price ~ Area', house_dataset).fit()\r\n",
        "ols_ci = ols.conf_int().loc['Area'].tolist()\r\n",
        "ols = dict(a = ols.params['Intercept'], \r\n",
        "          b = ols.params['Area'],\r\n",
        "          lb = ols_ci[0], \r\n",
        "          ub = ols_ci[1])\r\n",
        "print(models)\r\n",
        "print(ols)"
      ],
      "execution_count": 44,
      "outputs": [
        {
          "output_type": "stream",
          "text": [
            "      q             a             b            lb            ub\n",
            "0  0.05  8.636895e-02   2098.765429   1481.475601   2716.055257\n",
            "1  0.15 -6.783116e+05   6396.247894   5969.242836   6823.252951\n",
            "2  0.25 -3.508403e+06  11484.593838  11174.694776  11794.492899\n",
            "3  0.35 -4.735484e+06  14301.075269  14004.946566  14597.203972\n",
            "4  0.45 -5.759494e+06  16835.443038  16549.306419  17121.579657\n",
            "5  0.55 -6.103448e+06  18773.946360  18502.266094  19045.626627\n",
            "6  0.65 -6.947059e+06  21529.411765  21244.858078  21813.965452\n",
            "7  0.75 -6.649025e+06  23286.908078  22965.450310  23608.365846\n",
            "8  0.85 -7.408257e+06  27522.935780  27097.072318  27948.799241\n",
            "9  0.95 -1.727391e+06  30215.923821  28593.631270  31838.216372\n",
            "{'a': 7400145.699394266, 'b': 9483.127416756279, 'lb': 8747.712271676224, 'ub': 10218.542561836333}\n"
          ],
          "name": "stdout"
        },
        {
          "output_type": "stream",
          "text": [
            "/usr/local/lib/python3.6/dist-packages/statsmodels/regression/quantile_regression.py:192: IterationLimitWarning: Maximum number of iterations (1000) reached.\n",
            "  \") reached.\", IterationLimitWarning)\n"
          ],
          "name": "stderr"
        }
      ]
    },
    {
      "cell_type": "code",
      "metadata": {
        "colab": {
          "base_uri": "https://localhost:8080/",
          "height": 502
        },
        "id": "JU_fS3L_D5Gl",
        "outputId": "75a17d8d-343f-4f28-ce27-d0c5b8dc8918"
      },
      "source": [
        "x = np.arange(house_dataset.Area.min(), house_dataset.Area.max(), 50)\r\n",
        "get_y = lambda a, b: a + b * x\r\n",
        "\r\n",
        "fig, ax = plt.subplots(figsize=(8,8))\r\n",
        "\r\n",
        "for i in range(models.shape[0]):\r\n",
        "    y = get_y(models.a[i], models.b[i])\r\n",
        "    ax.plot(x, y, linestyle = 'dotted', color = 'grey')\r\n",
        "y = get_y(ols['a'], ols['b'])\r\n",
        "\r\n",
        "ax.plot(x, y, color='red', label='OLS')\r\n",
        "ax.scatter(house_dataset.Area,house_dataset.Price, alpha=.001)\r\n",
        "ax.set_xlim((240, 25000))\r\n",
        "ax.set_ylim((240, 7))\r\n",
        "legend = ax.legend()\r\n",
        "ax.set_xlabel('Area', fontsize = 16)\r\n",
        "ax.set_ylabel('Price', fontsize = 16);"
      ],
      "execution_count": 52,
      "outputs": [
        {
          "output_type": "display_data",
          "data": {
            "image/png": "[encoded data removed]",
            "text/plain": [
              "<Figure size 576x576 with 1 Axes>"
            ]
          },
          "metadata": {
            "tags": [],
            "needs_background": "light"
          }
        }
      ]
    }
  ]
}